{
 "cells": [
  {
   "cell_type": "markdown",
   "metadata": {},
   "source": [
    "### Chapter 9: Ordinary differential equations (ODEs)\n",
    "* DiffEqs: equations where the unknown quantity is a function (not a variable).\n",
    "* Ordinary DiffEqs: unknown function has only one independent variable w.r.t. to derivatives in the equation.\n",
    "* Example (1st order ODE): **Newton's Law of Cooling**: dT(t)/dt = -k(T(t)-Ta) == describes body temperature T(t) in surrounding with ambient temperature Ta. Solution is T(t) = Ta+(T0-Ta)*e^-kt.\n",
    "\n",
    "* Boundary conditions types: *initial value* (IV) & *boundary value* (BV).\n",
    "\n",
    "# TODO: solve matplotlib  / latex plotting error"
   ]
  },
  {
   "cell_type": "code",
   "execution_count": 1,
   "metadata": {
    "collapsed": false
   },
   "outputs": [],
   "source": [
    "import numpy as np"
   ]
  },
  {
   "cell_type": "code",
   "execution_count": 2,
   "metadata": {
    "collapsed": false
   },
   "outputs": [],
   "source": [
    "%matplotlib inline\n",
    "%config InlineBackend.figure_format='retina'\n",
    "import matplotlib.pyplot as plt\n",
    "import matplotlib as mpl\n",
    "#mpl.rcParams['text.usetex'] = True"
   ]
  },
  {
   "cell_type": "code",
   "execution_count": 3,
   "metadata": {
    "collapsed": false
   },
   "outputs": [],
   "source": [
    "import sympy\n",
    "sympy.init_printing()"
   ]
  },
  {
   "cell_type": "code",
   "execution_count": 4,
   "metadata": {
    "collapsed": false
   },
   "outputs": [],
   "source": [
    "from scipy import integrate"
   ]
  },
  {
   "cell_type": "markdown",
   "metadata": {},
   "source": [
    "### Symbolic ODE solving with SymPy"
   ]
  },
  {
   "cell_type": "markdown",
   "metadata": {},
   "source": [
    "### Newton's law of cooling"
   ]
  },
  {
   "cell_type": "code",
   "execution_count": 5,
   "metadata": {
    "collapsed": false
   },
   "outputs": [],
   "source": [
    "t, k, T0, Ta = sympy.symbols(\"t, k, T_0, T_a\")\n",
    "T            = sympy.Function(\"T\")"
   ]
  },
  {
   "cell_type": "code",
   "execution_count": 6,
   "metadata": {
    "collapsed": false
   },
   "outputs": [
    {
     "data": {
      "image/png": "[encoded data removed]",
      "text/latex": [
       "$$k \\left(- T_{a} + T{\\left (t \\right )}\\right) + \\frac{d}{d t} T{\\left (t \\right )}$$"
      ],
      "text/plain": [
       "                 d       \n",
       "k⋅(-Tₐ + T(t)) + ──(T(t))\n",
       "                 dt      "
      ]
     },
     "execution_count": 6,
     "metadata": {},
     "output_type": "execute_result"
    }
   ],
   "source": [
    "ode = T(t).diff(t) + k*(T(t) - Ta)\n",
    "ode"
   ]
  },
  {
   "cell_type": "code",
   "execution_count": 7,
   "metadata": {
    "collapsed": false
   },
   "outputs": [
    {
     "data": {
      "image/png": "[encoded data removed]",
      "text/latex": [
       "$$T{\\left (t \\right )} = C_{1} e^{- k t} + T_{a}$$"
      ],
      "text/plain": [
       "           -k⋅t     \n",
       "T(t) = C₁⋅ℯ     + Tₐ"
      ]
     },
     "execution_count": 7,
     "metadata": {},
     "output_type": "execute_result"
    }
   ],
   "source": [
    "# returns symbolic equality object\n",
    "ode_sol = sympy.dsolve(ode)\n",
    "ode_sol"
   ]
  },
  {
   "cell_type": "code",
   "execution_count": 8,
   "metadata": {
    "collapsed": false
   },
   "outputs": [
    {
     "data": {
      "image/png": "[encoded data removed]",
      "text/latex": [
       "$$\\left ( T{\\left (t \\right )}, \\quad C_{1} e^{- k t} + T_{a}\\right )$$"
      ],
      "text/plain": [
       "⎛          -k⋅t     ⎞\n",
       "⎝T(t), C₁⋅ℯ     + Tₐ⎠"
      ]
     },
     "execution_count": 8,
     "metadata": {},
     "output_type": "execute_result"
    }
   ],
   "source": [
    "# left- and right-hand sides of the equality\n",
    "ode_sol.lhs, ode_sol.rhs"
   ]
  },
  {
   "cell_type": "code",
   "execution_count": 9,
   "metadata": {
    "collapsed": false
   },
   "outputs": [
    {
     "data": {
      "image/png": "[encoded data removed]",
      "text/latex": [
       "$$\\left \\{ T{\\left (0 \\right )} : T_{0}\\right \\}$$"
      ],
      "text/plain": [
       "{T(0): T₀}"
      ]
     },
     "execution_count": 9,
     "metadata": {},
     "output_type": "execute_result"
    }
   ],
   "source": [
    "# define initial condition\n",
    "ics = {T(0): T0}\n",
    "ics"
   ]
  },
  {
   "cell_type": "code",
   "execution_count": 10,
   "metadata": {
    "collapsed": false
   },
   "outputs": [
    {
     "data": {
      "image/png": "[encoded data removed]",
      "text/latex": [
       "$$T_{0} = C_{1} + T_{a}$$"
      ],
      "text/plain": [
       "T₀ = C₁ + Tₐ"
      ]
     },
     "execution_count": 10,
     "metadata": {},
     "output_type": "execute_result"
    }
   ],
   "source": [
    "# substitute initial condition into solution\n",
    "# returns equation for unknown integration constant C1.\n",
    "C_eq = sympy.Eq(\n",
    "    ode_sol.lhs.subs(t, 0).subs(ics), \n",
    "    ode_sol.rhs.subs(t, 0))\n",
    "C_eq"
   ]
  },
  {
   "cell_type": "code",
   "execution_count": 11,
   "metadata": {
    "collapsed": false
   },
   "outputs": [
    {
     "data": {
      "image/png": "[encoded data removed]",
      "text/latex": [
       "$$\\left [ \\left \\{ C_{1} : T_{0} - T_{a}\\right \\}\\right ]$$"
      ],
      "text/plain": [
       "[{C₁: T₀ - Tₐ}]"
      ]
     },
     "execution_count": 11,
     "metadata": {},
     "output_type": "execute_result"
    }
   ],
   "source": [
    "# apply solver. in this case, only one answer.\n",
    "C_sol = sympy.solve(C_eq)\n",
    "C_sol"
   ]
  },
  {
   "cell_type": "code",
   "execution_count": 12,
   "metadata": {
    "collapsed": false
   },
   "outputs": [
    {
     "data": {
      "image/png": "[encoded data removed]",
      "text/latex": [
       "$$T{\\left (t \\right )} = T_{a} + \\left(T_{0} - T_{a}\\right) e^{- k t}$$"
      ],
      "text/plain": [
       "                       -k⋅t\n",
       "T(t) = Tₐ + (T₀ - Tₐ)⋅ℯ    "
      ]
     },
     "execution_count": 12,
     "metadata": {},
     "output_type": "execute_result"
    }
   ],
   "source": [
    "# sub 1st answer into general ODE for final solution\n",
    "# corresponding to given initial condition\n",
    "ode_sol.subs(C_sol[0])"
   ]
  },
  {
   "cell_type": "markdown",
   "metadata": {},
   "source": [
    "### Function for applying initial conditions"
   ]
  },
  {
   "cell_type": "code",
   "execution_count": 13,
   "metadata": {
    "collapsed": false
   },
   "outputs": [],
   "source": [
    "def apply_ics(sol, ics, x, known_params):\n",
    "    \"\"\"\n",
    "    Apply the initial conditions (ics), given as a dictionary on\n",
    "    the form ics = {y(0): y0: y(x).diff(x).subs(x, 0): yp0, ...}\n",
    "    to the solution of the ODE with indepdendent variable x.\n",
    "    The undetermined integration constants C1, C2, ... are extracted\n",
    "    from the free symbols of the ODE solution, excluding symbols in\n",
    "    the known_params list.\n",
    "    \"\"\"\n",
    "    free_params = sol.free_symbols - set(known_params)\n",
    "    eqs = [(sol.lhs.diff(x, n) - sol.rhs.diff(x, n)).subs(x, 0).subs(ics)\n",
    "           for n in range(len(ics))]\n",
    "    sol_params = sympy.solve(eqs, free_params)\n",
    "    return sol.subs(sol_params)"
   ]
  },
  {
   "cell_type": "code",
   "execution_count": 14,
   "metadata": {
    "collapsed": false
   },
   "outputs": [
    {
     "data": {
      "image/png": "[encoded data removed]",
      "text/latex": [
       "$$T{\\left (t \\right )} = C_{1} e^{- k t} + T_{a}$$"
      ],
      "text/plain": [
       "           -k⋅t     \n",
       "T(t) = C₁⋅ℯ     + Tₐ"
      ]
     },
     "execution_count": 14,
     "metadata": {},
     "output_type": "execute_result"
    }
   ],
   "source": [
    "ode_sol"
   ]
  },
  {
   "cell_type": "code",
   "execution_count": 15,
   "metadata": {
    "collapsed": false
   },
   "outputs": [
    {
     "data": {
      "image/png": "[encoded data removed]",
      "text/latex": [
       "$$T{\\left (t \\right )} = T_{a} + \\left(T_{0} - T_{a}\\right) e^{- k t}$$"
      ],
      "text/plain": [
       "                       -k⋅t\n",
       "T(t) = Tₐ + (T₀ - Tₐ)⋅ℯ    "
      ]
     },
     "execution_count": 15,
     "metadata": {},
     "output_type": "execute_result"
    }
   ],
   "source": [
    "apply_ics(ode_sol, ics, t, [k, Ta])"
   ]
  },
  {
   "cell_type": "code",
   "execution_count": 16,
   "metadata": {
    "collapsed": false
   },
   "outputs": [
    {
     "data": {
      "image/png": "[encoded data removed]",
      "text/latex": [
       "$$T{\\left (t \\right )} = \\left(T_{0} + T_{a} e^{k t} - T_{a}\\right) e^{- k t}$$"
      ],
      "text/plain": [
       "       ⎛         k⋅t     ⎞  -k⋅t\n",
       "T(t) = ⎝T₀ + Tₐ⋅ℯ    - Tₐ⎠⋅ℯ    "
      ]
     },
     "execution_count": 16,
     "metadata": {},
     "output_type": "execute_result"
    }
   ],
   "source": [
    "ode_sol = apply_ics(ode_sol, ics, t, [k, Ta]).simplify()\n",
    "ode_sol"
   ]
  },
  {
   "cell_type": "code",
   "execution_count": 17,
   "metadata": {
    "collapsed": false
   },
   "outputs": [],
   "source": [
    "y_x = sympy.lambdify(\n",
    "    (t, k), \n",
    "    ode_sol.rhs.subs({T0: 5, Ta: 1}), \n",
    "    'numpy')"
   ]
  },
  {
   "cell_type": "markdown",
   "metadata": {},
   "source": [
    "### Damped harmonic oscillator\n",
    "* example of 2nd-order ODE\n",
    "* x(t) = oscillator position at time=t\n",
    "* omega0   = undampled frequency\n",
    "* gamma    = damping ratio"
   ]
  },
  {
   "cell_type": "code",
   "execution_count": 18,
   "metadata": {
    "collapsed": false
   },
   "outputs": [],
   "source": [
    "t, omega0 = sympy.symbols(\"t, omega_0\", positive=True)\n",
    "gamma =     sympy.symbols(\"gamma\",       complex=True)"
   ]
  },
  {
   "cell_type": "code",
   "execution_count": 19,
   "metadata": {
    "collapsed": false
   },
   "outputs": [],
   "source": [
    "x = sympy.Function(\"x\")"
   ]
  },
  {
   "cell_type": "code",
   "execution_count": 20,
   "metadata": {
    "collapsed": false
   },
   "outputs": [
    {
     "data": {
      "image/png": "[encoded data removed]",
      "text/latex": [
       "$$2 \\gamma \\omega_{0} \\frac{d}{d t} x{\\left (t \\right )} + \\omega_{0}^{2} x{\\left (t \\right )} + \\frac{d^{2}}{d t^{2}}  x{\\left (t \\right )}$$"
      ],
      "text/plain": [
       "                               2      \n",
       "       d            2         d       \n",
       "2⋅γ⋅ω₀⋅──(x(t)) + ω₀ ⋅x(t) + ───(x(t))\n",
       "       dt                      2      \n",
       "                             dt       "
      ]
     },
     "execution_count": 20,
     "metadata": {},
     "output_type": "execute_result"
    }
   ],
   "source": [
    "# construct ODE\n",
    "ode = x(t).diff(t, 2) + 2 * gamma * omega0 * x(t).diff(t) + omega0**2 * x(t)\n",
    "ode"
   ]
  },
  {
   "cell_type": "code",
   "execution_count": 21,
   "metadata": {
    "collapsed": false
   },
   "outputs": [
    {
     "data": {
      "image/png": "[encoded data removed]",
      "text/latex": [
       "$$x{\\left (t \\right )} = C_{1} e^{\\omega_{0} t \\left(- \\gamma - \\sqrt{\\gamma^{2} - 1}\\right)} + C_{2} e^{\\omega_{0} t \\left(- \\gamma + \\sqrt{\\gamma^{2} - 1}\\right)}$$"
      ],
      "text/plain": [
       "                ⎛        ________⎞            ⎛        ________⎞\n",
       "                ⎜       ╱  2     ⎟            ⎜       ╱  2     ⎟\n",
       "           ω₀⋅t⋅⎝-γ - ╲╱  γ  - 1 ⎠       ω₀⋅t⋅⎝-γ + ╲╱  γ  - 1 ⎠\n",
       "x(t) = C₁⋅ℯ                        + C₂⋅ℯ                       "
      ]
     },
     "execution_count": 21,
     "metadata": {},
     "output_type": "execute_result"
    }
   ],
   "source": [
    "# construct general solution\n",
    "ode_sol = sympy.dsolve(ode)\n",
    "ode_sol"
   ]
  },
  {
   "cell_type": "code",
   "execution_count": 22,
   "metadata": {
    "collapsed": false
   },
   "outputs": [
    {
     "data": {
      "text/latex": [
       "$$\\left \\{ x{\\left (0 \\right )} : 1, \\quad \\left. \\frac{d}{d t} x{\\left (t \\right )} \\right|_{\\substack{ t=0 }} : 0\\right \\}$$"
      ],
      "text/plain": [
       "⎧         ⎛d       ⎞│      ⎫\n",
       "⎨x(0): 1, ⎜──(x(t))⎟│   : 0⎬\n",
       "⎩         ⎝dt      ⎠│t=0   ⎭"
      ]
     },
     "execution_count": 22,
     "metadata": {},
     "output_type": "execute_result"
    }
   ],
   "source": [
    "# define initial conditions (dict)\n",
    "ics = {x(0): 1, x(t).diff(t).subs(t, 0): 0}\n",
    "ics"
   ]
  },
  {
   "cell_type": "code",
   "execution_count": 23,
   "metadata": {
    "collapsed": false
   },
   "outputs": [
    {
     "data": {
      "image/png": "[encoded data removed]",
      "text/latex": [
       "$$x{\\left (t \\right )} = \\left(- \\frac{\\gamma}{2 \\sqrt{\\gamma^{2} - 1}} + \\frac{1}{2}\\right) e^{\\omega_{0} t \\left(- \\gamma - \\sqrt{\\gamma^{2} - 1}\\right)} + \\left(\\frac{\\gamma}{2 \\sqrt{\\gamma^{2} - 1}} + \\frac{1}{2}\\right) e^{\\omega_{0} t \\left(- \\gamma + \\sqrt{\\gamma^{2} - 1}\\right)}$$"
      ],
      "text/plain": [
       "                                   ⎛        ________⎞                         \n",
       "                                   ⎜       ╱  2     ⎟                         \n",
       "       ⎛        γ         1⎞  ω₀⋅t⋅⎝-γ - ╲╱  γ  - 1 ⎠   ⎛      γ         1⎞  ω\n",
       "x(t) = ⎜- ───────────── + ─⎟⋅ℯ                        + ⎜───────────── + ─⎟⋅ℯ \n",
       "       ⎜       ________   2⎟                            ⎜     ________   2⎟   \n",
       "       ⎜      ╱  2         ⎟                            ⎜    ╱  2         ⎟   \n",
       "       ⎝  2⋅╲╱  γ  - 1     ⎠                            ⎝2⋅╲╱  γ  - 1     ⎠   \n",
       "\n",
       "    ⎛        ________⎞\n",
       "    ⎜       ╱  2     ⎟\n",
       "₀⋅t⋅⎝-γ + ╲╱  γ  - 1 ⎠\n",
       "                      \n",
       "                      \n",
       "                      \n",
       "                      "
      ]
     },
     "execution_count": 23,
     "metadata": {},
     "output_type": "execute_result"
    }
   ],
   "source": [
    "# apply initial conditions to general sol'n\n",
    "x_t_sol = apply_ics(ode_sol, ics, t, [omega0, gamma])\n",
    "x_t_sol"
   ]
  },
  {
   "cell_type": "code",
   "execution_count": 24,
   "metadata": {
    "collapsed": false
   },
   "outputs": [
    {
     "data": {
      "image/png": "[encoded data removed]",
      "text/latex": [
       "$$\\frac{\\omega_{0} t + 1}{e^{\\omega_{0} t}}$$"
      ],
      "text/plain": [
       "            -ω₀⋅t\n",
       "(ω₀⋅t + 1)⋅ℯ     "
      ]
     },
     "execution_count": 24,
     "metadata": {},
     "output_type": "execute_result"
    }
   ],
   "source": [
    "# using gamma=1 (critical damping) ==> divide by zero error\n",
    "x_t_critical = sympy.limit(x_t_sol.rhs, gamma, 1)\n",
    "x_t_critical"
   ]
  },
  {
   "cell_type": "code",
   "execution_count": 25,
   "metadata": {
    "collapsed": false
   },
   "outputs": [
    {
     "data": {
      "text/plain": [
       "'\\nfig, ax = plt.subplots(figsize=(8, 4))\\n\\ntt = np.linspace(0, 3, 250)\\nfor g in [0.1, 0.5, 1, 2.0, 5.0]:\\n    if g == 1:\\n        x_t = sympy.lambdify(t, \\n                             x_t_critical.subs(\\n                                 {omega0: 2.0 * sympy.pi}), \\'numpy\\')\\n    else:\\n        x_t = sympy.lambdify(t, \\n                             x_t_sol.rhs.subs(\\n                                 {omega0: 2.0 * sympy.pi, gamma: g}), \\'numpy\\')\\n        \\n    ax.plot(tt, x_t(tt).real, label=r\"$\\\\gamma = %.1f$\" % g)\\n\\nax.set_xlabel(r\"$t$\", fontsize=18)\\nax.set_ylabel(r\"$x(t)$\", fontsize=18)\\nax.legend()\\n\\nfig.tight_layout()\\nfig.savefig(\\'ch9-harmonic-oscillator.pdf\\')\\n'"
      ]
     },
     "execution_count": 25,
     "metadata": {},
     "output_type": "execute_result"
    }
   ],
   "source": [
    "# plot solutions\n",
    "'''\n",
    "fig, ax = plt.subplots(figsize=(8, 4))\n",
    "\n",
    "tt = np.linspace(0, 3, 250)\n",
    "for g in [0.1, 0.5, 1, 2.0, 5.0]:\n",
    "    if g == 1:\n",
    "        x_t = sympy.lambdify(t, \n",
    "                             x_t_critical.subs(\n",
    "                                 {omega0: 2.0 * sympy.pi}), 'numpy')\n",
    "    else:\n",
    "        x_t = sympy.lambdify(t, \n",
    "                             x_t_sol.rhs.subs(\n",
    "                                 {omega0: 2.0 * sympy.pi, gamma: g}), 'numpy')\n",
    "        \n",
    "    ax.plot(tt, x_t(tt).real, label=r\"$\\gamma = %.1f$\" % g)\n",
    "\n",
    "ax.set_xlabel(r\"$t$\", fontsize=18)\n",
    "ax.set_ylabel(r\"$x(t)$\", fontsize=18)\n",
    "ax.legend()\n",
    "\n",
    "fig.tight_layout()\n",
    "fig.savefig('ch9-harmonic-oscillator.pdf')\n",
    "'''"
   ]
  },
  {
   "cell_type": "markdown",
   "metadata": {},
   "source": [
    "### Direction field graphs\n",
    "* How to visualize possible solutions to arbitrary 1st order ODEs\n",
    "* Built using short lines showing slope of unknown function on x-y grid"
   ]
  },
  {
   "cell_type": "code",
   "execution_count": 26,
   "metadata": {
    "collapsed": false
   },
   "outputs": [],
   "source": [
    "def plot_direction_field(x, y_x, f_xy, x_lim=(-5, 5), y_lim=(-5, 5), ax=None):\n",
    "    \n",
    "    f_np = sympy.lambdify((x, y_x), f_xy, 'numpy')\n",
    "    \n",
    "    x_vec = np.linspace(x_lim[0], x_lim[1], 20)\n",
    "    y_vec = np.linspace(y_lim[0], y_lim[1], 20)\n",
    "    \n",
    "    if ax is None:\n",
    "        _, ax = plt.subplots(figsize=(4, 4))\n",
    "\n",
    "    dx = x_vec[1] - x_vec[0]\n",
    "    dy = y_vec[1] - y_vec[0]\n",
    "\n",
    "    for m, xx in enumerate(x_vec):\n",
    "        for n, yy in enumerate(y_vec):\n",
    "            Dy = f_np(xx, yy) * dx\n",
    "            Dx = 0.8 * dx**2 / np.sqrt(dx**2 + Dy**2)\n",
    "            Dy = 0.8 * Dy*dy / np.sqrt(dx**2 + Dy**2)\n",
    "            ax.plot([xx - Dx/2, xx + Dx/2],\n",
    "                    [yy - Dy/2, yy + Dy/2], 'b', lw=0.5)\n",
    "    ax.axis('tight')\n",
    "\n",
    "    ax.set_title(r\"$%s$\" %\n",
    "                 (sympy.latex(sympy.Eq(y(x).diff(x), f_xy))),\n",
    "                 fontsize=18)\n",
    "    \n",
    "    return ax"
   ]
  },
  {
   "cell_type": "code",
   "execution_count": 27,
   "metadata": {
    "collapsed": false
   },
   "outputs": [],
   "source": [
    "x = sympy.symbols(\"x\")\n",
    "y = sympy.Function(\"y\")"
   ]
  },
  {
   "cell_type": "code",
   "execution_count": 28,
   "metadata": {
    "collapsed": false
   },
   "outputs": [],
   "source": [
    "#fig, axes = plt.subplots(1, 3, figsize=(12, 4))\n",
    "\n",
    "#plot_direction_field(x, y(x), y(x)**2 + x, ax=axes[0])\n",
    "#plot_direction_field(x, y(x), -x / y(x), ax=axes[1])\n",
    "#plot_direction_field(x, y(x), y(x)**2 / x, ax=axes[2])\n",
    "\n",
    "#fig.tight_layout()\n",
    "#fig.savefig('ch9-direction-field.pdf')"
   ]
  },
  {
   "cell_type": "markdown",
   "metadata": {},
   "source": [
    "![pic](pics/direction-fields.png)"
   ]
  },
  {
   "cell_type": "markdown",
   "metadata": {},
   "source": [
    "### Inexact solutions to ODEs"
   ]
  },
  {
   "cell_type": "code",
   "execution_count": 29,
   "metadata": {
    "collapsed": false
   },
   "outputs": [],
   "source": [
    "x = sympy.symbols(\"x\")\n",
    "y = sympy.Function(\"y\")"
   ]
  },
  {
   "cell_type": "code",
   "execution_count": 30,
   "metadata": {
    "collapsed": false
   },
   "outputs": [
    {
     "data": {
      "image/png": "[encoded data removed]",
      "text/latex": [
       "$$\\frac{d}{d x} y{\\left (x \\right )} = x + y^{2}{\\left (x \\right )}$$"
      ],
      "text/plain": [
       "d               2   \n",
       "──(y(x)) = x + y (x)\n",
       "dx                  "
      ]
     },
     "execution_count": 30,
     "metadata": {},
     "output_type": "execute_result"
    }
   ],
   "source": [
    "# define the ODE\n",
    "\n",
    "f = y(x)**2 + x\n",
    "sympy.Eq(y(x).diff(x), f)"
   ]
  },
  {
   "cell_type": "code",
   "execution_count": 31,
   "metadata": {
    "collapsed": false
   },
   "outputs": [],
   "source": [
    "# define initial condition y(0)=0\n",
    "ics = {y(0): 0}"
   ]
  },
  {
   "cell_type": "code",
   "execution_count": 32,
   "metadata": {
    "collapsed": false
   },
   "outputs": [
    {
     "data": {
      "image/png": "[encoded data removed]",
      "text/latex": [
       "$$y{\\left (x \\right )} = \\frac{x^{2}}{2} \\left(2 C_{1} + 1\\right) + \\frac{x^{5}}{60} \\left(C_{1}^{2} \\left(C_{1} + 45\\right) + 20 C_{1} + 3\\right) + C_{1} + C_{1} x + \\frac{7 C_{1}}{6} x^{3} + \\frac{C_{1} x^{4}}{12} \\left(C_{1} + 5\\right) + \\mathcal{O}\\left(x^{6}\\right)$$"
      ],
      "text/plain": [
       "        2               5 ⎛  2                      ⎞                     3   \n",
       "       x ⋅(2⋅C₁ + 1)   x ⋅⎝C₁ ⋅(C₁ + 45) + 20⋅C₁ + 3⎠               7⋅C₁⋅x    \n",
       "y(x) = ───────────── + ────────────────────────────── + C₁ + C₁⋅x + ─────── + \n",
       "             2                       60                                6      \n",
       "\n",
       "    4                 \n",
       "C₁⋅x ⋅(C₁ + 5)    ⎛ 6⎞\n",
       "────────────── + O⎝x ⎠\n",
       "      12              "
      ]
     },
     "execution_count": 32,
     "metadata": {},
     "output_type": "execute_result"
    }
   ],
   "source": [
    "# define general solution\n",
    "ode_sol = sympy.dsolve(y(x).diff(x) - f)\n",
    "ode_sol"
   ]
  },
  {
   "cell_type": "code",
   "execution_count": 33,
   "metadata": {
    "collapsed": false
   },
   "outputs": [
    {
     "data": {
      "image/png": "[encoded data removed]",
      "text/latex": [
       "$$y{\\left (x \\right )} = \\frac{x^{2}}{2} + \\frac{x^{5}}{20} + \\mathcal{O}\\left(x^{6}\\right)$$"
      ],
      "text/plain": [
       "        2    5        \n",
       "       x    x     ⎛ 6⎞\n",
       "y(x) = ── + ── + O⎝x ⎠\n",
       "       2    20        "
      ]
     },
     "execution_count": 33,
     "metadata": {},
     "output_type": "execute_result"
    }
   ],
   "source": [
    "# alternative method, using apply_ics\n",
    "ode_sol = apply_ics(ode_sol, {y(0): 0}, x, [])\n",
    "ode_sol"
   ]
  },
  {
   "cell_type": "code",
   "execution_count": 34,
   "metadata": {
    "collapsed": false
   },
   "outputs": [
    {
     "data": {
      "image/png": "[encoded data removed]",
      "text/latex": [
       "$$y{\\left (x \\right )} = \\frac{x^{2}}{2} + \\frac{x^{5}}{20} + \\mathcal{O}\\left(x^{6}\\right)$$"
      ],
      "text/plain": [
       "        2    5        \n",
       "       x    x     ⎛ 6⎞\n",
       "y(x) = ── + ── + O⎝x ⎠\n",
       "       2    20        "
      ]
     },
     "execution_count": 34,
     "metadata": {},
     "output_type": "execute_result"
    }
   ],
   "source": [
    "# another alternative, directly specifies init condition using ics keyword\n",
    "ode_sol = sympy.dsolve(y(x).diff(x) - f, ics=ics)\n",
    "ode_sol"
   ]
  },
  {
   "cell_type": "code",
   "execution_count": 35,
   "metadata": {
    "collapsed": false
   },
   "outputs": [],
   "source": [
    "#fig, axes = plt.subplots(1, 2, figsize=(8, 4))\n",
    "\n",
    "#plot_direction_field(x, y(x), f, ax=axes[0])\n",
    "#x_vec = np.linspace(-3, 3, 100)\n",
    "#axes[0].plot(x_vec, sympy.lambdify(x, ode_sol.rhs.removeO())(x_vec), 'b', lw=2)\n",
    "#axes[0].set_ylim(-5, 5)\n",
    "\n",
    "#plot_direction_field(x, y(x), f, ax=axes[1])\n",
    "#x_vec = np.linspace(-1, 1, 100)\n",
    "#axes[1].plot(x_vec, sympy.lambdify(x, ode_sol.rhs.removeO())(x_vec), 'b', lw=2)\n",
    "\n",
    "#ode_sol_m = ode_sol_p = ode_sol\n",
    "#dx = 0.125\n",
    "#for x0 in np.arange(1, 2., dx):\n",
    "#    x_vec = np.linspace(x0, x0 + dx, 100)\n",
    "#    ics = {y(x0): ode_sol_p.rhs.removeO().subs(x, x0)}\n",
    "#    ode_sol_p = sympy.dsolve(y(x).diff(x) - f, ics=ics, n=6)\n",
    "#    axes[1].plot(x_vec, sympy.lambdify(x, ode_sol_p.rhs.removeO())(x_vec), 'r', lw=2)\n",
    "\n",
    "#for x0 in np.arange(1, 5, dx):\n",
    "#    x_vec = np.linspace(-x0-dx, -x0, 100)\n",
    "#    ics = {y(-x0): ode_sol_m.rhs.removeO().subs(x, -x0)}\n",
    "#    ode_sol_m = sympy.dsolve(y(x).diff(x) - f, ics=ics, n=6)\n",
    "#    axes[1].plot(x_vec, sympy.lambdify(x, ode_sol_m.rhs.removeO())(x_vec), 'r', lw=2)\n",
    "    \n",
    "#fig.tight_layout()\n",
    "#fig.savefig(\"ch9-direction-field-and-approx-sol.pdf\")"
   ]
  },
  {
   "cell_type": "markdown",
   "metadata": {},
   "source": [
    "![pic](pics/direction-graphs-2nd-ex.png)"
   ]
  },
  {
   "cell_type": "markdown",
   "metadata": {},
   "source": [
    "### Laplace transformation method\n",
    "* alternative to SymPy 'black-box\" *dsolve()* method\n",
    "* technique: laplace-transform the ODE (can be easier to solve) - then use inverse-laplace-transform to to obtain solution to original problem."
   ]
  },
  {
   "cell_type": "code",
   "execution_count": 36,
   "metadata": {
    "collapsed": false
   },
   "outputs": [],
   "source": [
    "t    = sympy.symbols(\"t\", positive=True)\n",
    "s, Y = sympy.symbols(\"s, Y\", real=True)\n",
    "y    = sympy.Function(\"y\")"
   ]
  },
  {
   "cell_type": "code",
   "execution_count": 37,
   "metadata": {
    "collapsed": false
   },
   "outputs": [
    {
     "data": {
      "image/png": "[encoded data removed]",
      "text/latex": [
       "$$10 y{\\left (t \\right )} - 2 \\sin{\\left (3 t \\right )} + 2 \\frac{d}{d t} y{\\left (t \\right )} + \\frac{d^{2}}{d t^{2}}  y{\\left (t \\right )}$$"
      ],
      "text/plain": [
       "                                      2      \n",
       "                         d           d       \n",
       "10⋅y(t) - 2⋅sin(3⋅t) + 2⋅──(y(t)) + ───(y(t))\n",
       "                         dt           2      \n",
       "                                    dt       "
      ]
     },
     "execution_count": 37,
     "metadata": {},
     "output_type": "execute_result"
    }
   ],
   "source": [
    "# find ODE for driven harmonic oscillator\n",
    "ode = y(t).diff(t, 2) + 2 * y(t).diff(t) + 10 * y(t) - 2 * sympy.sin(3*t)\n",
    "ode"
   ]
  },
  {
   "cell_type": "code",
   "execution_count": 38,
   "metadata": {
    "collapsed": false
   },
   "outputs": [
    {
     "data": {
      "image/png": "[encoded data removed]",
      "text/latex": [
       "$$\\mathcal{L}_{t}\\left[y{\\left (t \\right )}\\right]\\left(s\\right)$$"
      ],
      "text/plain": [
       "LaplaceTransform(y(t), t, s)"
      ]
     },
     "execution_count": 38,
     "metadata": {},
     "output_type": "execute_result"
    }
   ],
   "source": [
    "# do transform of unknown qty y(t)\n",
    "L_y = sympy.laplace_transform(y(t), t, s)\n",
    "L_y"
   ]
  },
  {
   "cell_type": "code",
   "execution_count": 39,
   "metadata": {
    "collapsed": false
   },
   "outputs": [
    {
     "data": {
      "image/png": "[encoded data removed]",
      "text/latex": [
       "$$10 \\mathcal{L}_{t}\\left[y{\\left (t \\right )}\\right]\\left(s\\right) + 2 \\mathcal{L}_{t}\\left[\\frac{d}{d t} y{\\left (t \\right )}\\right]\\left(s\\right) + \\mathcal{L}_{t}\\left[\\frac{d^{2}}{d t^{2}}  y{\\left (t \\right )}\\right]\\left(s\\right) - \\frac{6}{s^{2} + 9}$$"
      ],
      "text/plain": [
       "                                                                              \n",
       "                                                    ⎛d             ⎞          \n",
       "10⋅LaplaceTransform(y(t), t, s) + 2⋅LaplaceTransform⎜──(y(t)), t, s⎟ + Laplace\n",
       "                                                    ⎝dt            ⎠          \n",
       "                                                                              \n",
       "\n",
       "         ⎛  2            ⎞         \n",
       "         ⎜ d             ⎟     6   \n",
       "Transform⎜───(y(t)), t, s⎟ - ──────\n",
       "         ⎜  2            ⎟    2    \n",
       "         ⎝dt             ⎠   s  + 9"
      ]
     },
     "execution_count": 39,
     "metadata": {},
     "output_type": "execute_result"
    }
   ],
   "source": [
    "# do transform of entire ODE\n",
    "L_ode = sympy.laplace_transform(ode, t, s, noconds=True)\n",
    "L_ode"
   ]
  },
  {
   "cell_type": "code",
   "execution_count": 40,
   "metadata": {
    "collapsed": false
   },
   "outputs": [],
   "source": [
    "def laplace_transform_derivatives(e):\n",
    "    \"\"\"\n",
    "    Evaluate the unevaluted laplace transforms of derivatives\n",
    "    of functions\n",
    "    \"\"\"\n",
    "    if isinstance(e, sympy.LaplaceTransform):\n",
    "        if isinstance(e.args[0], sympy.Derivative):\n",
    "            d, t, s = e.args\n",
    "            n = len(d.args) - 1\n",
    "            return ((s**n) * sympy.LaplaceTransform(d.args[0], t, s) - \n",
    "                    sum([s**(n-i) * sympy.diff(d.args[0], t, i-1).subs(t, 0)\n",
    "                         for i in range(1, n+1)]))\n",
    "        \n",
    "    if isinstance(e, (sympy.Add, sympy.Mul)):\n",
    "        t = type(e)\n",
    "        return t(*[laplace_transform_derivatives(arg) for arg in e.args])\n",
    "    \n",
    "    return e"
   ]
  },
  {
   "cell_type": "code",
   "execution_count": 41,
   "metadata": {
    "collapsed": false
   },
   "outputs": [
    {
     "data": {
      "text/latex": [
       "$$s^{2} \\mathcal{L}_{t}\\left[y{\\left (t \\right )}\\right]\\left(s\\right) + 2 s \\mathcal{L}_{t}\\left[y{\\left (t \\right )}\\right]\\left(s\\right) - s y{\\left (0 \\right )} + 10 \\mathcal{L}_{t}\\left[y{\\left (t \\right )}\\right]\\left(s\\right) - 2 y{\\left (0 \\right )} - \\left. \\frac{d}{d t} y{\\left (t \\right )} \\right|_{\\substack{ t=0 }} - \\frac{6}{s^{2} + 9}$$"
      ],
      "text/plain": [
       " 2                                                                            \n",
       "s ⋅LaplaceTransform(y(t), t, s) + 2⋅s⋅LaplaceTransform(y(t), t, s) - s⋅y(0) + \n",
       "                                                                              \n",
       "                                                                              \n",
       "\n",
       "                                           ⎛d       ⎞│        6   \n",
       "10⋅LaplaceTransform(y(t), t, s) - 2⋅y(0) - ⎜──(y(t))⎟│    - ──────\n",
       "                                           ⎝dt      ⎠│t=0    2    \n",
       "                                                            s  + 9"
      ]
     },
     "execution_count": 41,
     "metadata": {},
     "output_type": "execute_result"
    }
   ],
   "source": [
    "L_ode_2 = laplace_transform_derivatives(L_ode)\n",
    "L_ode_2"
   ]
  },
  {
   "cell_type": "code",
   "execution_count": 42,
   "metadata": {
    "collapsed": false
   },
   "outputs": [
    {
     "data": {
      "text/latex": [
       "$$Y s^{2} + 2 Y s + 10 Y - s y{\\left (0 \\right )} - 2 y{\\left (0 \\right )} - \\left. \\frac{d}{d t} y{\\left (t \\right )} \\right|_{\\substack{ t=0 }} - \\frac{6}{s^{2} + 9}$$"
      ],
      "text/plain": [
       "   2                                    ⎛d       ⎞│        6   \n",
       "Y⋅s  + 2⋅Y⋅s + 10⋅Y - s⋅y(0) - 2⋅y(0) - ⎜──(y(t))⎟│    - ──────\n",
       "                                        ⎝dt      ⎠│t=0    2    \n",
       "                                                         s  + 9"
      ]
     },
     "execution_count": 42,
     "metadata": {},
     "output_type": "execute_result"
    }
   ],
   "source": [
    "L_ode_3 = L_ode_2.subs(L_y, Y)\n",
    "L_ode_3"
   ]
  },
  {
   "cell_type": "code",
   "execution_count": 43,
   "metadata": {
    "collapsed": false
   },
   "outputs": [
    {
     "data": {
      "text/latex": [
       "$$\\left \\{ y{\\left (0 \\right )} : 1, \\quad \\left. \\frac{d}{d t} y{\\left (t \\right )} \\right|_{\\substack{ t=0 }} : 0\\right \\}$$"
      ],
      "text/plain": [
       "⎧         ⎛d       ⎞│      ⎫\n",
       "⎨y(0): 1, ⎜──(y(t))⎟│   : 0⎬\n",
       "⎩         ⎝dt      ⎠│t=0   ⎭"
      ]
     },
     "execution_count": 43,
     "metadata": {},
     "output_type": "execute_result"
    }
   ],
   "source": [
    "# now, specify boundary conditions\n",
    "ics = {y(0): 1, y(t).diff(t).subs(t, 0): 0}\n",
    "ics"
   ]
  },
  {
   "cell_type": "code",
   "execution_count": 44,
   "metadata": {
    "collapsed": false
   },
   "outputs": [
    {
     "data": {
      "image/png": "[encoded data removed]",
      "text/latex": [
       "$$Y s^{2} + 2 Y s + 10 Y - s - 2 - \\frac{6}{s^{2} + 9}$$"
      ],
      "text/plain": [
       "   2                            6   \n",
       "Y⋅s  + 2⋅Y⋅s + 10⋅Y - s - 2 - ──────\n",
       "                               2    \n",
       "                              s  + 9"
      ]
     },
     "execution_count": 44,
     "metadata": {},
     "output_type": "execute_result"
    }
   ],
   "source": [
    "# and sub them back into laplace-transformed ODE\n",
    "L_ode_4 = L_ode_3.subs(ics)\n",
    "L_ode_4"
   ]
  },
  {
   "cell_type": "code",
   "execution_count": 45,
   "metadata": {
    "collapsed": false
   },
   "outputs": [
    {
     "data": {
      "image/png": "[encoded data removed]",
      "text/latex": [
       "$$\\left [ \\frac{s^{3} + 2 s^{2} + 9 s + 24}{s^{4} + 2 s^{3} + 19 s^{2} + 18 s + 90}\\right ]$$"
      ],
      "text/plain": [
       "⎡      3      2               ⎤\n",
       "⎢     s  + 2⋅s  + 9⋅s + 24    ⎥\n",
       "⎢─────────────────────────────⎥\n",
       "⎢ 4      3       2            ⎥\n",
       "⎣s  + 2⋅s  + 19⋅s  + 18⋅s + 90⎦"
      ]
     },
     "execution_count": 45,
     "metadata": {},
     "output_type": "execute_result"
    }
   ],
   "source": [
    "# now, can be solved for Y:\n",
    "Y_sol = sympy.solve(L_ode_4, Y)\n",
    "Y_sol"
   ]
  },
  {
   "cell_type": "code",
   "execution_count": 46,
   "metadata": {
    "collapsed": false
   },
   "outputs": [
    {
     "data": {
      "image/png": "[encoded data removed]",
      "text/latex": [
       "$$- \\frac{12 s - 6}{37 s^{2} + 333} + \\frac{49 s + 92}{37 s^{2} + 74 s + 370}$$"
      ],
      "text/plain": [
       "  6⋅(2⋅s - 1)       49⋅s + 92     \n",
       "- ─────────── + ──────────────────\n",
       "     ⎛ 2    ⎞      ⎛ 2           ⎞\n",
       "  37⋅⎝s  + 9⎠   37⋅⎝s  + 2⋅s + 10⎠"
      ]
     },
     "execution_count": 46,
     "metadata": {},
     "output_type": "execute_result"
    }
   ],
   "source": [
    "# list of above solutions contains only one element.\n",
    "sympy.apart(Y_sol[0])"
   ]
  },
  {
   "cell_type": "code",
   "execution_count": 47,
   "metadata": {
    "collapsed": false
   },
   "outputs": [],
   "source": [
    "y_sol = sympy.inverse_laplace_transform(Y_sol[0], s, t)"
   ]
  },
  {
   "cell_type": "code",
   "execution_count": 48,
   "metadata": {
    "collapsed": false
   },
   "outputs": [
    {
     "data": {
      "image/png": "[encoded data removed]",
      "text/latex": [
       "$$\\frac{1}{111 e^{t}} \\left(6 e^{t} \\sin{\\left (3 t \\right )} - 36 e^{t} \\cos{\\left (3 t \\right )} + 43 \\sin{\\left (3 t \\right )} + 147 \\cos{\\left (3 t \\right )}\\right)$$"
      ],
      "text/plain": [
       "⎛   t                t                                      ⎞  -t\n",
       "⎝6⋅ℯ ⋅sin(3⋅t) - 36⋅ℯ ⋅cos(3⋅t) + 43⋅sin(3⋅t) + 147⋅cos(3⋅t)⎠⋅ℯ  \n",
       "─────────────────────────────────────────────────────────────────\n",
       "                               111                               "
      ]
     },
     "execution_count": 48,
     "metadata": {},
     "output_type": "execute_result"
    }
   ],
   "source": [
    "sympy.simplify(y_sol)"
   ]
  },
  {
   "cell_type": "code",
   "execution_count": 49,
   "metadata": {
    "collapsed": false
   },
   "outputs": [],
   "source": [
    "y_t = sympy.lambdify(t, y_sol, 'numpy')"
   ]
  },
  {
   "cell_type": "code",
   "execution_count": 50,
   "metadata": {
    "collapsed": false
   },
   "outputs": [],
   "source": [
    "#fig, ax = plt.subplots(figsize=(8, 4))\n",
    "\n",
    "#tt = np.linspace(0, 10, 500)\n",
    "#ax.plot(tt, y_t(tt).real)\n",
    "#ax.set_xlabel(r\"$t$\", fontsize=18)\n",
    "#ax.set_ylabel(r\"$y(t)$\", fontsize=18)\n",
    "#fig.tight_layout()"
   ]
  },
  {
   "cell_type": "markdown",
   "metadata": {},
   "source": [
    "### Numerical integration of ODEs using SciPy\n",
    "* Most ODEs can't be solved analytically - use numerical approaches instead\n",
    "* Multiple approaches - most based on *euler's method*\n",
    "* Many implementations available - already pkgd into SciPy"
   ]
  },
  {
   "cell_type": "markdown",
   "metadata": {},
   "source": [
    "* Two ODE solver interfaces: *integrate.odeint()* == simplier; *integrate.ode()* == more flexible"
   ]
  },
  {
   "cell_type": "code",
   "execution_count": 51,
   "metadata": {
    "collapsed": false
   },
   "outputs": [],
   "source": [
    "# example: y'(x) = f(x,y(x)) = x+y(x^2)\n",
    "\n",
    "x = sympy.symbols(\"x\")\n",
    "y = sympy.Function(\"y\")\n",
    "f = y(x)**2 + x\n",
    "f_np = sympy.lambdify((y(x), x), f, 'math')\n",
    "y0 = 0"
   ]
  },
  {
   "cell_type": "code",
   "execution_count": 52,
   "metadata": {
    "collapsed": false
   },
   "outputs": [
    {
     "data": {
      "image/png": "[encoded data removed]",
      "text/latex": [
       "$$\\left ( \\left ( 100\\right ), \\quad \\left ( 100, \\quad 1\\right )\\right )$$"
      ],
      "text/plain": [
       "((100,), (100, 1))"
      ]
     },
     "execution_count": 52,
     "metadata": {},
     "output_type": "execute_result"
    }
   ],
   "source": [
    "# odeint() args:\n",
    "# right-hand-evaluator-function\n",
    "# unknown-func-init-conditions\n",
    "# independent-var-values)\n",
    "\n",
    "xp = np.linspace(0, 1.9, 100)\n",
    "yp = integrate.odeint(f_np, y0, xp)\n",
    "xp.shape, yp.shape"
   ]
  },
  {
   "cell_type": "code",
   "execution_count": 53,
   "metadata": {
    "collapsed": false
   },
   "outputs": [
    {
     "data": {
      "image/png": "[encoded data removed]",
      "text/latex": [
       "$$\\left ( \\left ( 100\\right ), \\quad \\left ( 100, \\quad 1\\right )\\right )$$"
      ],
      "text/plain": [
       "((100,), (100, 1))"
      ]
     },
     "execution_count": 53,
     "metadata": {},
     "output_type": "execute_result"
    }
   ],
   "source": [
    "xm = np.linspace(0, -5, 100)\n",
    "ym = integrate.odeint(f_np, y0, xm)\n",
    "xm.shape, ym.shape"
   ]
  },
  {
   "cell_type": "code",
   "execution_count": 54,
   "metadata": {
    "collapsed": false
   },
   "outputs": [],
   "source": [
    "#fig, ax = plt.subplots(1, 1, figsize=(4, 4))\n",
    "#plot_direction_field(x, y(x), f, ax=ax)\n",
    "#ax.plot(xm, ym, 'b', lw=2)\n",
    "#ax.plot(xp, yp, 'r', lw=2)\n",
    "#fig.savefig('ch9-odeint-single-eq-example.pdf')"
   ]
  },
  {
   "cell_type": "markdown",
   "metadata": {},
   "source": [
    "![pic](pics/direction-field-numint.png)"
   ]
  },
  {
   "cell_type": "markdown",
   "metadata": {},
   "source": [
    "### Lotka-Volterra equations for predator/prey populations\n",
    "* Use case: vector-valued ODE problems (systems of ODEs)\n",
    "* Lotka-Volterra equations describe dynamics of coupled ODEs, aka predator-prey systems.\n",
    "\n",
    "$$\n",
    "x'(t) = a x - b x y\n",
    "$$\n",
    "\n",
    "$$\n",
    "y'(t) = c x y - d y\n",
    "$$"
   ]
  },
  {
   "cell_type": "code",
   "execution_count": 55,
   "metadata": {
    "collapsed": false
   },
   "outputs": [],
   "source": [
    "a = 0.4   # a = prey birthrate\n",
    "b = 0.002 # b = predator>prey consumption rate\n",
    "c = 0.001 # c = predator>prey growth/consumption rate\n",
    "d = 0.7   # d = predator death rate"
   ]
  },
  {
   "cell_type": "code",
   "execution_count": 56,
   "metadata": {
    "collapsed": false
   },
   "outputs": [],
   "source": [
    "# need func for right-hand side of ODE\n",
    "def f(xy, t):\n",
    "    x, y = xy\n",
    "    return [a * x - b * x * y,\n",
    "            c * x * y - d * y]"
   ]
  },
  {
   "cell_type": "code",
   "execution_count": 57,
   "metadata": {
    "collapsed": false
   },
   "outputs": [],
   "source": [
    "# initial conditions: 600 prey animals, 400 predator animals\n",
    "xy0 = [600, 400]"
   ]
  },
  {
   "cell_type": "code",
   "execution_count": 58,
   "metadata": {
    "collapsed": false
   },
   "outputs": [],
   "source": [
    "t = np.linspace(0, 50, 250)"
   ]
  },
  {
   "cell_type": "code",
   "execution_count": 59,
   "metadata": {
    "collapsed": false
   },
   "outputs": [
    {
     "data": {
      "image/png": "[encoded data removed]",
      "text/latex": [
       "$$\\left ( 250, \\quad 2\\right )$$"
      ],
      "text/plain": [
       "(250, 2)"
      ]
     },
     "execution_count": 59,
     "metadata": {},
     "output_type": "execute_result"
    }
   ],
   "source": [
    "xy_t = integrate.odeint(f, xy0, t)\n",
    "xy_t.shape"
   ]
  },
  {
   "cell_type": "code",
   "execution_count": 60,
   "metadata": {
    "collapsed": false
   },
   "outputs": [],
   "source": [
    "#fig, axes = plt.subplots(1, 2, figsize=(8, 4))\n",
    "\n",
    "#axes[0].plot(t, xy_t[:,0], 'r', label=\"Prey\")\n",
    "#axes[0].plot(t, xy_t[:,1], 'b', label=\"Predator\")\n",
    "#axes[0].set_xlabel(\"Time\")\n",
    "#axes[0].set_ylabel(\"Number of animals\")\n",
    "#axes[0].legend()\n",
    "\n",
    "#axes[1].plot(xy_t[:,0], xy_t[:,1], 'k')\n",
    "#axes[1].set_xlabel(\"Number of prey\")\n",
    "#axes[1].set_ylabel(\"Number of predators\")\n",
    "#fig.tight_layout()\n",
    "#fig.savefig('ch9-lokta-volterra.pdf')"
   ]
  },
  {
   "cell_type": "markdown",
   "metadata": {},
   "source": [
    "![pic](pics/predator-prey-populations.png)"
   ]
  },
  {
   "cell_type": "markdown",
   "metadata": {},
   "source": [
    "### Lorenz equations\n",
    "* three coupled nonlinear ODEs\n",
    "* known for chaotic solutions, sensitive to sigma, rho, beta"
   ]
  },
  {
   "cell_type": "markdown",
   "metadata": {},
   "source": [
    "$$\n",
    "x'(t) = \\sigma(y - x)\n",
    "$$\n",
    "$$\n",
    "y'(t) = x(\\rho - z) - y \n",
    "$$\n",
    "$$\n",
    "z'(t) = x y - \\beta z\n",
    "$$"
   ]
  },
  {
   "cell_type": "code",
   "execution_count": 61,
   "metadata": {
    "collapsed": false
   },
   "outputs": [],
   "source": [
    "def f(xyz, t, rho, sigma, beta):\n",
    "    x, y, z = xyz\n",
    "    return [sigma * (y - x),\n",
    "            x * (rho - z) - y,\n",
    "            x * y - beta * z]"
   ]
  },
  {
   "cell_type": "code",
   "execution_count": 62,
   "metadata": {
    "collapsed": false
   },
   "outputs": [],
   "source": [
    "rho, sigma, beta = 28, 8, 8/3.0"
   ]
  },
  {
   "cell_type": "code",
   "execution_count": 63,
   "metadata": {
    "collapsed": false
   },
   "outputs": [],
   "source": [
    "t = np.linspace(0, 25, 10000)"
   ]
  },
  {
   "cell_type": "code",
   "execution_count": 64,
   "metadata": {
    "collapsed": false
   },
   "outputs": [],
   "source": [
    "xyz0 = [1.0, 1.0, 1.0]"
   ]
  },
  {
   "cell_type": "code",
   "execution_count": 65,
   "metadata": {
    "collapsed": false
   },
   "outputs": [
    {
     "data": {
      "image/png": "[encoded data removed]",
      "text/latex": [
       "$$\\left ( 10000, \\quad 3\\right )$$"
      ],
      "text/plain": [
       "(10000, 3)"
      ]
     },
     "execution_count": 65,
     "metadata": {},
     "output_type": "execute_result"
    }
   ],
   "source": [
    "xyz1 = integrate.odeint(f, xyz0, t, args=(rho,   sigma,     beta))\n",
    "xyz2 = integrate.odeint(f, xyz0, t, args=(rho,   sigma, 0.6*beta))\n",
    "xyz3 = integrate.odeint(f, xyz0, t, args=(rho, 2*sigma, 0.6*beta))\n",
    "xyz3.shape"
   ]
  },
  {
   "cell_type": "code",
   "execution_count": 66,
   "metadata": {
    "collapsed": false
   },
   "outputs": [],
   "source": [
    "from mpl_toolkits.mplot3d.axes3d import Axes3D"
   ]
  },
  {
   "cell_type": "code",
   "execution_count": 67,
   "metadata": {
    "collapsed": false
   },
   "outputs": [],
   "source": [
    "#fig, (ax1, ax2, ax3) = plt.subplots(1, 3, figsize=(12, 3.5), subplot_kw={'projection': '3d'})\n",
    "\n",
    "#for ax, xyz, c in [(ax1, xyz1, 'r'), (ax2, xyz2, 'b'), (ax3, xyz3, 'g')]:\n",
    "#    ax.plot(xyz[:,0], xyz[:,1], xyz[:,2], c, alpha=0.5)\n",
    "#    ax.set_xlabel('$x$', fontsize=16)\n",
    "#    ax.set_ylabel('$y$', fontsize=16)\n",
    "#    ax.set_zlabel('$z$', fontsize=16)\n",
    "#    ax.set_xticks([-15, 0, 15])\n",
    "#    ax.set_yticks([-20, 0, 20])\n",
    "#    ax.set_zticks([0, 20, 40])\n",
    "\n",
    "#fig.tight_layout()\n",
    "#fig.savefig('ch9-lorenz-equations.pdf')"
   ]
  },
  {
   "cell_type": "markdown",
   "metadata": {},
   "source": [
    "![pic](pics/lorentz-odes.png)"
   ]
  },
  {
   "cell_type": "markdown",
   "metadata": {},
   "source": [
    "### Coupled damped springs\n",
    "* 2nd-order, nonlinear ODEs -- for a double pendulum\n",
    "* equations of motion are for angular deflection of 1st & 2nd pendulums\n",
    "* 1st pendulum = attached to fixed support\n",
    "* 2nd pendulum = attached to 1st pendulum\n",
    "* [scienceworld.com](http://scienceworld.wolfram.com/physics/DoublePendulum.html)"
   ]
  },
  {
   "cell_type": "markdown",
   "metadata": {},
   "source": [
    "As second-order equations:\n",
    "\n",
    "\\begin{eqnarray}\n",
    "m_1 x_1''(t) + \\gamma_1 x_1'(t) + k_1 (x_1(t) - l_1) - k_2 (x_2(t) - x_1(t) - l_2) &=& 0\\\\\n",
    "m_2 x_2''(t) + \\gamma_2 x_2' + k_2 (x_2 - x_1 - l_2) &=& 0\n",
    "\\end{eqnarray}\n",
    "\n",
    "On standard form:\n",
    "\n",
    "\\begin{align}\n",
    "y_1'(t) &= y_2(t) \\\\\n",
    "y_2'(t) &= -\\gamma_1/m_1 y_2(t) - k_1/m_1 (y_1(t) - l_1) + k_2 (y_3(t) - y_1(t) - l_2)/m_1 \\\\\n",
    "y_3'(t) &= y_4(t) \\\\\n",
    "y_4'(t) &= - \\gamma_2 y_4(t)/m_2 - k_2 (y_3(t) - y_1(t) - l_2)/m_2 \\\\\n",
    "\\end{align}"
   ]
  },
  {
   "cell_type": "code",
   "execution_count": 68,
   "metadata": {
    "collapsed": false
   },
   "outputs": [],
   "source": [
    "def f(t, y, args):\n",
    "    m1, k1, g1, m2, k2, g2 = args\n",
    "    \n",
    "    return [y[1], \n",
    "            - k1/m1 * y[0] + k2/m1 * (y[2] - y[0]) - g1/m1 * y[1], \n",
    "            y[3], \n",
    "            - k2/m2 * (y[2] - y[0]) - g2/m2 * y[3] ]"
   ]
  },
  {
   "cell_type": "code",
   "execution_count": 69,
   "metadata": {
    "collapsed": false
   },
   "outputs": [],
   "source": [
    "# m = mass, l = lengths, g = ?\n",
    "m1, k1, g1 = 1.0, 10.0, 0.5\n",
    "m2, k2, g2 = 2.0, 40.0, 0.25"
   ]
  },
  {
   "cell_type": "code",
   "execution_count": 70,
   "metadata": {
    "collapsed": false
   },
   "outputs": [],
   "source": [
    "args = (m1, k1, g1, m2, k2, g2)"
   ]
  },
  {
   "cell_type": "code",
   "execution_count": 71,
   "metadata": {
    "collapsed": false
   },
   "outputs": [],
   "source": [
    "y0 = [1.0, 0, 0.5, 0]"
   ]
  },
  {
   "cell_type": "code",
   "execution_count": 72,
   "metadata": {
    "collapsed": false
   },
   "outputs": [],
   "source": [
    "t = np.linspace(0, 20, 1000)"
   ]
  },
  {
   "cell_type": "code",
   "execution_count": 73,
   "metadata": {
    "collapsed": false
   },
   "outputs": [],
   "source": [
    "r = integrate.ode(f)"
   ]
  },
  {
   "cell_type": "code",
   "execution_count": 74,
   "metadata": {
    "collapsed": false
   },
   "outputs": [],
   "source": [
    "r.set_integrator('lsoda');\n",
    "r.set_initial_value(y0, t[0]);\n",
    "r.set_f_params(args);"
   ]
  },
  {
   "cell_type": "code",
   "execution_count": 75,
   "metadata": {
    "collapsed": false
   },
   "outputs": [],
   "source": [
    "dt = t[1] - t[0]\n",
    "y = np.zeros((len(t), len(y0)))\n",
    "idx = 0\n",
    "\n",
    "while r.successful() and r.t < t[-1]:\n",
    "    y[idx, :] = r.y\n",
    "    r.integrate(r.t + dt)\n",
    "    idx += 1"
   ]
  },
  {
   "cell_type": "code",
   "execution_count": 76,
   "metadata": {
    "collapsed": false
   },
   "outputs": [],
   "source": [
    "#fig = plt.figure(figsize=(10, 4))\n",
    "#ax1 = plt.subplot2grid((2, 5), (0, 0), colspan=3)\n",
    "#ax2 = plt.subplot2grid((2, 5), (1, 0), colspan=3)\n",
    "#ax3 = plt.subplot2grid((2, 5), (0, 3), colspan=2, rowspan=2)\n",
    "\n",
    "#ax1.plot(t, y[:, 0], 'r')\n",
    "#ax1.set_ylabel('$x_1$', fontsize=18)\n",
    "#ax1.set_yticks([-1, -.5, 0, .5, 1])\n",
    "\n",
    "#ax2.plot(t, y[:, 2], 'b')\n",
    "#ax2.set_xlabel('$t$', fontsize=18)\n",
    "#ax2.set_ylabel('$x_2$', fontsize=18)\n",
    "#ax2.set_yticks([-1, -.5, 0, .5, 1])\n",
    "\n",
    "#ax3.plot(y[:, 0], y[:, 2], 'k')\n",
    "#ax3.set_xlabel('$x_1$', fontsize=18)\n",
    "#ax3.set_ylabel('$x_2$', fontsize=18)\n",
    "#ax3.set_xticks([-1, -.5, 0, .5, 1])\n",
    "#ax3.set_yticks([-1, -.5, 0, .5, 1])\n",
    "\n",
    "#fig.tight_layout()\n",
    "#fig.savefig('ch9-coupled-damped-springs.pdf')"
   ]
  },
  {
   "cell_type": "markdown",
   "metadata": {},
   "source": [
    "![pic](pics/coupled-damped-oscilators.png)"
   ]
  },
  {
   "cell_type": "markdown",
   "metadata": {},
   "source": [
    "#### Same calculation as above, but with specifying the Jacobian as well:"
   ]
  },
  {
   "cell_type": "code",
   "execution_count": 77,
   "metadata": {
    "collapsed": false
   },
   "outputs": [],
   "source": [
    "def jac(t, y, args):\n",
    "    m1, k1, g1, m2, k2, g2 = args\n",
    "    \n",
    "    return [[0, 1, 0, 0], \n",
    "            [- k1/m1 - k2/m1, - g1/m1 * y[1], k2/m1, 0],\n",
    "            [0, 0, 1, 0],\n",
    "            [k2/m2, 0, - k2/m2, - g2/m2]]"
   ]
  },
  {
   "cell_type": "code",
   "execution_count": 78,
   "metadata": {
    "collapsed": false
   },
   "outputs": [],
   "source": [
    "r = integrate.ode(f, jac).set_f_params(args).set_jac_params(args).set_initial_value(y0, t[0])"
   ]
  },
  {
   "cell_type": "code",
   "execution_count": 79,
   "metadata": {
    "collapsed": false
   },
   "outputs": [],
   "source": [
    "dt = t[1] - t[0]\n",
    "y = np.zeros((len(t), len(y0)))\n",
    "idx = 0\n",
    "while r.successful() and r.t < t[-1]:\n",
    "    y[idx, :] = r.y\n",
    "    r.integrate(r.t + dt)\n",
    "    idx += 1"
   ]
  },
  {
   "cell_type": "code",
   "execution_count": 80,
   "metadata": {
    "collapsed": false
   },
   "outputs": [],
   "source": [
    "#fig = plt.figure(figsize=(10, 4))\n",
    "#ax1 = plt.subplot2grid((2, 5), (0, 0), colspan=3)\n",
    "#ax2 = plt.subplot2grid((2, 5), (1, 0), colspan=3)\n",
    "#ax3 = plt.subplot2grid((2, 5), (0, 3), colspan=2, rowspan=2)\n",
    "\n",
    "#ax1.plot(t, y[:, 0], 'r')\n",
    "#ax1.set_ylabel('$x_1$', fontsize=18)\n",
    "#ax1.set_yticks([-1, -.5, 0, .5, 1])\n",
    "\n",
    "#ax2.plot(t, y[:, 2], 'b')\n",
    "#ax2.set_xlabel('$t$', fontsize=18)\n",
    "#ax2.set_ylabel('$x_2$', fontsize=18)\n",
    "#ax2.set_yticks([-1, -.5, 0, .5, 1])\n",
    "\n",
    "#ax3.plot(y[:, 0], y[:, 2], 'k')\n",
    "#ax3.set_xlabel('$x_1$', fontsize=18)\n",
    "#ax3.set_ylabel('$x_2$', fontsize=18)\n",
    "#ax3.set_xticks([-1, -.5, 0, .5, 1])\n",
    "#ax3.set_yticks([-1, -.5, 0, .5, 1])\n",
    "\n",
    "#fig.tight_layout()"
   ]
  },
  {
   "cell_type": "markdown",
   "metadata": {},
   "source": [
    "### Same calculating, but using SymPy to setup the problem for SciPy"
   ]
  },
  {
   "cell_type": "code",
   "execution_count": 81,
   "metadata": {
    "collapsed": false
   },
   "outputs": [],
   "source": [
    "L1 = L2 = 0\n",
    "t = sympy.symbols(\"t\")\n",
    "m1, k1, b1 = sympy.symbols(\"m_1, k_1, b_1\")\n",
    "m2, k2, b2 = sympy.symbols(\"m_2, k_2, b_2\")"
   ]
  },
  {
   "cell_type": "code",
   "execution_count": 82,
   "metadata": {
    "collapsed": false
   },
   "outputs": [],
   "source": [
    "x1 = sympy.Function(\"x_1\")\n",
    "x2 = sympy.Function(\"x_2\")"
   ]
  },
  {
   "cell_type": "code",
   "execution_count": 83,
   "metadata": {
    "collapsed": false
   },
   "outputs": [],
   "source": [
    "ode1 = sympy.Eq(m1 * x1(t).diff(t,t,) + b1 * x1(t).diff(t) + k1*(x1(t)-L1) - k2*(x2(t)-x1(t) - L2))"
   ]
  },
  {
   "cell_type": "code",
   "execution_count": 84,
   "metadata": {
    "collapsed": false
   },
   "outputs": [],
   "source": [
    "ode2 = sympy.Eq(m2 * x2(t).diff(t,t,) + b2 * x2(t).diff(t) + k2*(x2(t)-x1(t)-L2))"
   ]
  },
  {
   "cell_type": "code",
   "execution_count": 85,
   "metadata": {
    "collapsed": false
   },
   "outputs": [],
   "source": [
    "params = {m1: 1.0, k1: 10.0, b1: 0.5,\n",
    "          m2: 2.0, k2: 40.0, b2: 0.25}"
   ]
  },
  {
   "cell_type": "code",
   "execution_count": 86,
   "metadata": {
    "collapsed": false
   },
   "outputs": [
    {
     "data": {
      "image/png": "[encoded data removed]",
      "text/latex": [
       "$$\\left ( 1.0, \\quad 10.0, \\quad 0.5, \\quad 2.0, \\quad 40.0, \\quad 0.25\\right )$$"
      ],
      "text/plain": [
       "(1.0, 10.0, 0.5, 2.0, 40.0, 0.25)"
      ]
     },
     "execution_count": 86,
     "metadata": {},
     "output_type": "execute_result"
    }
   ],
   "source": [
    "args"
   ]
  },
  {
   "cell_type": "code",
   "execution_count": 87,
   "metadata": {
    "collapsed": false
   },
   "outputs": [],
   "source": [
    "y1 = sympy.Function(\"y_1\")\n",
    "y2 = sympy.Function(\"y_2\")\n",
    "y3 = sympy.Function(\"y_3\")\n",
    "y4 = sympy.Function(\"y_4\")"
   ]
  },
  {
   "cell_type": "code",
   "execution_count": 88,
   "metadata": {
    "collapsed": false
   },
   "outputs": [],
   "source": [
    "varchange = {x1(t).diff(t, t): y2(t).diff(t), \n",
    "             x1(t): y1(t),\n",
    "             x2(t).diff(t, t): y4(t).diff(t), \n",
    "             x2(t): y3(t)}"
   ]
  },
  {
   "cell_type": "code",
   "execution_count": 89,
   "metadata": {
    "collapsed": false
   },
   "outputs": [
    {
     "data": {
      "image/png": "[encoded data removed]",
      "text/latex": [
       "$$\\left ( b_{1} \\frac{d}{d t} \\operatorname{y_{1}}{\\left (t \\right )} + k_{1} \\operatorname{y_{1}}{\\left (t \\right )} - k_{2} \\left(- \\operatorname{y_{1}}{\\left (t \\right )} + \\operatorname{y_{3}}{\\left (t \\right )}\\right) + m_{1} \\frac{d}{d t} \\operatorname{y_{2}}{\\left (t \\right )}, \\quad b_{2} \\frac{d}{d t} \\operatorname{y_{3}}{\\left (t \\right )} + k_{2} \\left(- \\operatorname{y_{1}}{\\left (t \\right )} + \\operatorname{y_{3}}{\\left (t \\right )}\\right) + m_{2} \\frac{d}{d t} \\operatorname{y_{4}}{\\left (t \\right )}\\right )$$"
      ],
      "text/plain": [
       "⎛   d                                               d             d           \n",
       "⎜b₁⋅──(y₁(t)) + k₁⋅y₁(t) - k₂⋅(-y₁(t) + y₃(t)) + m₁⋅──(y₂(t)), b₂⋅──(y₃(t)) + \n",
       "⎝   dt                                              dt            dt          \n",
       "\n",
       "                         d        ⎞\n",
       "k₂⋅(-y₁(t) + y₃(t)) + m₂⋅──(y₄(t))⎟\n",
       "                         dt       ⎠"
      ]
     },
     "execution_count": 89,
     "metadata": {},
     "output_type": "execute_result"
    }
   ],
   "source": [
    "(ode1.subs(varchange).lhs, ode2.subs(varchange).lhs)"
   ]
  },
  {
   "cell_type": "code",
   "execution_count": 90,
   "metadata": {
    "collapsed": false
   },
   "outputs": [],
   "source": [
    "ode3 = y1(t).diff(t) - y2(t)"
   ]
  },
  {
   "cell_type": "code",
   "execution_count": 91,
   "metadata": {
    "collapsed": false
   },
   "outputs": [],
   "source": [
    "ode4 = y3(t).diff(t) - y4(t)"
   ]
  },
  {
   "cell_type": "code",
   "execution_count": 92,
   "metadata": {
    "collapsed": false
   },
   "outputs": [],
   "source": [
    "vcsol = sympy.solve((ode1.subs(varchange), ode2.subs(varchange), ode3, ode4),\n",
    "                    (y1(t).diff(t), y2(t).diff(t), y3(t).diff(t), y4(t).diff(t)))"
   ]
  },
  {
   "cell_type": "code",
   "execution_count": 93,
   "metadata": {
    "collapsed": false
   },
   "outputs": [
    {
     "data": {
      "image/png": "[encoded data removed]",
      "text/latex": [
       "$$\\left \\{ \\frac{d}{d t} \\operatorname{y_{1}}{\\left (t \\right )} : \\operatorname{y_{2}}{\\left (t \\right )}, \\quad \\frac{d}{d t} \\operatorname{y_{2}}{\\left (t \\right )} : \\frac{1}{m_{1}} \\left(- b_{1} \\operatorname{y_{2}}{\\left (t \\right )} - k_{1} \\operatorname{y_{1}}{\\left (t \\right )} - k_{2} \\operatorname{y_{1}}{\\left (t \\right )} + k_{2} \\operatorname{y_{3}}{\\left (t \\right )}\\right), \\quad \\frac{d}{d t} \\operatorname{y_{3}}{\\left (t \\right )} : \\operatorname{y_{4}}{\\left (t \\right )}, \\quad \\frac{d}{d t} \\operatorname{y_{4}}{\\left (t \\right )} : \\frac{1}{m_{2}} \\left(- b_{2} \\operatorname{y_{4}}{\\left (t \\right )} + k_{2} \\operatorname{y_{1}}{\\left (t \\right )} - k_{2} \\operatorname{y_{3}}{\\left (t \\right )}\\right)\\right \\}$$"
      ],
      "text/plain": [
       "⎧d                 d          -b₁⋅y₂(t) - k₁⋅y₁(t) - k₂⋅y₁(t) + k₂⋅y₃(t)  d   \n",
       "⎨──(y₁(t)): y₂(t), ──(y₂(t)): ──────────────────────────────────────────, ──(y\n",
       "⎩dt                dt                             m₁                      dt  \n",
       "\n",
       "              d          -b₂⋅y₄(t) + k₂⋅y₁(t) - k₂⋅y₃(t)⎫\n",
       "₃(t)): y₄(t), ──(y₄(t)): ───────────────────────────────⎬\n",
       "              dt                        m₂              ⎭"
      ]
     },
     "execution_count": 93,
     "metadata": {},
     "output_type": "execute_result"
    }
   ],
   "source": [
    "vcsol"
   ]
  },
  {
   "cell_type": "code",
   "execution_count": 94,
   "metadata": {
    "collapsed": false
   },
   "outputs": [],
   "source": [
    "ode_rhs = sympy.Matrix([y1(t).diff(t), y2(t).diff(t), y3(t).diff(t), y4(t).diff(t)]).subs(vcsol)"
   ]
  },
  {
   "cell_type": "code",
   "execution_count": 95,
   "metadata": {
    "collapsed": false
   },
   "outputs": [],
   "source": [
    "y = sympy.Matrix([y1(t), y2(t), y3(t), y4(t)])"
   ]
  },
  {
   "cell_type": "code",
   "execution_count": 96,
   "metadata": {
    "collapsed": false
   },
   "outputs": [
    {
     "data": {
      "text/latex": [
       "$$\\left[\\begin{matrix}\\frac{d}{d t} \\operatorname{y_{1}}{\\left (t \\right )}\\\\\\frac{d}{d t} \\operatorname{y_{2}}{\\left (t \\right )}\\\\\\frac{d}{d t} \\operatorname{y_{3}}{\\left (t \\right )}\\\\\\frac{d}{d t} \\operatorname{y_{4}}{\\left (t \\right )}\\end{matrix}\\right] = \\left[\\begin{matrix}\\operatorname{y_{2}}{\\left (t \\right )}\\\\\\frac{1}{m_{1}} \\left(- b_{1} \\operatorname{y_{2}}{\\left (t \\right )} - k_{1} \\operatorname{y_{1}}{\\left (t \\right )} - k_{2} \\operatorname{y_{1}}{\\left (t \\right )} + k_{2} \\operatorname{y_{3}}{\\left (t \\right )}\\right)\\\\\\operatorname{y_{4}}{\\left (t \\right )}\\\\\\frac{1}{m_{2}} \\left(- b_{2} \\operatorname{y_{4}}{\\left (t \\right )} + k_{2} \\operatorname{y_{1}}{\\left (t \\right )} - k_{2} \\operatorname{y_{3}}{\\left (t \\right )}\\right)\\end{matrix}\\right]$$"
      ],
      "text/plain": [
       "⎡d        ⎤                                               \n",
       "⎢──(y₁(t))⎥ = ⎡                  y₂(t)                   ⎤\n",
       "⎢dt       ⎥   ⎢                                          ⎥\n",
       "⎢         ⎥   ⎢-b₁⋅y₂(t) - k₁⋅y₁(t) - k₂⋅y₁(t) + k₂⋅y₃(t)⎥\n",
       "⎢d        ⎥   ⎢──────────────────────────────────────────⎥\n",
       "⎢──(y₂(t))⎥   ⎢                    m₁                    ⎥\n",
       "⎢dt       ⎥   ⎢                                          ⎥\n",
       "⎢         ⎥   ⎢                  y₄(t)                   ⎥\n",
       "⎢d        ⎥   ⎢                                          ⎥\n",
       "⎢──(y₃(t))⎥   ⎢     -b₂⋅y₄(t) + k₂⋅y₁(t) - k₂⋅y₃(t)      ⎥\n",
       "⎢dt       ⎥   ⎢     ───────────────────────────────      ⎥\n",
       "⎢         ⎥   ⎣                    m₂                    ⎦\n",
       "⎢d        ⎥                                               \n",
       "⎢──(y₄(t))⎥                                               \n",
       "⎣dt       ⎦                                               "
      ]
     },
     "execution_count": 96,
     "metadata": {},
     "output_type": "execute_result"
    }
   ],
   "source": [
    "sympy.Eq(y.diff(t), ode_rhs)"
   ]
  },
  {
   "cell_type": "code",
   "execution_count": 97,
   "metadata": {
    "collapsed": false
   },
   "outputs": [],
   "source": [
    "f_np = sympy.lambdify((t, y), ode_rhs.subs(params), 'numpy')"
   ]
  },
  {
   "cell_type": "code",
   "execution_count": 98,
   "metadata": {
    "collapsed": false
   },
   "outputs": [],
   "source": [
    "y0 = [1.0, 0, 0.5, 0]\n",
    "t = np.linspace(0, 20, 1000)\n",
    "\n",
    "r = integrate.ode(f_np)\n",
    "r.set_integrator('lsoda');\n",
    "r.set_initial_value(y0, t[0]);\n",
    "\n",
    "dt = t[1] - t[0]\n",
    "y = np.zeros((len(t), len(y0)))\n",
    "idx = 0\n",
    "while r.successful() and r.t < t[-1]:\n",
    "    y[idx, :] = r.y\n",
    "    r.integrate(r.t + dt)\n",
    "    idx += 1"
   ]
  },
  {
   "cell_type": "code",
   "execution_count": 99,
   "metadata": {
    "collapsed": false
   },
   "outputs": [],
   "source": [
    "#fig = plt.figure(figsize=(10, 4))\n",
    "#ax1 = plt.subplot2grid((2, 5), (0, 0), colspan=3)\n",
    "#ax2 = plt.subplot2grid((2, 5), (1, 0), colspan=3)\n",
    "#ax3 = plt.subplot2grid((2, 5), (0, 3), colspan=2, rowspan=2)\n",
    "\n",
    "#ax1.plot(t, y[:, 0], 'r')\n",
    "#ax1.set_ylabel('$x_1$', fontsize=18)\n",
    "#ax1.set_yticks([-1, -.5, 0, .5, 1])\n",
    "\n",
    "#ax2.plot(t, y[:, 2], 'b')\n",
    "#ax2.set_xlabel('$t$', fontsize=18)\n",
    "#ax2.set_ylabel('$x_2$', fontsize=18)\n",
    "#ax2.set_yticks([-1, -.5, 0, .5, 1])\n",
    "\n",
    "#ax3.plot(y[:, 0], y[:, 2], 'k')\n",
    "#ax3.set_xlabel('$x_1$', fontsize=18)\n",
    "#ax3.set_ylabel('$x_2$', fontsize=18)\n",
    "#ax3.set_xticks([-1, -.5, 0, .5, 1])\n",
    "#ax3.set_yticks([-1, -.5, 0, .5, 1])\n",
    "\n",
    "#fig.tight_layout()"
   ]
  },
  {
   "cell_type": "markdown",
   "metadata": {},
   "source": [
    "### Double pendulum"
   ]
  },
  {
   "cell_type": "markdown",
   "metadata": {},
   "source": [
    "http://scienceworld.wolfram.com/physics/DoublePendulum.html"
   ]
  },
  {
   "cell_type": "markdown",
   "metadata": {},
   "source": [
    "$$\n",
    "(m_1+m_2) l_1\\theta_1'' + m_2l_2\\theta_2''\\cos(\\theta_1-\\theta_2)\n",
    "+ m_2l_2(\\theta_2')^2\\sin(\\theta_1-\\theta_2)+g(m_1+m_2)\\sin(\\theta_1) = 0\n",
    "$$\n",
    "\n",
    "$$\n",
    "m_2l_2\\theta_2'' + m_2l_1\\theta_1''\\cos(\\theta_1-\\theta_2) - m_2l_1 (\\theta_1')^2 \\sin(\\theta_1-\\theta_2)\n",
    "+m_2g\\sin(\\theta_2) = 0\n",
    "$$"
   ]
  },
  {
   "cell_type": "code",
   "execution_count": 100,
   "metadata": {
    "collapsed": false
   },
   "outputs": [],
   "source": [
    "t, g, m1, l1, m2, l2 = sympy.symbols(\"t, g, m_1, l_1, m_2, l_2\")"
   ]
  },
  {
   "cell_type": "code",
   "execution_count": 101,
   "metadata": {
    "collapsed": false
   },
   "outputs": [],
   "source": [
    "theta1, theta2 = sympy.symbols(\"theta_1, theta_2\", cls=sympy.Function)"
   ]
  },
  {
   "cell_type": "code",
   "execution_count": 102,
   "metadata": {
    "collapsed": false
   },
   "outputs": [
    {
     "data": {
      "image/png": "[encoded data removed]",
      "text/latex": [
       "$$g \\left(m_{1} + m_{2}\\right) \\sin{\\left (\\theta_{1}{\\left (t \\right )} \\right )} + l_{1} \\left(m_{1} + m_{2}\\right) \\frac{d^{2}}{d t^{2}}  \\theta_{1}{\\left (t \\right )} + l_{2} m_{2} \\sin{\\left (\\theta_{1}{\\left (t \\right )} - \\theta_{2}{\\left (t \\right )} \\right )} \\frac{d}{d t} \\theta_{2}{\\left (t \\right )}^{2} + l_{2} m_{2} \\frac{d^{2}}{d t^{2}}  \\theta_{2}{\\left (t \\right )} = 0$$"
      ],
      "text/plain": [
       "                                        2                                     \n",
       "                                       d                                    ⎛d\n",
       "g⋅(m₁ + m₂)⋅sin(θ₁(t)) + l₁⋅(m₁ + m₂)⋅───(θ₁(t)) + l₂⋅m₂⋅sin(θ₁(t) - θ₂(t))⋅⎜─\n",
       "                                        2                                   ⎝d\n",
       "                                      dt                                      \n",
       "\n",
       "         2           2           \n",
       "        ⎞           d            \n",
       "─(θ₂(t))⎟  + l₂⋅m₂⋅───(θ₂(t)) = 0\n",
       "t       ⎠            2           \n",
       "                   dt            "
      ]
     },
     "execution_count": 102,
     "metadata": {},
     "output_type": "execute_result"
    }
   ],
   "source": [
    "ode1 = sympy.Eq((m1+m2)*l1 * theta1(t).diff(t,t) +\n",
    "                m2*l2 * theta2(t).diff(t,t) +\n",
    "                m2*l2 * theta2(t).diff(t)**2 * sympy.sin(theta1(t)-theta2(t)) + \n",
    "                g*(m1+m2) * sympy.sin(theta1(t)))\n",
    "ode1"
   ]
  },
  {
   "cell_type": "code",
   "execution_count": 103,
   "metadata": {
    "collapsed": false
   },
   "outputs": [
    {
     "data": {
      "image/png": "[encoded data removed]",
      "text/latex": [
       "$$g m_{2} \\sin{\\left (\\theta_{2}{\\left (t \\right )} \\right )} - l_{1} m_{2} \\sin{\\left (\\theta_{1}{\\left (t \\right )} - \\theta_{2}{\\left (t \\right )} \\right )} \\frac{d}{d t} \\theta_{1}{\\left (t \\right )}^{2} + l_{1} m_{2} \\cos{\\left (\\theta_{1}{\\left (t \\right )} - \\theta_{2}{\\left (t \\right )} \\right )} \\frac{d^{2}}{d t^{2}}  \\theta_{1}{\\left (t \\right )} + l_{2} m_{2} \\frac{d^{2}}{d t^{2}}  \\theta_{2}{\\left (t \\right )} = 0$$"
      ],
      "text/plain": [
       "                                                      2                       \n",
       "                                           ⎛d        ⎞                        \n",
       "g⋅m₂⋅sin(θ₂(t)) - l₁⋅m₂⋅sin(θ₁(t) - θ₂(t))⋅⎜──(θ₁(t))⎟  + l₁⋅m₂⋅cos(θ₁(t) - θ₂\n",
       "                                           ⎝dt       ⎠                        \n",
       "                                                                              \n",
       "\n",
       "       2                  2           \n",
       "      d                  d            \n",
       "(t))⋅───(θ₁(t)) + l₂⋅m₂⋅───(θ₂(t)) = 0\n",
       "       2                  2           \n",
       "     dt                 dt            "
      ]
     },
     "execution_count": 103,
     "metadata": {},
     "output_type": "execute_result"
    }
   ],
   "source": [
    "ode2 = sympy.Eq(m2*l2 * theta2(t).diff(t,t) +\n",
    "                m2*l1 * theta1(t).diff(t,t) * sympy.cos(theta1(t)-theta2(t)) -\n",
    "                m2*l1 * theta1(t).diff(t)**2 * sympy.sin(theta1(t) - theta2(t)) +\n",
    "                m2*g * sympy.sin(theta2(t)))\n",
    "ode2"
   ]
  },
  {
   "cell_type": "code",
   "execution_count": 104,
   "metadata": {
    "collapsed": false
   },
   "outputs": [
    {
     "name": "stdout",
     "output_type": "stream",
     "text": [
      "cannot determine truth value of Relational\n"
     ]
    }
   ],
   "source": [
    "# this is fruitless, sympy cannot solve these ODEs\n",
    "try:\n",
    "    sympy.dsolve(ode1, ode2)\n",
    "except Exception as e:\n",
    "    print(e)"
   ]
  },
  {
   "cell_type": "code",
   "execution_count": 105,
   "metadata": {
    "collapsed": false
   },
   "outputs": [],
   "source": [
    "y1, y2, y3, y4 = sympy.symbols(\"y_1, y_2, y_3, y_4\", cls=sympy.Function)"
   ]
  },
  {
   "cell_type": "code",
   "execution_count": 106,
   "metadata": {
    "collapsed": false
   },
   "outputs": [],
   "source": [
    "varchange = {theta1(t).diff(t, t): y2(t).diff(t), \n",
    "             theta1(t): y1(t),\n",
    "             theta2(t).diff(t, t): y4(t).diff(t), \n",
    "             theta2(t): y3(t)}"
   ]
  },
  {
   "cell_type": "code",
   "execution_count": 107,
   "metadata": {
    "collapsed": false
   },
   "outputs": [],
   "source": [
    "ode1_vc = ode1.subs(varchange)"
   ]
  },
  {
   "cell_type": "code",
   "execution_count": 108,
   "metadata": {
    "collapsed": false
   },
   "outputs": [],
   "source": [
    "ode2_vc = ode2.subs(varchange)"
   ]
  },
  {
   "cell_type": "code",
   "execution_count": 109,
   "metadata": {
    "collapsed": false
   },
   "outputs": [],
   "source": [
    "ode3 = y1(t).diff(t) - y2(t)"
   ]
  },
  {
   "cell_type": "code",
   "execution_count": 110,
   "metadata": {
    "collapsed": false
   },
   "outputs": [],
   "source": [
    "ode4 = y3(t).diff(t) - y4(t)"
   ]
  },
  {
   "cell_type": "code",
   "execution_count": 111,
   "metadata": {
    "collapsed": false
   },
   "outputs": [],
   "source": [
    "y = sympy.Matrix([y1(t), y2(t), y3(t), y4(t)])"
   ]
  },
  {
   "cell_type": "code",
   "execution_count": 112,
   "metadata": {
    "collapsed": false
   },
   "outputs": [],
   "source": [
    "vcsol = sympy.solve((ode1_vc, ode2_vc, ode3, ode4), y.diff(t), dict=True)"
   ]
  },
  {
   "cell_type": "code",
   "execution_count": 113,
   "metadata": {
    "collapsed": false
   },
   "outputs": [],
   "source": [
    "f = y.diff(t).subs(vcsol[0])"
   ]
  },
  {
   "cell_type": "code",
   "execution_count": 114,
   "metadata": {
    "collapsed": false
   },
   "outputs": [
    {
     "data": {
      "text/latex": [
       "$$\\left[\\begin{matrix}\\frac{d}{d t} \\operatorname{y_{1}}{\\left (t \\right )}\\\\\\frac{d}{d t} \\operatorname{y_{2}}{\\left (t \\right )}\\\\\\frac{d}{d t} \\operatorname{y_{3}}{\\left (t \\right )}\\\\\\frac{d}{d t} \\operatorname{y_{4}}{\\left (t \\right )}\\end{matrix}\\right] = \\left[\\begin{matrix}\\operatorname{y_{2}}{\\left (t \\right )}\\\\\\frac{1}{l_{1} \\left(m_{1} - m_{2} \\cos{\\left (\\operatorname{y_{1}}{\\left (t \\right )} - \\operatorname{y_{3}}{\\left (t \\right )} \\right )} + m_{2}\\right)} \\left(- g m_{1} \\sin{\\left (\\operatorname{y_{1}}{\\left (t \\right )} \\right )} - g m_{2} \\sin{\\left (\\operatorname{y_{1}}{\\left (t \\right )} \\right )} + g m_{2} \\sin{\\left (\\operatorname{y_{3}}{\\left (t \\right )} \\right )} - l_{1} m_{2} \\operatorname{y_{2}}^{2}{\\left (t \\right )} \\sin{\\left (\\operatorname{y_{1}}{\\left (t \\right )} - \\operatorname{y_{3}}{\\left (t \\right )} \\right )} - l_{2} m_{2} \\operatorname{y_{4}}^{2}{\\left (t \\right )} \\sin{\\left (\\operatorname{y_{1}}{\\left (t \\right )} - \\operatorname{y_{3}}{\\left (t \\right )} \\right )}\\right)\\\\\\operatorname{y_{4}}{\\left (t \\right )}\\\\\\frac{1}{2 l_{2} \\left(m_{1} - m_{2} \\cos{\\left (\\operatorname{y_{1}}{\\left (t \\right )} - \\operatorname{y_{3}}{\\left (t \\right )} \\right )} + m_{2}\\right)} \\left(g m_{1} \\sin{\\left (2 \\operatorname{y_{1}}{\\left (t \\right )} - \\operatorname{y_{3}}{\\left (t \\right )} \\right )} - g m_{1} \\sin{\\left (\\operatorname{y_{3}}{\\left (t \\right )} \\right )} + g m_{2} \\sin{\\left (2 \\operatorname{y_{1}}{\\left (t \\right )} - \\operatorname{y_{3}}{\\left (t \\right )} \\right )} - g m_{2} \\sin{\\left (\\operatorname{y_{3}}{\\left (t \\right )} \\right )} + 2 l_{1} m_{1} \\operatorname{y_{2}}^{2}{\\left (t \\right )} \\sin{\\left (\\operatorname{y_{1}}{\\left (t \\right )} - \\operatorname{y_{3}}{\\left (t \\right )} \\right )} + 2 l_{1} m_{2} \\operatorname{y_{2}}^{2}{\\left (t \\right )} \\sin{\\left (\\operatorname{y_{1}}{\\left (t \\right )} - \\operatorname{y_{3}}{\\left (t \\right )} \\right )} + l_{2} m_{2} \\operatorname{y_{4}}^{2}{\\left (t \\right )} \\sin{\\left (2 \\operatorname{y_{1}}{\\left (t \\right )} - 2 \\operatorname{y_{3}}{\\left (t \\right )} \\right )}\\right)\\end{matrix}\\right]$$"
      ],
      "text/plain": [
       "⎡d        ⎤                                                                   \n",
       "⎢──(y₁(t))⎥ = ⎡                                                               \n",
       "⎢dt       ⎥   ⎢                                                               \n",
       "⎢         ⎥   ⎢                                                               \n",
       "⎢d        ⎥   ⎢                                       -g⋅m₁⋅sin(y₁(t)) - g⋅m₂⋅\n",
       "⎢──(y₂(t))⎥   ⎢                                       ────────────────────────\n",
       "⎢dt       ⎥   ⎢                                                               \n",
       "⎢         ⎥   ⎢                                                               \n",
       "⎢d        ⎥   ⎢                                                               \n",
       "⎢──(y₃(t))⎥   ⎢                                                               \n",
       "⎢dt       ⎥   ⎢                                                               \n",
       "⎢         ⎥   ⎢g⋅m₁⋅sin(2⋅y₁(t) - y₃(t)) - g⋅m₁⋅sin(y₃(t)) + g⋅m₂⋅sin(2⋅y₁(t) \n",
       "⎢d        ⎥   ⎢───────────────────────────────────────────────────────────────\n",
       "⎢──(y₄(t))⎥   ⎣                                                               \n",
       "⎣dt       ⎦                                                                   \n",
       "\n",
       "                                                                              \n",
       "                                  y₂(t)                                       \n",
       "                                                                              \n",
       "                                       2                                 2    \n",
       "sin(y₁(t)) + g⋅m₂⋅sin(y₃(t)) - l₁⋅m₂⋅y₂ (t)⋅sin(y₁(t) - y₃(t)) - l₂⋅m₂⋅y₄ (t)⋅\n",
       "──────────────────────────────────────────────────────────────────────────────\n",
       "                  l₁⋅(m₁ - m₂⋅cos(y₁(t) - y₃(t)) + m₂)                        \n",
       "                                                                              \n",
       "                                  y₄(t)                                       \n",
       "                                                                              \n",
       "                                       2                                   2  \n",
       "- y₃(t)) - g⋅m₂⋅sin(y₃(t)) + 2⋅l₁⋅m₁⋅y₂ (t)⋅sin(y₁(t) - y₃(t)) + 2⋅l₁⋅m₂⋅y₂ (t\n",
       "──────────────────────────────────────────────────────────────────────────────\n",
       "                  2⋅l₂⋅(m₁ - m₂⋅cos(y₁(t) - y₃(t)) + m₂)                      \n",
       "                                                                              \n",
       "\n",
       "                                                           \n",
       "                                                          ⎤\n",
       "                                                          ⎥\n",
       "                                                          ⎥\n",
       "sin(y₁(t) - y₃(t))                                        ⎥\n",
       "──────────────────                                        ⎥\n",
       "                                                          ⎥\n",
       "                                                          ⎥\n",
       "                                                          ⎥\n",
       "                                                          ⎥\n",
       "                               2                          ⎥\n",
       ")⋅sin(y₁(t) - y₃(t)) + l₂⋅m₂⋅y₄ (t)⋅sin(2⋅y₁(t) - 2⋅y₃(t))⎥\n",
       "──────────────────────────────────────────────────────────⎥\n",
       "                                                          ⎦\n",
       "                                                           "
      ]
     },
     "execution_count": 114,
     "metadata": {},
     "output_type": "execute_result"
    }
   ],
   "source": [
    "sympy.Eq(y.diff(t), f)"
   ]
  },
  {
   "cell_type": "code",
   "execution_count": 115,
   "metadata": {
    "collapsed": false
   },
   "outputs": [],
   "source": [
    "params = {m1: 5.0, l1: 2.0,\n",
    "          m2: 1.0, l2: 1.0, g: 10.0}"
   ]
  },
  {
   "cell_type": "code",
   "execution_count": 116,
   "metadata": {
    "collapsed": false
   },
   "outputs": [],
   "source": [
    "f_np = sympy.lambdify((t, y), f.subs(params), 'numpy')"
   ]
  },
  {
   "cell_type": "code",
   "execution_count": 117,
   "metadata": {
    "collapsed": false
   },
   "outputs": [],
   "source": [
    "jac = sympy.Matrix([[fj.diff(yi) for yi in y] for fj in f])"
   ]
  },
  {
   "cell_type": "code",
   "execution_count": 118,
   "metadata": {
    "collapsed": false
   },
   "outputs": [],
   "source": [
    "jac_np = sympy.lambdify((t, y), jac.subs(params), 'numpy')"
   ]
  },
  {
   "cell_type": "code",
   "execution_count": 119,
   "metadata": {
    "collapsed": false
   },
   "outputs": [],
   "source": [
    "y0 = [2.0, 0, 0.0, 0]"
   ]
  },
  {
   "cell_type": "code",
   "execution_count": 120,
   "metadata": {
    "collapsed": false
   },
   "outputs": [],
   "source": [
    "t = np.linspace(0, 20, 1000)"
   ]
  },
  {
   "cell_type": "code",
   "execution_count": 121,
   "metadata": {
    "collapsed": false
   },
   "outputs": [
    {
     "data": {
      "text/plain": [
       "array([[ 0.        ,  1.        ,  0.        ,  0.        ],\n",
       "       [ 2.54831741, -0.        ,  0.1767457 , -0.        ],\n",
       "       [ 0.        ,  0.        ,  0.        ,  1.        ],\n",
       "       [-5.61099875,  0.        , -2.12094846, -0.        ]])"
      ]
     },
     "execution_count": 121,
     "metadata": {},
     "output_type": "execute_result"
    }
   ],
   "source": [
    "jac_np(0, y0)"
   ]
  },
  {
   "cell_type": "code",
   "execution_count": 122,
   "metadata": {
    "collapsed": false
   },
   "outputs": [],
   "source": [
    "r = integrate.ode(f_np, jac_np).set_initial_value(y0, t[0]);\n",
    " \n",
    "dt = t[1] - t[0]\n",
    "y = np.zeros((len(t), len(y0)))\n",
    "idx = 0\n",
    "while r.successful() and r.t < t[-1]:\n",
    "    y[idx, :] = r.y\n",
    "    r.integrate(r.t + dt)\n",
    "    idx += 1"
   ]
  },
  {
   "cell_type": "code",
   "execution_count": 123,
   "metadata": {
    "collapsed": false
   },
   "outputs": [],
   "source": [
    "#fig = plt.figure(figsize=(10, 4))\n",
    "#ax1 = plt.subplot2grid((2, 5), (0, 0), colspan=3)\n",
    "#ax2 = plt.subplot2grid((2, 5), (1, 0), colspan=3)\n",
    "#ax3 = plt.subplot2grid((2, 5), (0, 3), colspan=2, rowspan=2)\n",
    "\n",
    "#ax1.plot(t, y[:, 0], 'r')\n",
    "#ax1.set_ylabel(r'$\\theta_1$', fontsize=18)\n",
    "\n",
    "#ax2.plot(t, y[:, 2], 'b')\n",
    "#ax2.set_xlabel('$t$', fontsize=18)\n",
    "#ax2.set_ylabel(r'$\\theta_2$', fontsize=18)\n",
    "\n",
    "#ax3.plot(y[:, 0], y[:, 2], 'k')\n",
    "#ax3.set_xlabel(r'$\\theta_1$', fontsize=18)\n",
    "#ax3.set_ylabel(r'$\\theta_2$', fontsize=18)\n",
    "\n",
    "#fig.tight_layout()"
   ]
  },
  {
   "cell_type": "code",
   "execution_count": 124,
   "metadata": {
    "collapsed": false
   },
   "outputs": [],
   "source": [
    "theta1_np, theta2_np = y[:, 0], y[:, 2]"
   ]
  },
  {
   "cell_type": "code",
   "execution_count": 125,
   "metadata": {
    "collapsed": false
   },
   "outputs": [],
   "source": [
    "x1 = params[l1] * np.sin(theta1_np)\n",
    "y1 = -params[l1] * np.cos(theta1_np)\n",
    "x2 = x1 + params[l2] * np.sin(theta2_np)\n",
    "y2 = y1 - params[l2] * np.cos(theta2_np)"
   ]
  },
  {
   "cell_type": "code",
   "execution_count": 126,
   "metadata": {
    "collapsed": false
   },
   "outputs": [],
   "source": [
    "#fig = plt.figure(figsize=(10, 4))\n",
    "#ax1 = plt.subplot2grid((2, 5), (0, 0), colspan=3)\n",
    "#ax2 = plt.subplot2grid((2, 5), (1, 0), colspan=3)\n",
    "#ax3 = plt.subplot2grid((2, 5), (0, 3), colspan=2, rowspan=2)\n",
    "\n",
    "#ax1.plot(t, x1, 'r')\n",
    "#ax1.plot(t, y1, 'b')\n",
    "#ax1.set_ylabel('$x_1, y_1$', fontsize=18)\n",
    "#ax1.set_yticks([-3, 0, 3])\n",
    "\n",
    "#ax2.plot(t, x2, 'r')\n",
    "#ax2.plot(t, y2, 'b')\n",
    "#ax2.set_xlabel('$t$', fontsize=18)\n",
    "#ax2.set_ylabel('$x_2, y_2$', fontsize=18)\n",
    "#ax2.set_yticks([-3, 0, 3])\n",
    "\n",
    "#ax3.plot(x1, y1, 'r')\n",
    "#ax3.plot(x2, y2, 'b', lw=0.5)\n",
    "#ax3.set_xlabel('$x$', fontsize=18)\n",
    "#ax3.set_ylabel('$y$', fontsize=18)\n",
    "#ax3.set_xticks([-3, 0, 3])\n",
    "#ax3.set_yticks([-3, 0, 3])\n",
    "\n",
    "#fig.tight_layout()\n",
    "#fig.savefig('ch9-double-pendulum.pdf')"
   ]
  }
 ],
 "metadata": {
  "kernelspec": {
   "display_name": "Python [Root]",
   "language": "python",
   "name": "Python [Root]"
  },
  "language_info": {
   "codemirror_mode": {
    "name": "ipython",
    "version": 3
   },
   "file_extension": ".py",
   "mimetype": "text/x-python",
   "name": "python",
   "nbconvert_exporter": "python",
   "pygments_lexer": "ipython3",
   "version": "3.5.2"
  }
 },
 "nbformat": 4,
 "nbformat_minor": 0
}
