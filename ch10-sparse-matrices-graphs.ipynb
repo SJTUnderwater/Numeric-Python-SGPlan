{
 "cells": [
  {
   "cell_type": "markdown",
   "metadata": {},
   "source": [
    "# Chapter 10: Sparse matrices and graphs"
   ]
  },
  {
   "cell_type": "code",
   "execution_count": 1,
   "metadata": {
    "collapsed": false
   },
   "outputs": [],
   "source": [
    "%matplotlib inline\n",
    "%config InlineBackend.figure_format='retina'"
   ]
  },
  {
   "cell_type": "code",
   "execution_count": 2,
   "metadata": {
    "collapsed": false
   },
   "outputs": [],
   "source": [
    "import matplotlib.pyplot as plt\n",
    "import matplotlib as mpl\n",
    "mpl.rcParams['text.usetex'] = True"
   ]
  },
  {
   "cell_type": "code",
   "execution_count": 3,
   "metadata": {
    "collapsed": false
   },
   "outputs": [],
   "source": [
    "import scipy.sparse as sp\n",
    "import scipy.sparse.linalg\n",
    "import scipy.linalg as la\n",
    "import numpy as np"
   ]
  },
  {
   "cell_type": "code",
   "execution_count": 4,
   "metadata": {
    "collapsed": false
   },
   "outputs": [],
   "source": [
    "import networkx as nx"
   ]
  },
  {
   "cell_type": "markdown",
   "metadata": {},
   "source": [
    "![pic](pics/sparse-matrix-representations.png)"
   ]
  },
  {
   "cell_type": "markdown",
   "metadata": {},
   "source": [
    "### Coordinate list format\n",
    "* store lists of column & row indices together with a list of nonzero values."
   ]
  },
  {
   "cell_type": "code",
   "execution_count": 5,
   "metadata": {
    "collapsed": false
   },
   "outputs": [],
   "source": [
    "values = [1, 2, 3, 4]\n",
    "rows   = [0, 1, 2, 3]\n",
    "cols   = [1, 3, 2, 0]"
   ]
  },
  {
   "cell_type": "code",
   "execution_count": 6,
   "metadata": {
    "collapsed": false
   },
   "outputs": [
    {
     "data": {
      "text/plain": [
       "matrix([[0, 1, 0, 0],\n",
       "        [0, 0, 0, 2],\n",
       "        [0, 0, 3, 0],\n",
       "        [4, 0, 0, 0]])"
      ]
     },
     "execution_count": 6,
     "metadata": {},
     "output_type": "execute_result"
    }
   ],
   "source": [
    "# coo_matrix() == coordinate list format\n",
    "A = sp.coo_matrix((values, (rows, cols)), shape=[4, 4])\n",
    "A.todense()"
   ]
  },
  {
   "cell_type": "code",
   "execution_count": 7,
   "metadata": {
    "collapsed": false
   },
   "outputs": [
    {
     "data": {
      "text/plain": [
       "((4, 4), 4, dtype('int64'), 2)"
      ]
     },
     "execution_count": 7,
     "metadata": {},
     "output_type": "execute_result"
    }
   ],
   "source": [
    "# various attributes\n",
    "A.shape, A.size, A.dtype, A.ndim"
   ]
  },
  {
   "cell_type": "code",
   "execution_count": 8,
   "metadata": {
    "collapsed": false
   },
   "outputs": [
    {
     "data": {
      "text/plain": [
       "(4,\n",
       " array([1, 2, 3, 4]),\n",
       " array([0, 1, 2, 3], dtype=int32),\n",
       " array([1, 3, 2, 0], dtype=int32))"
      ]
     },
     "execution_count": 8,
     "metadata": {},
     "output_type": "execute_result"
    }
   ],
   "source": [
    "A.nnz, A.data, A.row, A.col"
   ]
  },
  {
   "cell_type": "code",
   "execution_count": 9,
   "metadata": {
    "collapsed": false
   },
   "outputs": [
    {
     "data": {
      "text/plain": [
       "<4x4 sparse matrix of type '<class 'numpy.int64'>'\n",
       "\twith 4 stored elements in Compressed Sparse Row format>"
      ]
     },
     "execution_count": 9,
     "metadata": {},
     "output_type": "execute_result"
    }
   ],
   "source": [
    "# convert to CSR (compressed sparse row) format)\n",
    "A.tocsr()"
   ]
  },
  {
   "cell_type": "code",
   "execution_count": 10,
   "metadata": {
    "collapsed": false
   },
   "outputs": [
    {
     "data": {
      "text/plain": [
       "array([[0, 1, 0, 0],\n",
       "       [0, 0, 0, 2],\n",
       "       [0, 0, 3, 0],\n",
       "       [4, 0, 0, 0]])"
      ]
     },
     "execution_count": 10,
     "metadata": {},
     "output_type": "execute_result"
    }
   ],
   "source": [
    "A.toarray()"
   ]
  },
  {
   "cell_type": "code",
   "execution_count": 11,
   "metadata": {
    "collapsed": false
   },
   "outputs": [
    {
     "data": {
      "text/plain": [
       "matrix([[0, 1, 0, 0],\n",
       "        [0, 0, 0, 2],\n",
       "        [0, 0, 3, 0],\n",
       "        [4, 0, 0, 0]])"
      ]
     },
     "execution_count": 11,
     "metadata": {},
     "output_type": "execute_result"
    }
   ],
   "source": [
    "A.todense()"
   ]
  },
  {
   "cell_type": "markdown",
   "metadata": {},
   "source": [
    "Not all sparse matrix formats supports indexing:"
   ]
  },
  {
   "cell_type": "code",
   "execution_count": 12,
   "metadata": {
    "collapsed": false
   },
   "outputs": [],
   "source": [
    "# Not all sparse matrix formats support indexing\n",
    "#A[1,2]"
   ]
  },
  {
   "cell_type": "code",
   "execution_count": 13,
   "metadata": {
    "collapsed": false
   },
   "outputs": [],
   "source": [
    "# Not all sparse matrix formats support indexing\n",
    "#A.tobsr()[1,2]"
   ]
  },
  {
   "cell_type": "markdown",
   "metadata": {},
   "source": [
    "But some do:"
   ]
  },
  {
   "cell_type": "code",
   "execution_count": 14,
   "metadata": {
    "collapsed": false
   },
   "outputs": [
    {
     "data": {
      "text/plain": [
       "0"
      ]
     },
     "execution_count": 14,
     "metadata": {},
     "output_type": "execute_result"
    }
   ],
   "source": [
    "A.tocsr()[1,2]"
   ]
  },
  {
   "cell_type": "code",
   "execution_count": 15,
   "metadata": {
    "collapsed": false
   },
   "outputs": [
    {
     "data": {
      "text/plain": [
       "<2x1 sparse matrix of type '<class 'numpy.int64'>'\n",
       "\twith 1 stored elements in LInked List format>"
      ]
     },
     "execution_count": 15,
     "metadata": {},
     "output_type": "execute_result"
    }
   ],
   "source": [
    "A.tolil()[1:3,3]"
   ]
  },
  {
   "cell_type": "markdown",
   "metadata": {},
   "source": [
    "### CSR (Compressed Sparse Row format)\n",
    "* Along with CSC (compressed sparse column), best suited for computation tasks"
   ]
  },
  {
   "cell_type": "code",
   "execution_count": 16,
   "metadata": {
    "collapsed": false
   },
   "outputs": [
    {
     "data": {
      "text/plain": [
       "array([[1, 2, 0, 0],\n",
       "       [0, 3, 4, 0],\n",
       "       [0, 0, 5, 6],\n",
       "       [7, 0, 8, 9]])"
      ]
     },
     "execution_count": 16,
     "metadata": {},
     "output_type": "execute_result"
    }
   ],
   "source": [
    "A = np.array([[1, 2, 0, 0], [0, 3, 4, 0], [0, 0, 5, 6], [7, 0, 8, 9]]); A"
   ]
  },
  {
   "cell_type": "code",
   "execution_count": 17,
   "metadata": {
    "collapsed": false
   },
   "outputs": [
    {
     "data": {
      "text/plain": [
       "array([1, 2, 3, 4, 5, 6, 7, 8, 9], dtype=int64)"
      ]
     },
     "execution_count": 17,
     "metadata": {},
     "output_type": "execute_result"
    }
   ],
   "source": [
    "A = sp.csr_matrix(A)\n",
    "A.data"
   ]
  },
  {
   "cell_type": "code",
   "execution_count": 18,
   "metadata": {
    "collapsed": false
   },
   "outputs": [
    {
     "data": {
      "text/plain": [
       "array([0, 1, 1, 2, 2, 3, 0, 2, 3], dtype=int32)"
      ]
     },
     "execution_count": 18,
     "metadata": {},
     "output_type": "execute_result"
    }
   ],
   "source": [
    "# column indices coresponding to A's nonzero values\n",
    "A.indices"
   ]
  },
  {
   "cell_type": "code",
   "execution_count": 19,
   "metadata": {
    "collapsed": false
   },
   "outputs": [
    {
     "data": {
      "text/plain": [
       "array([0, 2, 4, 6, 9], dtype=int32)"
      ]
     },
     "execution_count": 19,
     "metadata": {},
     "output_type": "execute_result"
    }
   ],
   "source": [
    "# starting positions, per row, of column indices in A\n",
    "# plus total number of nonzero elements added to end of array\n",
    "A.indptr"
   ]
  },
  {
   "cell_type": "code",
   "execution_count": 20,
   "metadata": {
    "collapsed": false
   },
   "outputs": [],
   "source": [
    "i = 2"
   ]
  },
  {
   "cell_type": "code",
   "execution_count": 21,
   "metadata": {
    "collapsed": false
   },
   "outputs": [
    {
     "data": {
      "text/plain": [
       "(4, 5)"
      ]
     },
     "execution_count": 21,
     "metadata": {},
     "output_type": "execute_result"
    }
   ],
   "source": [
    "A.indptr[i], A.indptr[i+1]-1"
   ]
  },
  {
   "cell_type": "code",
   "execution_count": 22,
   "metadata": {
    "collapsed": false
   },
   "outputs": [
    {
     "data": {
      "text/plain": [
       "array([2, 3], dtype=int32)"
      ]
     },
     "execution_count": 22,
     "metadata": {},
     "output_type": "execute_result"
    }
   ],
   "source": [
    "A.indices[A.indptr[i]:A.indptr[i+1]]"
   ]
  },
  {
   "cell_type": "code",
   "execution_count": 23,
   "metadata": {
    "collapsed": false
   },
   "outputs": [
    {
     "data": {
      "text/plain": [
       "array([5, 6], dtype=int64)"
      ]
     },
     "execution_count": 23,
     "metadata": {},
     "output_type": "execute_result"
    }
   ],
   "source": [
    "A.data[A.indptr[i]:A.indptr[i+1]]"
   ]
  },
  {
   "cell_type": "markdown",
   "metadata": {},
   "source": [
    "### Functions for constructing sparse matrices\n",
    "* Often more convenient to use templates in sp.sparse\n",
    "* sp.eye (ones on diagonal)\n",
    "* sp.diags (spec'd pattern on diagonal)\n",
    "* sp.kron  (kronecker tensor product of 2 sparse matrices)\n",
    "* sp.bmat, sp.vstack, sp.hstack"
   ]
  },
  {
   "cell_type": "code",
   "execution_count": 24,
   "metadata": {
    "collapsed": false
   },
   "outputs": [],
   "source": [
    "N = 10"
   ]
  },
  {
   "cell_type": "code",
   "execution_count": 25,
   "metadata": {
    "collapsed": false
   },
   "outputs": [],
   "source": [
    "A = -2 * sp.eye(N) + sp.eye(N, k=1) + sp.eye(N, k=-1)"
   ]
  },
  {
   "cell_type": "code",
   "execution_count": 26,
   "metadata": {
    "collapsed": false
   },
   "outputs": [
    {
     "data": {
      "text/plain": [
       "matrix([[-2.,  1.,  0.,  0.,  0.,  0.,  0.,  0.,  0.,  0.],\n",
       "        [ 1., -2.,  1.,  0.,  0.,  0.,  0.,  0.,  0.,  0.],\n",
       "        [ 0.,  1., -2.,  1.,  0.,  0.,  0.,  0.,  0.,  0.],\n",
       "        [ 0.,  0.,  1., -2.,  1.,  0.,  0.,  0.,  0.,  0.],\n",
       "        [ 0.,  0.,  0.,  1., -2.,  1.,  0.,  0.,  0.,  0.],\n",
       "        [ 0.,  0.,  0.,  0.,  1., -2.,  1.,  0.,  0.,  0.],\n",
       "        [ 0.,  0.,  0.,  0.,  0.,  1., -2.,  1.,  0.,  0.],\n",
       "        [ 0.,  0.,  0.,  0.,  0.,  0.,  1., -2.,  1.,  0.],\n",
       "        [ 0.,  0.,  0.,  0.,  0.,  0.,  0.,  1., -2.,  1.],\n",
       "        [ 0.,  0.,  0.,  0.,  0.,  0.,  0.,  0.,  1., -2.]])"
      ]
     },
     "execution_count": 26,
     "metadata": {},
     "output_type": "execute_result"
    }
   ],
   "source": [
    "A.todense()"
   ]
  },
  {
   "cell_type": "code",
   "execution_count": 27,
   "metadata": {
    "collapsed": false
   },
   "outputs": [],
   "source": [
    "#fig, ax = plt.subplots()\n",
    "#ax.spy(A)\n",
    "#fig.savefig(\"ch10-sparse-matrix-1.pdf\");"
   ]
  },
  {
   "cell_type": "code",
   "execution_count": 28,
   "metadata": {
    "collapsed": false
   },
   "outputs": [],
   "source": [
    "A = sp.diags([1,-2,1], [1,0,-1], shape=[N, N], format='csc')"
   ]
  },
  {
   "cell_type": "code",
   "execution_count": 29,
   "metadata": {
    "collapsed": false
   },
   "outputs": [
    {
     "data": {
      "text/plain": [
       "matrix([[-2.,  1.,  0.,  0.,  0.,  0.,  0.,  0.,  0.,  0.],\n",
       "        [ 1., -2.,  1.,  0.,  0.,  0.,  0.,  0.,  0.,  0.],\n",
       "        [ 0.,  1., -2.,  1.,  0.,  0.,  0.,  0.,  0.,  0.],\n",
       "        [ 0.,  0.,  1., -2.,  1.,  0.,  0.,  0.,  0.,  0.],\n",
       "        [ 0.,  0.,  0.,  1., -2.,  1.,  0.,  0.,  0.,  0.],\n",
       "        [ 0.,  0.,  0.,  0.,  1., -2.,  1.,  0.,  0.,  0.],\n",
       "        [ 0.,  0.,  0.,  0.,  0.,  1., -2.,  1.,  0.,  0.],\n",
       "        [ 0.,  0.,  0.,  0.,  0.,  0.,  1., -2.,  1.,  0.],\n",
       "        [ 0.,  0.,  0.,  0.,  0.,  0.,  0.,  1., -2.,  1.],\n",
       "        [ 0.,  0.,  0.,  0.,  0.,  0.,  0.,  0.,  1., -2.]])"
      ]
     },
     "execution_count": 29,
     "metadata": {},
     "output_type": "execute_result"
    }
   ],
   "source": [
    "A.todense()"
   ]
  },
  {
   "cell_type": "code",
   "execution_count": 30,
   "metadata": {
    "collapsed": false
   },
   "outputs": [],
   "source": [
    "#fig, ax = plt.subplots()\n",
    "#ax.spy(A);"
   ]
  },
  {
   "cell_type": "code",
   "execution_count": 31,
   "metadata": {
    "collapsed": false
   },
   "outputs": [
    {
     "data": {
      "text/plain": [
       "matrix([[ 0.,  1.,  0.],\n",
       "        [ 1.,  0.,  1.],\n",
       "        [ 0.,  1.,  0.]])"
      ]
     },
     "execution_count": 31,
     "metadata": {},
     "output_type": "execute_result"
    }
   ],
   "source": [
    "B = sp.diags([1, 1], [-1, 1], shape=[3,3])\n",
    "B.todense()"
   ]
  },
  {
   "cell_type": "code",
   "execution_count": 32,
   "metadata": {
    "collapsed": false
   },
   "outputs": [
    {
     "data": {
      "text/plain": [
       "<3x3 sparse matrix of type '<class 'numpy.float64'>'\n",
       "\twith 4 stored elements (2 diagonals) in DIAgonal format>"
      ]
     },
     "execution_count": 32,
     "metadata": {},
     "output_type": "execute_result"
    }
   ],
   "source": [
    "B"
   ]
  },
  {
   "cell_type": "code",
   "execution_count": 33,
   "metadata": {
    "collapsed": false
   },
   "outputs": [
    {
     "data": {
      "text/plain": [
       "<30x30 sparse matrix of type '<class 'numpy.float64'>'\n",
       "\twith 112 stored elements in Compressed Sparse Row format>"
      ]
     },
     "execution_count": 33,
     "metadata": {},
     "output_type": "execute_result"
    }
   ],
   "source": [
    "C = sp.kron(A, B, format='csr')\n",
    "C"
   ]
  },
  {
   "cell_type": "code",
   "execution_count": 34,
   "metadata": {
    "collapsed": false
   },
   "outputs": [],
   "source": [
    "#fig, (ax_A, ax_B, ax_C) = plt.subplots(1, 3, figsize=(12, 4))\n",
    "#ax_A.spy(A)\n",
    "#ax_B.spy(B)\n",
    "#ax_C.spy(C)\n",
    "#fig.savefig(\"ch10-sparse-matrix-2.pdf\");"
   ]
  },
  {
   "cell_type": "markdown",
   "metadata": {},
   "source": [
    "![pic](pics/sparse-a-b-tensorprod.png)"
   ]
  },
  {
   "cell_type": "markdown",
   "metadata": {},
   "source": [
    "### Sparse linear algebra\n",
    "* use case: large matrices == not well suited to dense matrix designs\n",
    "* scipy.sparse.linalg is NOT equal to scipy.linalg (example: dense eigenvalue solvers typically return ALL results; sparse eigenvalue solvers return a subset, typically smallest or largest results.)"
   ]
  },
  {
   "cell_type": "code",
   "execution_count": 35,
   "metadata": {
    "collapsed": false
   },
   "outputs": [],
   "source": [
    "# typical use case: solving Ax=b (A = sparse matrix, x&b = dense vectors)\n",
    "# linalg has direct & iterative solvers (sp.linalg.spsolve)\n",
    "# linalg also has matrix LU factorization methods (sp.linalg.splu, sp.linalg.spilu)\n",
    "N = 10"
   ]
  },
  {
   "cell_type": "code",
   "execution_count": 36,
   "metadata": {
    "collapsed": false
   },
   "outputs": [
    {
     "data": {
      "text/plain": [
       "<10x10 sparse matrix of type '<class 'numpy.float64'>'\n",
       "\twith 28 stored elements in Compressed Sparse Column format>"
      ]
     },
     "execution_count": 36,
     "metadata": {},
     "output_type": "execute_result"
    }
   ],
   "source": [
    "A = sp.diags([1, -2, 1], [1, 0, -1], shape=[N, N], format='csc')\n",
    "A"
   ]
  },
  {
   "cell_type": "code",
   "execution_count": 37,
   "metadata": {
    "collapsed": false
   },
   "outputs": [
    {
     "data": {
      "text/plain": [
       "array([-1., -1., -1., -1., -1., -1., -1., -1., -1., -1.])"
      ]
     },
     "execution_count": 37,
     "metadata": {},
     "output_type": "execute_result"
    }
   ],
   "source": [
    "b = -np.ones(N)\n",
    "b"
   ]
  },
  {
   "cell_type": "code",
   "execution_count": 38,
   "metadata": {
    "collapsed": false
   },
   "outputs": [
    {
     "data": {
      "text/plain": [
       "array([  5.,   9.,  12.,  14.,  15.,  15.,  14.,  12.,   9.,   5.])"
      ]
     },
     "execution_count": 38,
     "metadata": {},
     "output_type": "execute_result"
    }
   ],
   "source": [
    "# direct solver, returns dense Numpy array:\n",
    "x = sp.linalg.spsolve(A, b)\n",
    "x"
   ]
  },
  {
   "cell_type": "code",
   "execution_count": 39,
   "metadata": {
    "collapsed": false
   },
   "outputs": [
    {
     "data": {
      "text/plain": [
       "array([  5.,   9.,  12.,  14.,  15.,  15.,  14.,  12.,   9.,   5.])"
      ]
     },
     "execution_count": 39,
     "metadata": {},
     "output_type": "execute_result"
    }
   ],
   "source": [
    "# to use dense solver, need to convert A to dense array first.\n",
    "np.linalg.solve(A.todense(), b)"
   ]
  },
  {
   "cell_type": "markdown",
   "metadata": {},
   "source": [
    "* N=100 is typical performance crossover point\n",
    "![pic](pics/dense-vs-sparse.png)"
   ]
  },
  {
   "cell_type": "code",
   "execution_count": 40,
   "metadata": {
    "collapsed": false
   },
   "outputs": [],
   "source": [
    "# LU factorization; returns L & U factors; has method to solve LUx=b for given b.\n",
    "# use case: solve Ax=b for multiple vectors b\n",
    "lu = sp.linalg.splu(A)"
   ]
  },
  {
   "cell_type": "code",
   "execution_count": 41,
   "metadata": {
    "collapsed": false
   },
   "outputs": [
    {
     "data": {
      "text/plain": [
       "(<10x10 sparse matrix of type '<class 'numpy.float64'>'\n",
       " \twith 20 stored elements in Compressed Sparse Column format>,\n",
       " <10x10 sparse matrix of type '<class 'numpy.float64'>'\n",
       " \twith 20 stored elements in Compressed Sparse Column format>)"
      ]
     },
     "execution_count": 41,
     "metadata": {},
     "output_type": "execute_result"
    }
   ],
   "source": [
    "lu.L, lu.U"
   ]
  },
  {
   "cell_type": "code",
   "execution_count": 42,
   "metadata": {
    "collapsed": false
   },
   "outputs": [
    {
     "data": {
      "text/plain": [
       "array([  5.,   9.,  12.,  14.,  15.,  15.,  14.,  12.,   9.,   5.])"
      ]
     },
     "execution_count": 42,
     "metadata": {},
     "output_type": "execute_result"
    }
   ],
   "source": [
    "# now can solve LUx=b\n",
    "x = lu.solve(b)\n",
    "x"
   ]
  },
  {
   "cell_type": "code",
   "execution_count": 43,
   "metadata": {
    "collapsed": false
   },
   "outputs": [
    {
     "data": {
      "text/plain": [
       "(array([0, 1, 2, 3, 4, 5, 6, 8, 7, 9], dtype=int32),\n",
       " array([0, 1, 2, 3, 4, 5, 6, 8, 7, 9], dtype=int32))"
      ]
     },
     "execution_count": 43,
     "metadata": {},
     "output_type": "execute_result"
    }
   ],
   "source": [
    "lu.perm_r, lu.perm_c"
   ]
  },
  {
   "cell_type": "code",
   "execution_count": 44,
   "metadata": {
    "collapsed": false
   },
   "outputs": [],
   "source": [
    "#\n",
    "def sp_permute(A, perm_r, perm_c):\n",
    "    \"\"\" permute rows and columns of A \"\"\"\n",
    "    M, N = A.shape\n",
    "    # row permumation matrix\n",
    "    Pr = sp.coo_matrix(\n",
    "        (np.ones(M), (perm_r, np.arange(N)))).tocsr()\n",
    "    # column permutation matrix\n",
    "    Pc = sp.coo_matrix((np.ones(M), (np.arange(M), perm_c))).tocsr()\n",
    "    return Pr.T * A * Pc.T"
   ]
  },
  {
   "cell_type": "code",
   "execution_count": 45,
   "metadata": {
    "collapsed": false
   },
   "outputs": [
    {
     "data": {
      "text/plain": [
       "<10x10 sparse matrix of type '<class 'numpy.float64'>'\n",
       "\twith 8 stored elements in Compressed Sparse Column format>"
      ]
     },
     "execution_count": 45,
     "metadata": {},
     "output_type": "execute_result"
    }
   ],
   "source": [
    "lu.L * lu.U - A"
   ]
  },
  {
   "cell_type": "code",
   "execution_count": 46,
   "metadata": {
    "collapsed": false
   },
   "outputs": [
    {
     "data": {
      "text/plain": [
       "<10x10 sparse matrix of type '<class 'numpy.float64'>'\n",
       "\twith 0 stored elements in Compressed Sparse Column format>"
      ]
     },
     "execution_count": 46,
     "metadata": {},
     "output_type": "execute_result"
    }
   ],
   "source": [
    "sp_permute(lu.L * lu.U, lu.perm_r, lu.perm_c) - A"
   ]
  },
  {
   "cell_type": "code",
   "execution_count": 47,
   "metadata": {
    "collapsed": false
   },
   "outputs": [],
   "source": [
    "#fig, (ax1, ax2, ax3) = plt.subplots(1, 3, figsize=(12, 4))\n",
    "#ax1.spy(lu.L)\n",
    "#ax2.spy(lu.U)\n",
    "#ax3.spy(A)"
   ]
  },
  {
   "cell_type": "code",
   "execution_count": 48,
   "metadata": {
    "collapsed": false
   },
   "outputs": [
    {
     "data": {
      "text/plain": [
       "array([  5.,   9.,  12.,  14.,  15.,  15.,  14.,  12.,   9.,   5.])"
      ]
     },
     "execution_count": 48,
     "metadata": {},
     "output_type": "execute_result"
    }
   ],
   "source": [
    "# spsolve() = interface to direct solvers; internally performs matrix factorization\n",
    "\n",
    "# use_umfpack=True is only effective if scikit-umfpack is installed\n",
    "# (in which case UMFPACK is the default solver)\n",
    "x = sp.linalg.spsolve(A, b, use_umfpack=True)\n",
    "x"
   ]
  },
  {
   "cell_type": "code",
   "execution_count": 49,
   "metadata": {
    "collapsed": false
   },
   "outputs": [
    {
     "data": {
      "text/plain": [
       "array([  5.,   9.,  12.,  14.,  15.,  15.,  14.,  12.,   9.,   5.])"
      ]
     },
     "execution_count": 49,
     "metadata": {},
     "output_type": "execute_result"
    }
   ],
   "source": [
    "# cg() = conjugate gradient method (iterative optimizer)\n",
    "x, info = sp.linalg.cg(A, b)\n",
    "x"
   ]
  },
  {
   "cell_type": "code",
   "execution_count": 50,
   "metadata": {
    "collapsed": false
   },
   "outputs": [
    {
     "data": {
      "text/plain": [
       "array([  5.,   9.,  12.,  14.,  15.,  15.,  14.,  12.,   9.,   5.])"
      ]
     },
     "execution_count": 50,
     "metadata": {},
     "output_type": "execute_result"
    }
   ],
   "source": [
    "# bicgstab() = biconjugate gradient stabilized method (iterative optimizer)\n",
    "x, info = sp.linalg.bicgstab(A, b)\n",
    "x"
   ]
  },
  {
   "cell_type": "code",
   "execution_count": 51,
   "metadata": {
    "collapsed": false
   },
   "outputs": [
    {
     "data": {
      "text/plain": [
       "array([  5.,   9.,  12.,  14.,  15.,  15.,  14.,  12.,   9.,   5.])"
      ]
     },
     "execution_count": 51,
     "metadata": {},
     "output_type": "execute_result"
    }
   ],
   "source": [
    "# lgsmres() = loose generalized minimum residual method (iterative optimizer)\n",
    "x, info = sp.linalg.lgmres(A, b)\n",
    "x"
   ]
  },
  {
   "cell_type": "markdown",
   "metadata": {},
   "source": [
    "### Eigenvalue problems\n",
    "* sparse eigenvalues ==> sp.linalg.eigs()\n",
    "* singular-value problems ==> sp.linalg.svds()\n",
    "* Real symmetric or complex hermitian matrices ==> sp.linalg.eigsh()\n",
    "* return given number of eigenvalues & vectors (not all. default = 6)"
   ]
  },
  {
   "cell_type": "code",
   "execution_count": 52,
   "metadata": {
    "collapsed": false
   },
   "outputs": [
    {
     "data": {
      "text/plain": [
       "array([-3.91898595+0.j, -3.68250707+0.j, -3.30972147+0.j, -2.83083003+0.j])"
      ]
     },
     "execution_count": 52,
     "metadata": {},
     "output_type": "execute_result"
    }
   ],
   "source": [
    "# example: find four lowest eigenvalues for sparse matrix of 1D Poisson problem\n",
    "\n",
    "A = sp.diags(\n",
    "    [1, -2, 1], \n",
    "    [1, 0, -1], \n",
    "    shape=[10,10], \n",
    "    format='csc')\n",
    "\n",
    "evals, evecs = sp.linalg.eigs(A, k=4, which='LM')\n",
    "evals\n",
    "\n",
    "# evals = array of eigenvalues\n",
    "# evecs = array (Nxk); columns = eigenvectors corresponding to eigenvalues in evals"
   ]
  },
  {
   "cell_type": "code",
   "execution_count": 53,
   "metadata": {
    "collapsed": false
   },
   "outputs": [
    {
     "data": {
      "text/plain": [
       "True"
      ]
     },
     "execution_count": 53,
     "metadata": {},
     "output_type": "execute_result"
    }
   ],
   "source": [
    "# (dot product A & a column in evecs) == (same evecs column scaled by corr. eigenvalue)\n",
    "np.allclose(A.dot(evecs[:,0]), evals[0] * evecs[:,0])"
   ]
  },
  {
   "cell_type": "markdown",
   "metadata": {},
   "source": [
    "### An example of a matrix reording method: Reverse Cuthil McKee"
   ]
  },
  {
   "cell_type": "code",
   "execution_count": 54,
   "metadata": {
    "collapsed": false
   },
   "outputs": [
    {
     "data": {
      "text/plain": [
       "array([9, 8, 7, 6, 5, 4, 3, 2, 1, 0], dtype=int32)"
      ]
     },
     "execution_count": 54,
     "metadata": {},
     "output_type": "execute_result"
    }
   ],
   "source": [
    "perm = sp.csgraph.reverse_cuthill_mckee(A)\n",
    "perm"
   ]
  },
  {
   "cell_type": "code",
   "execution_count": 55,
   "metadata": {
    "collapsed": false
   },
   "outputs": [],
   "source": [
    "#fig, (ax1, ax2) = plt.subplots(1, 2, figsize=(8, 4))\n",
    "#ax1.spy(A)\n",
    "#ax2.spy(sp_permute(A, perm, perm))"
   ]
  },
  {
   "cell_type": "markdown",
   "metadata": {},
   "source": [
    "### Performance comparison sparse/dense"
   ]
  },
  {
   "cell_type": "code",
   "execution_count": 56,
   "metadata": {
    "collapsed": false
   },
   "outputs": [],
   "source": [
    "# compare performance of solving Ax=b vs system size N,\n",
    "# where A is the sparse matrix for the 1d poisson problem\n",
    "import time\n",
    "\n",
    "def setup(N):\n",
    "    A = sp.diags([1,-2,1], [1,0,-1], shape=[N, N], format='csr')\n",
    "    b = -np.ones(N)\n",
    "    return A, A.todense(), b\n",
    "\n",
    "reps = 10\n",
    "N_vec = np.arange(2, 300, 1)\n",
    "t_sparse = np.empty(len(N_vec))\n",
    "t_dense = np.empty(len(N_vec))\n",
    "for idx, N in enumerate(N_vec):\n",
    "    A, A_dense, b = setup(N)\n",
    "    t = time.time()\n",
    "    for r in range(reps):\n",
    "        x = np.linalg.solve(A_dense, b)\n",
    "    t_dense[idx] = (time.time() - t)/reps\n",
    "    t = time.time()\n",
    "    for r in range(reps):\n",
    "        #x = la.solve(A_dense, b)\n",
    "        x = sp.linalg.spsolve(A, b, use_umfpack=True)\n",
    "    t_sparse[idx] = (time.time() - t)/reps\n",
    "    \n",
    "#fig, ax = plt.subplots(figsize=(8, 4))\n",
    "#ax.plot(N_vec, t_dense * 1e3, '.-', label=\"dense\")\n",
    "#ax.plot(N_vec, t_sparse * 1e3, '.-', label=\"sparse\")\n",
    "#ax.set_xlabel(r\"$N$\", fontsize=16)\n",
    "#ax.set_ylabel(\"elapsed time (ms)\", fontsize=16)\n",
    "#ax.legend(loc=0)\n",
    "#fig.tight_layout()\n",
    "#fig.savefig(\"ch10-sparse-vs-dense.pdf\")"
   ]
  },
  {
   "cell_type": "markdown",
   "metadata": {},
   "source": [
    "### Eigenvalue problems"
   ]
  },
  {
   "cell_type": "code",
   "execution_count": 57,
   "metadata": {
    "collapsed": false
   },
   "outputs": [],
   "source": [
    "N = 10"
   ]
  },
  {
   "cell_type": "code",
   "execution_count": 58,
   "metadata": {
    "collapsed": false
   },
   "outputs": [],
   "source": [
    "A = sp.diags([1, -2, 1], [1, 0, -1], shape=[N, N], format='csc')"
   ]
  },
  {
   "cell_type": "code",
   "execution_count": 59,
   "metadata": {
    "collapsed": false
   },
   "outputs": [],
   "source": [
    "evals, evecs = sp.linalg.eigs(A, k=4, which='LM')"
   ]
  },
  {
   "cell_type": "code",
   "execution_count": 60,
   "metadata": {
    "collapsed": false
   },
   "outputs": [
    {
     "data": {
      "text/plain": [
       "array([-3.91898595+0.j, -2.83083003+0.j, -3.68250707+0.j, -3.30972147+0.j])"
      ]
     },
     "execution_count": 60,
     "metadata": {},
     "output_type": "execute_result"
    }
   ],
   "source": [
    "evals"
   ]
  },
  {
   "cell_type": "code",
   "execution_count": 61,
   "metadata": {
    "collapsed": false
   },
   "outputs": [
    {
     "data": {
      "text/plain": [
       "True"
      ]
     },
     "execution_count": 61,
     "metadata": {},
     "output_type": "execute_result"
    }
   ],
   "source": [
    "np.allclose(A.dot(evecs[:,0]), evals[0] * evecs[:,0])"
   ]
  },
  {
   "cell_type": "code",
   "execution_count": 62,
   "metadata": {
    "collapsed": false
   },
   "outputs": [],
   "source": [
    "evals, evecs = sp.linalg.eigsh(A, k=4, which='LM')"
   ]
  },
  {
   "cell_type": "code",
   "execution_count": 63,
   "metadata": {
    "collapsed": false
   },
   "outputs": [
    {
     "data": {
      "text/plain": [
       "array([-3.91898595, -3.68250707, -3.30972147, -2.83083003])"
      ]
     },
     "execution_count": 63,
     "metadata": {},
     "output_type": "execute_result"
    }
   ],
   "source": [
    "evals"
   ]
  },
  {
   "cell_type": "code",
   "execution_count": 64,
   "metadata": {
    "collapsed": false
   },
   "outputs": [],
   "source": [
    "evals, evecs = sp.linalg.eigs(A, k=4, which='SR')"
   ]
  },
  {
   "cell_type": "code",
   "execution_count": 65,
   "metadata": {
    "collapsed": false
   },
   "outputs": [
    {
     "data": {
      "text/plain": [
       "array([-3.91898595+0.j, -3.68250707+0.j, -3.30972147+0.j, -2.83083003+0.j])"
      ]
     },
     "execution_count": 65,
     "metadata": {},
     "output_type": "execute_result"
    }
   ],
   "source": [
    "evals"
   ]
  },
  {
   "cell_type": "code",
   "execution_count": 66,
   "metadata": {
    "collapsed": false
   },
   "outputs": [
    {
     "data": {
      "text/plain": [
       "array([0, 1, 2, 3])"
      ]
     },
     "execution_count": 66,
     "metadata": {},
     "output_type": "execute_result"
    }
   ],
   "source": [
    "np.real(evals).argsort()"
   ]
  },
  {
   "cell_type": "code",
   "execution_count": 67,
   "metadata": {
    "collapsed": false
   },
   "outputs": [],
   "source": [
    "def sp_eigs_sorted(A, k=6, which='SR'):\n",
    "    \"\"\" compute and return eigenvalues sorted by real value \"\"\"\n",
    "    evals, evecs = sp.linalg.eigs(A, k=k, which=which)\n",
    "    idx = np.real(evals).argsort()\n",
    "    return evals[idx], evecs[idx]"
   ]
  },
  {
   "cell_type": "code",
   "execution_count": 68,
   "metadata": {
    "collapsed": false
   },
   "outputs": [],
   "source": [
    "evals, evecs = sp_eigs_sorted(A, k=4, which='SM')"
   ]
  },
  {
   "cell_type": "code",
   "execution_count": 69,
   "metadata": {
    "collapsed": false
   },
   "outputs": [
    {
     "data": {
      "text/plain": [
       "array([-1.16916997+0.j, -0.69027853+0.j, -0.31749293+0.j, -0.08101405+0.j])"
      ]
     },
     "execution_count": 69,
     "metadata": {},
     "output_type": "execute_result"
    }
   ],
   "source": [
    "evals"
   ]
  },
  {
   "cell_type": "markdown",
   "metadata": {},
   "source": [
    "#### Random matrix example"
   ]
  },
  {
   "cell_type": "code",
   "execution_count": 70,
   "metadata": {
    "collapsed": false
   },
   "outputs": [],
   "source": [
    "N = 100"
   ]
  },
  {
   "cell_type": "code",
   "execution_count": 71,
   "metadata": {
    "collapsed": false
   },
   "outputs": [],
   "source": [
    "x_vec = np.linspace(0, 1, 50)"
   ]
  },
  {
   "cell_type": "code",
   "execution_count": 72,
   "metadata": {
    "collapsed": false
   },
   "outputs": [],
   "source": [
    "# seed sp.rand with random_state to obtain a reproducible result\n",
    "M1 = sp.rand(N, N, density=0.2, random_state=112312321)\n",
    "M2 = sp.rand(N, N, density=0.2, random_state=984592134)"
   ]
  },
  {
   "cell_type": "code",
   "execution_count": 73,
   "metadata": {
    "collapsed": false
   },
   "outputs": [],
   "source": [
    "evals = np.array([sp_eigs_sorted((1-x)*M1 + x*M2, k=25)[0] for x in x_vec])"
   ]
  },
  {
   "cell_type": "code",
   "execution_count": 75,
   "metadata": {
    "collapsed": false
   },
   "outputs": [],
   "source": [
    "#fig, ax = plt.subplots(figsize=(8, 4))\n",
    "\n",
    "#for idx in range(evals.shape[1]):\n",
    "#    ax.plot(x_vec, np.real(evals[:,idx]), lw=0.5)\n",
    "\n",
    "#ax.set_xlabel(r\"$x$\", fontsize=16)\n",
    "#ax.set_ylabel(r\"eig.vals. of $(1-x)M_1+xM_2$\", fontsize=16)\n",
    "\n",
    "#fig.tight_layout()\n",
    "#fig.savefig(\"ch10-sparse-eigs.pdf\")"
   ]
  },
  {
   "cell_type": "markdown",
   "metadata": {},
   "source": [
    "### Graphs & Networks\n",
    "* sparse matrix use case: graphs as adjacency matrices\n",
    "* Scipy.sparse.csgraph module available\n",
    "* NetworkX python library == more comprehensive\n",
    "\n",
    "![pic](pics/networkx-ops.png)"
   ]
  },
  {
   "cell_type": "code",
   "execution_count": 76,
   "metadata": {
    "collapsed": false
   },
   "outputs": [
    {
     "data": {
      "text/plain": [
       "[1]"
      ]
     },
     "execution_count": 76,
     "metadata": {},
     "output_type": "execute_result"
    }
   ],
   "source": [
    "g = nx.MultiGraph()\n",
    "g.add_node(1)\n",
    "g.nodes()"
   ]
  },
  {
   "cell_type": "code",
   "execution_count": 77,
   "metadata": {
    "collapsed": false
   },
   "outputs": [
    {
     "data": {
      "text/plain": [
       "[1, 3, 4, 5]"
      ]
     },
     "execution_count": 77,
     "metadata": {},
     "output_type": "execute_result"
    }
   ],
   "source": [
    "g.add_nodes_from([3, 4, 5])\n",
    "g.nodes()"
   ]
  },
  {
   "cell_type": "code",
   "execution_count": 78,
   "metadata": {
    "collapsed": false
   },
   "outputs": [
    {
     "data": {
      "text/plain": [
       "[(1, 2)]"
      ]
     },
     "execution_count": 78,
     "metadata": {},
     "output_type": "execute_result"
    }
   ],
   "source": [
    "g.add_edge(1, 2)\n",
    "g.edges()"
   ]
  },
  {
   "cell_type": "code",
   "execution_count": 79,
   "metadata": {
    "collapsed": false
   },
   "outputs": [
    {
     "data": {
      "text/plain": [
       "[(1, 2), (3, 4), (5, 6)]"
      ]
     },
     "execution_count": 79,
     "metadata": {},
     "output_type": "execute_result"
    }
   ],
   "source": [
    "g.add_edges_from([(3, 4), (5, 6)])\n",
    "g.edges()"
   ]
  },
  {
   "cell_type": "code",
   "execution_count": 80,
   "metadata": {
    "collapsed": false
   },
   "outputs": [
    {
     "data": {
      "text/plain": [
       "[(1, 2, {}),\n",
       " (1, 3, {'weight': 1.5}),\n",
       " (3, 4, {}),\n",
       " (3, 5, {'weight': 2.5}),\n",
       " (5, 6, {})]"
      ]
     },
     "execution_count": 80,
     "metadata": {},
     "output_type": "execute_result"
    }
   ],
   "source": [
    "g.add_weighted_edges_from([(1, 3, 1.5), (3, 5, 2.5)])\n",
    "g.edges(data=True)"
   ]
  },
  {
   "cell_type": "code",
   "execution_count": 81,
   "metadata": {
    "collapsed": false
   },
   "outputs": [
    {
     "data": {
      "text/plain": [
       "([1, 2, 3, 4, 5, 6, 7], [(1, 2), (1, 3), (3, 4), (3, 5), (5, 6), (6, 7)])"
      ]
     },
     "execution_count": 81,
     "metadata": {},
     "output_type": "execute_result"
    }
   ],
   "source": [
    "g.add_weighted_edges_from([(6, 7, 1.5)])\n",
    "g.nodes(), g.edges()"
   ]
  },
  {
   "cell_type": "code",
   "execution_count": 82,
   "metadata": {
    "collapsed": false
   },
   "outputs": [],
   "source": [
    "# let's build graph from Tokyo Metro dataset (JSON)\n",
    "import numpy as np\n",
    "import json"
   ]
  },
  {
   "cell_type": "code",
   "execution_count": 83,
   "metadata": {
    "collapsed": false
   },
   "outputs": [],
   "source": [
    "with open(\"tokyo-metro.json\") as f:\n",
    "    data = json.load(f)\n",
    "\n",
    "# data contents: \n",
    "# travel times between stations (travel_times)\n",
    "# possible xfer points to other lines (transfer)\n",
    "# line color"
   ]
  },
  {
   "cell_type": "code",
   "execution_count": 84,
   "metadata": {
    "collapsed": false
   },
   "outputs": [
    {
     "data": {
      "text/plain": [
       "dict_keys(['G', 'Y', 'F', 'C', 'N', 'Z', 'H', 'M', 'T'])"
      ]
     },
     "execution_count": 84,
     "metadata": {},
     "output_type": "execute_result"
    }
   ],
   "source": [
    "data.keys()"
   ]
  },
  {
   "cell_type": "code",
   "execution_count": 85,
   "metadata": {
    "collapsed": false
   },
   "outputs": [
    {
     "data": {
      "text/plain": [
       "{'color': '#149848',\n",
       " 'transfers': [['C3', 'F15'],\n",
       "  ['C4', 'Z2'],\n",
       "  ['C4', 'G2'],\n",
       "  ['C7', 'M14'],\n",
       "  ['C7', 'N6'],\n",
       "  ['C7', 'G6'],\n",
       "  ['C8', 'M15'],\n",
       "  ['C8', 'H6'],\n",
       "  ['C9', 'H7'],\n",
       "  ['C9', 'Y18'],\n",
       "  ['C11', 'T9'],\n",
       "  ['C11', 'M18'],\n",
       "  ['C11', 'Z8'],\n",
       "  ['C12', 'M19'],\n",
       "  ['C18', 'H21']],\n",
       " 'travel_times': [['C1', 'C2', 2],\n",
       "  ['C2', 'C3', 2],\n",
       "  ['C3', 'C4', 1],\n",
       "  ['C4', 'C5', 2],\n",
       "  ['C5', 'C6', 2],\n",
       "  ['C6', 'C7', 2],\n",
       "  ['C7', 'C8', 1],\n",
       "  ['C8', 'C9', 3],\n",
       "  ['C9', 'C10', 1],\n",
       "  ['C10', 'C11', 2],\n",
       "  ['C11', 'C12', 2],\n",
       "  ['C12', 'C13', 2],\n",
       "  ['C13', 'C14', 2],\n",
       "  ['C14', 'C15', 2],\n",
       "  ['C15', 'C16', 2],\n",
       "  ['C16', 'C17', 3],\n",
       "  ['C17', 'C18', 3],\n",
       "  ['C18', 'C19', 3]]}"
      ]
     },
     "execution_count": 85,
     "metadata": {},
     "output_type": "execute_result"
    }
   ],
   "source": [
    "data[\"C\"]"
   ]
  },
  {
   "cell_type": "code",
   "execution_count": 86,
   "metadata": {
    "collapsed": false,
    "scrolled": true
   },
   "outputs": [],
   "source": [
    "#data"
   ]
  },
  {
   "cell_type": "code",
   "execution_count": 87,
   "metadata": {
    "collapsed": false
   },
   "outputs": [],
   "source": [
    "g = nx.Graph()\n",
    "\n",
    "for line in data.values():\n",
    "    g.add_weighted_edges_from(line[\"travel_times\"])\n",
    "    g.add_edges_from(line[\"transfers\"])"
   ]
  },
  {
   "cell_type": "code",
   "execution_count": 88,
   "metadata": {
    "collapsed": false
   },
   "outputs": [],
   "source": [
    "# line xfer edges don't have weights.\n",
    "# mark them by adding boolean attribute \"transfer\" to each edge\n",
    "\n",
    "for n1, n2 in g.edges_iter():\n",
    "    g[n1][n2][\"transfer\"] = \"weight\" not in g[n1][n2]"
   ]
  },
  {
   "cell_type": "code",
   "execution_count": 89,
   "metadata": {
    "collapsed": false
   },
   "outputs": [
    {
     "data": {
      "text/plain": [
       "184"
      ]
     },
     "execution_count": 89,
     "metadata": {},
     "output_type": "execute_result"
    }
   ],
   "source": [
    "g.number_of_nodes()"
   ]
  },
  {
   "cell_type": "code",
   "execution_count": 90,
   "metadata": {
    "collapsed": false
   },
   "outputs": [
    {
     "data": {
      "text/plain": [
       "['G10', 'M6', 'F16', 'M12', 'T16']"
      ]
     },
     "execution_count": 90,
     "metadata": {},
     "output_type": "execute_result"
    }
   ],
   "source": [
    "g.nodes()[:5]"
   ]
  },
  {
   "cell_type": "code",
   "execution_count": 91,
   "metadata": {
    "collapsed": false
   },
   "outputs": [
    {
     "data": {
      "text/plain": [
       "243"
      ]
     },
     "execution_count": 91,
     "metadata": {},
     "output_type": "execute_result"
    }
   ],
   "source": [
    "g.number_of_edges()"
   ]
  },
  {
   "cell_type": "code",
   "execution_count": 92,
   "metadata": {
    "collapsed": false
   },
   "outputs": [
    {
     "data": {
      "text/plain": [
       "[('G10', 'G9'), ('G10', 'G11'), ('M6', 'm5'), ('M6', 'M7'), ('M6', 'M5')]"
      ]
     },
     "execution_count": 92,
     "metadata": {},
     "output_type": "execute_result"
    }
   ],
   "source": [
    "g.edges()[:5]"
   ]
  },
  {
   "cell_type": "code",
   "execution_count": 93,
   "metadata": {
    "collapsed": false
   },
   "outputs": [],
   "source": [
    "# for plotting:\n",
    "# create lists of edges with transfer edges & on-train edges\n",
    "# also create list of node colors\n",
    "\n",
    "on_foot = [edge for edge in g.edges_iter() \n",
    "           if g.get_edge_data(*edge)[\"transfer\"]]\n",
    "\n",
    "on_train = [edge for edge in g.edges_iter() \n",
    "            if not g.get_edge_data(*edge)[\"transfer\"]]\n",
    "\n",
    "colors = [data[n[0].upper()][\"color\"] \n",
    "          for n in g.nodes()]"
   ]
  },
  {
   "cell_type": "code",
   "execution_count": 94,
   "metadata": {
    "collapsed": false
   },
   "outputs": [],
   "source": [
    "#fig, ax = plt.subplots(1, 1, figsize=(14, 10))\n",
    "\n",
    "#pos = nx.graphviz_layout(g, prog=\"neato\")\n",
    "#nx.draw(g, pos, ax=ax, node_size=200, node_color=colors)\n",
    "#nx.draw_networkx_labels(g, pos=pos, ax=ax, font_size=6)\n",
    "#nx.draw_networkx_edges(g, pos=pos, ax=ax, edgelist=on_train, width=2)\n",
    "#nx.draw_networkx_edges(g, pos=pos, ax=ax, edgelist=on_foot, edge_color=\"blue\")\n",
    "\n",
    "# removing the default axis on all sides:\n",
    "#for side in ['bottom','right','top','left']:\n",
    "#    ax.spines[side].set_visible(False)\n",
    "\n",
    "# removing the axis labels and ticks\n",
    "#ax.set_xticks([])\n",
    "#ax.set_yticks([])\n",
    "#ax.xaxis.set_ticks_position('none')\n",
    "#ax.yaxis.set_ticks_position('none')\n",
    "\n",
    "#fig.savefig(\"ch10-metro-graph.pdf\")\n",
    "#fig.savefig(\"ch10-metro-graph.png\")\n",
    "#fig.tight_layout()"
   ]
  },
  {
   "cell_type": "markdown",
   "metadata": {},
   "source": [
    "![pic](pics/tokyo-metro.png)"
   ]
  },
  {
   "cell_type": "code",
   "execution_count": 95,
   "metadata": {
    "collapsed": false
   },
   "outputs": [],
   "source": [
    "# degree() = number of connections to a node for each node\n",
    "#g.degree()"
   ]
  },
  {
   "cell_type": "code",
   "execution_count": 96,
   "metadata": {
    "collapsed": false
   },
   "outputs": [
    {
     "data": {
      "text/plain": [
       "6"
      ]
     },
     "execution_count": 96,
     "metadata": {},
     "output_type": "execute_result"
    }
   ],
   "source": [
    "# find most highly connected station\n",
    "d_max = max(g.degree().values())\n",
    "d_max"
   ]
  },
  {
   "cell_type": "code",
   "execution_count": 97,
   "metadata": {
    "collapsed": false
   },
   "outputs": [
    {
     "data": {
      "text/plain": [
       "[('M13', 6), ('G5', 6), ('Z4', 6), ('Y16', 6), ('N7', 6)]"
      ]
     },
     "execution_count": 97,
     "metadata": {},
     "output_type": "execute_result"
    }
   ],
   "source": [
    "[(n, d) for (n, d) in g.degree().items() if d == d_max]"
   ]
  },
  {
   "cell_type": "code",
   "execution_count": 98,
   "metadata": {
    "collapsed": false
   },
   "outputs": [
    {
     "data": {
      "text/plain": [
       "array(['Y24', 'Y23', 'Y22', 'Y21', 'Y20', 'Y19', 'Y18', 'C9', 'C10', 'C11',\n",
       "       'C12', 'C13', 'C14', 'C15', 'C16', 'C17', 'C18', 'C19'], \n",
       "      dtype='<U3')"
      ]
     },
     "execution_count": 98,
     "metadata": {},
     "output_type": "execute_result"
    }
   ],
   "source": [
    "# shortest path between Y24 & C19 stations\n",
    "p = nx.shortest_path(g, \"Y24\", \"C19\")\n",
    "np.array(p)"
   ]
  },
  {
   "cell_type": "code",
   "execution_count": 99,
   "metadata": {
    "collapsed": false
   },
   "outputs": [
    {
     "data": {
      "text/plain": [
       "35"
      ]
     },
     "execution_count": 99,
     "metadata": {},
     "output_type": "execute_result"
    }
   ],
   "source": [
    "# travel time from Y24 to C19 stations\n",
    "np.sum([g[p[n]][p[n+1]][\"weight\"] \n",
    "        for n in range(len(p)-1) \n",
    "        if \"weight\" in g[p[n]][p[n+1]]])"
   ]
  },
  {
   "cell_type": "code",
   "execution_count": 100,
   "metadata": {
    "collapsed": false
   },
   "outputs": [],
   "source": [
    "# not 100% true - transfer nodes have no weights = zero transfer time (??)\n",
    "# let's fix.\n",
    "h = g.copy()"
   ]
  },
  {
   "cell_type": "code",
   "execution_count": 101,
   "metadata": {
    "collapsed": false
   },
   "outputs": [],
   "source": [
    "# assume 5 min transfer time to any transfer node\n",
    "for n1, n2 in h.edges_iter():\n",
    "    if \"transfer\" in h[n1][n2]:\n",
    "        h[n1][n2][\"weight\"] = 5"
   ]
  },
  {
   "cell_type": "code",
   "execution_count": 102,
   "metadata": {
    "collapsed": false
   },
   "outputs": [
    {
     "data": {
      "text/plain": [
       "array(['Y24', 'Y23', 'Y22', 'Y21', 'Y20', 'Y19', 'Y18', 'C9', 'C10', 'C11',\n",
       "       'C12', 'C13', 'C14', 'C15', 'C16', 'C17', 'C18', 'C19'], \n",
       "      dtype='<U3')"
      ]
     },
     "execution_count": 102,
     "metadata": {},
     "output_type": "execute_result"
    }
   ],
   "source": [
    "p = nx.shortest_path(h, \"Y24\", \"C19\")\n",
    "np.array(p)"
   ]
  },
  {
   "cell_type": "code",
   "execution_count": 103,
   "metadata": {
    "collapsed": false
   },
   "outputs": [
    {
     "data": {
      "text/plain": [
       "85"
      ]
     },
     "execution_count": 103,
     "metadata": {},
     "output_type": "execute_result"
    }
   ],
   "source": [
    "np.sum([h[p[n]][p[n+1]][\"weight\"] \n",
    "        for n in range(len(p)-1)])"
   ]
  },
  {
   "cell_type": "code",
   "execution_count": 104,
   "metadata": {
    "collapsed": false
   },
   "outputs": [
    {
     "data": {
      "text/plain": [
       "array(['Z1', 'Z2', 'Z3', 'Z4', 'Z5', 'Z6', 'Z7', 'Z8', 'Z9', 'G12', 'G13',\n",
       "       'G14', 'G15', 'H16'], \n",
       "      dtype='<U3')"
      ]
     },
     "execution_count": 104,
     "metadata": {},
     "output_type": "execute_result"
    }
   ],
   "source": [
    "# shortest path, Z1 -> H16\n",
    "p = nx.shortest_path(h, \"Z1\", \"H16\")\n",
    "np.array(p)"
   ]
  },
  {
   "cell_type": "code",
   "execution_count": 105,
   "metadata": {
    "collapsed": false
   },
   "outputs": [
    {
     "data": {
      "text/plain": [
       "65"
      ]
     },
     "execution_count": 105,
     "metadata": {},
     "output_type": "execute_result"
    }
   ],
   "source": [
    "# travel time, Z1 -> H16\n",
    "np.sum([h[p[n]][p[n+1]][\"weight\"] for n in range(len(p)-1)])"
   ]
  },
  {
   "cell_type": "markdown",
   "metadata": {},
   "source": [
    "* NetworkX representation can be converted to adjacency matrix using to_scipy_sparse_matrix(), for analysis via **sp.csgraph**"
   ]
  },
  {
   "cell_type": "code",
   "execution_count": 106,
   "metadata": {
    "collapsed": false
   },
   "outputs": [
    {
     "data": {
      "text/plain": [
       "<184x184 sparse matrix of type '<class 'numpy.int64'>'\n",
       "\twith 486 stored elements in Compressed Sparse Row format>"
      ]
     },
     "execution_count": 106,
     "metadata": {},
     "output_type": "execute_result"
    }
   ],
   "source": [
    "# convert Tokyo Metro to adjacency matrix\n",
    "A = nx.to_scipy_sparse_matrix(g)\n",
    "A"
   ]
  },
  {
   "cell_type": "code",
   "execution_count": 107,
   "metadata": {
    "collapsed": false
   },
   "outputs": [],
   "source": [
    "# compute adj.matrix's reverse Cuthill-McKee ordering\n",
    "# (reduces max distance of matrix elements from diagonal, and\n",
    "# permutes matrix with this ordering.)\n",
    "perm = sp.csgraph.reverse_cuthill_mckee(A)"
   ]
  },
  {
   "cell_type": "code",
   "execution_count": 108,
   "metadata": {
    "collapsed": false
   },
   "outputs": [],
   "source": [
    "#fig, (ax1, ax2) = plt.subplots(1, 2, figsize=(8, 4))\n",
    "#ax1.spy(A, markersize=2)\n",
    "#ax2.spy(sp_permute(A, perm, perm), markersize=2)\n",
    "#fig.tight_layout()\n",
    "#fig.savefig(\"ch12-rcm-graph.pdf\")"
   ]
  },
  {
   "cell_type": "markdown",
   "metadata": {},
   "source": [
    "![pic](pics/rcm-ordering.png)"
   ]
  },
  {
   "cell_type": "code",
   "execution_count": null,
   "metadata": {
    "collapsed": true
   },
   "outputs": [],
   "source": []
  }
 ],
 "metadata": {
  "kernelspec": {
   "display_name": "Python [Root]",
   "language": "python",
   "name": "Python [Root]"
  },
  "language_info": {
   "codemirror_mode": {
    "name": "ipython",
    "version": 3
   },
   "file_extension": ".py",
   "mimetype": "text/x-python",
   "name": "python",
   "nbconvert_exporter": "python",
   "pygments_lexer": "ipython3",
   "version": "3.5.2"
  }
 },
 "nbformat": 4,
 "nbformat_minor": 0
}
