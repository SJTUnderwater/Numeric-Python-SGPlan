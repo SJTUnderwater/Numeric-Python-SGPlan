{
 "cells": [
  {
   "cell_type": "markdown",
   "metadata": {},
   "source": [
    "# Data Input/Output Options\n",
    "\n",
    "- __Comma-Separated Values (CSV)__\n",
    "- __Hierarchical Data Format (HDF5)__\n",
    "- __h5py__ (files, groups, datasets, attributes)\n",
    "- __PyTables__\n",
    "- __Pandas HDFStore__\n",
    "- __JSON__\n",
    "- __Serialization__\n",
    "\n",
    "* data classes:\n",
    "    * structured vs unstructured\n",
    "    * categorical (finite set) vs ordinal (ordered) vs numerical (continuous/discrete)\n",
    "* should consider: [Blaze](http://blaze.pydata.org/en/latest) for high-level, multi-format API for data I/O"
   ]
  },
  {
   "cell_type": "markdown",
   "metadata": {},
   "source": [
    "## Imports"
   ]
  },
  {
   "cell_type": "code",
   "execution_count": 2,
   "metadata": {
    "collapsed": true
   },
   "outputs": [],
   "source": [
    "from __future__ import print_function"
   ]
  },
  {
   "cell_type": "code",
   "execution_count": 3,
   "metadata": {
    "collapsed": false
   },
   "outputs": [],
   "source": [
    "import numpy as np\n",
    "np.random.seed(0)"
   ]
  },
  {
   "cell_type": "code",
   "execution_count": 4,
   "metadata": {
    "collapsed": false
   },
   "outputs": [],
   "source": [
    "import pandas as pd"
   ]
  },
  {
   "cell_type": "code",
   "execution_count": 5,
   "metadata": {
    "collapsed": false
   },
   "outputs": [
    {
     "name": "stderr",
     "output_type": "stream",
     "text": [
      "/home/bjpcjp/anaconda3/lib/python3.6/site-packages/h5py/__init__.py:36: FutureWarning: Conversion of the second argument of issubdtype from `float` to `np.floating` is deprecated. In future, it will be treated as `np.float64 == np.dtype(float).type`.\n",
      "  from ._conv import register_converters as _register_converters\n"
     ]
    }
   ],
   "source": [
    "import csv\n",
    "import json\n",
    "import h5py\n",
    "import tables\n",
    "import pickle\n",
    "\n",
    "# python3: import _pickle as cPickle\n",
    "import _pickle as cPickle\n",
    "\n",
    "# conda install msgpack-python\n",
    "import msgpack"
   ]
  },
  {
   "cell_type": "markdown",
   "metadata": {},
   "source": [
    "### CSV\n",
    "\n",
    "- first: create some example CSV data (hockey player stats) & save it to disk"
   ]
  },
  {
   "cell_type": "code",
   "execution_count": 6,
   "metadata": {
    "collapsed": false
   },
   "outputs": [
    {
     "name": "stdout",
     "output_type": "stream",
     "text": [
      "Overwriting ch18-playerstats-2013-2014.csv\n"
     ]
    }
   ],
   "source": [
    "%%writefile ch18-playerstats-2013-2014.csv\n",
    "# 2013-2014 / Regular Season / All Skaters / Summary / Points\n",
    "Rank,Player,Team,Pos,GP,G,A,P,+/-,PIM,PPG,PPP,SHG,SHP,GW,OT,S,S%,TOI/GP,Shift/GP,FO%\n",
    "1,Sidney Crosby,PIT,C,80,36,68,104,+18,46,11,38,0,0,5,1,259,13.9,21:58,24.0,52.5\n",
    "2,Ryan Getzlaf,ANA,C,77,31,56,87,+28,31,5,23,0,0,7,1,204,15.2,21:17,25.2,49.0\n",
    "3,Claude Giroux,PHI,C,82,28,58,86,+7,46,7,37,0,0,7,1,223,12.6,20:26,25.1,52.9\n",
    "4,Tyler Seguin,DAL,C,80,37,47,84,+16,18,11,25,0,0,8,0,294,12.6,19:20,23.4,41.5\n",
    "5,Corey Perry,ANA,R,81,43,39,82,+32,65,8,18,0,0,9,1,280,15.4,19:28,23.2,36.0"
   ]
  },
  {
   "cell_type": "code",
   "execution_count": 7,
   "metadata": {
    "collapsed": false
   },
   "outputs": [
    {
     "name": "stdout",
     "output_type": "stream",
     "text": [
      "Overwriting ch18-playerstats-2013-2014-top30.csv\n"
     ]
    }
   ],
   "source": [
    "%%writefile ch18-playerstats-2013-2014-top30.csv\n",
    "# 2013-2014 / Regular Season / All Skaters / Summary / Points\n",
    "Rank,Player,Team,Pos,GP,G,A,P,+/-,PIM,PPG,PPP,SHG,SHP,GW,OT,S,S%,TOI/GP,Shift/GP,FO%\n",
    "1,Sidney Crosby,PIT,C,80,36,68,104,+18,46,11,38,0,0,5,1,259,13.9,21:58,24.0,52.5\n",
    "2,Ryan Getzlaf,ANA,C,77,31,56,87,+28,31,5,23,0,0,7,1,204,15.2,21:17,25.2,49.0\n",
    "3,Claude Giroux,PHI,C,82,28,58,86,+7,46,7,37,0,0,7,1,223,12.6,20:26,25.1,52.9\n",
    "4,Tyler Seguin,DAL,C,80,37,47,84,+16,18,11,25,0,0,8,0,294,12.6,19:20,23.4,41.5\n",
    "5,Corey Perry,ANA,R,81,43,39,82,+32,65,8,18,0,0,9,1,280,15.4,19:28,23.2,36.0\n",
    "6,Phil Kessel,TOR,R,82,37,43,80,-5,27,8,20,0,0,6,0,305,12.1,20:39,24.5,14.3\n",
    "7,Taylor Hall,EDM,L,75,27,53,80,-15,44,7,17,0,1,1,1,250,10.8,20:00,25.4,45.7\n",
    "8,Alex Ovechkin,WSH,L,78,51,28,79,-35,48,24,39,0,1,10,3,386,13.2,20:32,21.8,66.7\n",
    "9,Joe Pavelski,SJS,C,82,41,38,79,+23,32,16,31,1,2,3,0,225,18.2,19:51,27.1,56.0\n",
    "10,Jamie Benn,DAL,L,81,34,45,79,+21,64,5,19,1,3,3,1,279,12.2,19:09,25.0,52.8\n",
    "11,Nicklas Backstrom,WSH,C,82,18,61,79,-20,54,6,44,1,1,1,0,196,9.2,19:48,23.3,50.4\n",
    "12,Patrick Sharp,CHI,L,82,34,44,78,+13,40,10,25,0,0,3,1,313,10.9,18:53,22.7,54.6\n",
    "13,Joe Thornton,SJS,C,82,11,65,76,+20,32,2,19,0,1,3,1,122,9.0,18:55,26.3,56.1\n",
    "14,Erik Karlsson,OTT,D,82,20,54,74,-15,36,5,31,0,0,1,0,257,7.8,27:04,28.6,0.0\n",
    "15,Evgeni Malkin,PIT,C,60,23,49,72,+10,62,7,30,0,0,3,0,191,12.0,20:03,21.4,48.8\n",
    "16,Patrick Marleau,SJS,L,82,33,37,70,+0,18,11,23,2,2,4,0,285,11.6,20:31,27.3,52.9\n",
    "17,Anze Kopitar,LAK,C,82,29,41,70,+34,24,10,23,0,0,9,2,200,14.5,20:53,25.4,53.3\n",
    "18,Matt Duchene,COL,C,71,23,47,70,+8,19,5,17,0,0,6,1,217,10.6,18:29,22.0,50.3\n",
    "19,Martin St. Louis,\"TBL, NYR\",R,81,30,39,69,+13,10,9,21,1,2,5,1,204,14.7,20:56,25.7,40.7\n",
    "20,Patrick Kane,CHI,R,69,29,40,69,+7,22,10,25,0,0,6,0,227,12.8,19:36,22.9,50.0\n",
    "21,Blake Wheeler,WPG,R,82,28,41,69,+4,63,8,19,0,0,4,2,225,12.4,18:41,24.0,37.5\n",
    "22,Kyle Okposo,NYI,R,71,27,42,69,-9,51,5,15,0,0,4,1,195,13.8,20:26,22.2,47.5\n",
    "23,David Krejci,BOS,C,80,19,50,69,+39,28,3,19,0,0,6,1,169,11.2,19:07,21.3,51.2\n",
    "24,Chris Kunitz,PIT,L,78,35,33,68,+25,66,13,22,0,0,8,0,218,16.1,19:09,22.2,75.0\n",
    "25,Jonathan Toews,CHI,C,76,28,40,68,+26,34,5,15,3,5,5,0,193,14.5,20:28,25.9,57.2\n",
    "26,Thomas Vanek,\"BUF, NYI, MTL\",L,78,27,41,68,+7,46,8,18,0,0,4,0,248,10.9,19:21,21.6,43.5\n",
    "27,Jaromir Jagr,NJD,R,82,24,43,67,+16,46,5,17,0,0,6,1,231,10.4,19:09,22.8,0.0\n",
    "28,John Tavares,NYI,C,59,24,42,66,-6,40,8,25,0,0,4,0,188,12.8,21:14,22.3,49.1\n",
    "29,Jason Spezza,OTT,C,75,23,43,66,-26,46,9,22,0,0,5,0,223,10.3,18:12,23.8,54.0\n",
    "30,Jordan Eberle,EDM,R,80,28,37,65,-11,18,7,20,1,1,4,1,200,14.0,19:32,25.4,38.1"
   ]
  },
  {
   "cell_type": "code",
   "execution_count": 8,
   "metadata": {
    "collapsed": false
   },
   "outputs": [
    {
     "name": "stdout",
     "output_type": "stream",
     "text": [
      "# 2013-2014 / Regular Season / All Skaters / Summary / Points\n",
      "Rank,Player,Team,Pos,GP,G,A,P,+/-,PIM,PPG,PPP,SHG,SHP,GW,OT,S,S%,TOI/GP,Shift/GP,FO%\n",
      "1,Sidney Crosby,PIT,C,80,36,68,104,+18,46,11,38,0,0,5,1,259,13.9,21:58,24.0,52.5\n",
      "2,Ryan Getzlaf,ANA,C,77,31,56,87,+28,31,5,23,0,0,7,1,204,15.2,21:17,25.2,49.0\n",
      "3,Claude Giroux,PHI,C,82,28,58,86,+7,46,7,37,0,0,7,1,223,12.6,20:26,25.1,52.9\n"
     ]
    }
   ],
   "source": [
    "# let's see if file contents are as expected\n",
    "!head -n 5 ch18-playerstats-2013-2014-top30.csv"
   ]
  },
  {
   "cell_type": "markdown",
   "metadata": {},
   "source": [
    "* Parsed row values will be read as strings, even if values represent numbers.\n",
    "* Numpy __loadtxt__ and __savetxt__ are good for handling numerical arrays on disk."
   ]
  },
  {
   "cell_type": "code",
   "execution_count": 9,
   "metadata": {
    "collapsed": false
   },
   "outputs": [],
   "source": [
    "data = np.random.randn(100,3)\n",
    "np.savetxt(\"data.csv\", data, delimiter=\",\", header=\"x,y,z\", comments=\"random x,y,z coords\\n\")"
   ]
  },
  {
   "cell_type": "code",
   "execution_count": 10,
   "metadata": {},
   "outputs": [
    {
     "name": "stdout",
     "output_type": "stream",
     "text": [
      "random x,y,z coords\n",
      "x,y,z\n",
      "1.764052345967664026e+00,4.001572083672232938e-01,9.787379841057392005e-01\n",
      "2.240893199201457797e+00,1.867557990149967484e+00,-9.772778798764110153e-01\n",
      "9.500884175255893682e-01,-1.513572082976978872e-01,-1.032188517935578448e-01\n"
     ]
    }
   ],
   "source": [
    "!head -n 5 data.csv"
   ]
  },
  {
   "cell_type": "code",
   "execution_count": 11,
   "metadata": {},
   "outputs": [
    {
     "data": {
      "text/plain": [
       "True"
      ]
     },
     "execution_count": 11,
     "metadata": {},
     "output_type": "execute_result"
    }
   ],
   "source": [
    "# Read data back into NumPy array\n",
    "data_load = np.loadtxt(\"data.csv\", skiprows=2, delimiter=\",\")\n",
    "# and check for equality\n",
    "(data == data_load).all()"
   ]
  },
  {
   "cell_type": "code",
   "execution_count": 12,
   "metadata": {},
   "outputs": [
    {
     "data": {
      "text/plain": [
       "array([ 2.2408932 ,  1.86755799, -0.97727788])"
      ]
     },
     "execution_count": 12,
     "metadata": {},
     "output_type": "execute_result"
    }
   ],
   "source": [
    "# by default, loadtxt converts all fields into float64 values\n",
    "data_load[1,:]"
   ]
  },
  {
   "cell_type": "code",
   "execution_count": 13,
   "metadata": {},
   "outputs": [
    {
     "data": {
      "text/plain": [
       "dtype('float64')"
      ]
     },
     "execution_count": 13,
     "metadata": {},
     "output_type": "execute_result"
    }
   ],
   "source": [
    "data_load.dtype"
   ]
  },
  {
   "cell_type": "markdown",
   "metadata": {},
   "source": [
    "* Need to explicitly set a dtype if reading non-numerical CSV data.\n",
    "* Otherwise NumPy will barf.\n",
    "* dtype=bytes, or str, or object, will return unparsed values."
   ]
  },
  {
   "cell_type": "code",
   "execution_count": 14,
   "metadata": {
    "collapsed": false
   },
   "outputs": [
    {
     "data": {
      "text/plain": [
       "array([b'Sidney Crosby', b'PIT', b'C', b'80', b'36'], dtype='|S13')"
      ]
     },
     "execution_count": 14,
     "metadata": {},
     "output_type": "execute_result"
    }
   ],
   "source": [
    "data = np.loadtxt(\n",
    "    \"ch18-playerstats-2013-2014.csv\", \n",
    "    skiprows=2, delimiter=\",\", dtype=bytes)\n",
    "\n",
    "data[0][1:6]"
   ]
  },
  {
   "cell_type": "code",
   "execution_count": 15,
   "metadata": {
    "collapsed": false
   },
   "outputs": [
    {
     "data": {
      "text/plain": [
       "array([[ 68., 104.,  18.],\n",
       "       [ 56.,  87.,  28.],\n",
       "       [ 58.,  86.,   7.],\n",
       "       [ 47.,  84.,  16.],\n",
       "       [ 39.,  82.,  32.]])"
      ]
     },
     "execution_count": 15,
     "metadata": {},
     "output_type": "execute_result"
    }
   ],
   "source": [
    "# read selected columns:\n",
    "np.loadtxt(\"ch18-playerstats-2013-2014.csv\", \n",
    "           skiprows=2, delimiter=\",\", usecols=[6,7,8])"
   ]
  },
  {
   "cell_type": "code",
   "execution_count": 16,
   "metadata": {
    "collapsed": false
   },
   "outputs": [],
   "source": [
    "# A 3rd method: Pandas read_csv()\n",
    "df = pd.read_csv(\"ch18-playerstats-2013-2014.csv\", \n",
    "                 skiprows=1)"
   ]
  },
  {
   "cell_type": "code",
   "execution_count": 17,
   "metadata": {
    "collapsed": false
   },
   "outputs": [],
   "source": [
    "df = df.set_index(\"Rank\")"
   ]
  },
  {
   "cell_type": "code",
   "execution_count": 18,
   "metadata": {
    "collapsed": false
   },
   "outputs": [
    {
     "data": {
      "text/html": [
       "<div>\n",
       "<style scoped>\n",
       "    .dataframe tbody tr th:only-of-type {\n",
       "        vertical-align: middle;\n",
       "    }\n",
       "\n",
       "    .dataframe tbody tr th {\n",
       "        vertical-align: top;\n",
       "    }\n",
       "\n",
       "    .dataframe thead th {\n",
       "        text-align: right;\n",
       "    }\n",
       "</style>\n",
       "<table border=\"1\" class=\"dataframe\">\n",
       "  <thead>\n",
       "    <tr style=\"text-align: right;\">\n",
       "      <th></th>\n",
       "      <th>Player</th>\n",
       "      <th>GP</th>\n",
       "      <th>G</th>\n",
       "      <th>A</th>\n",
       "      <th>P</th>\n",
       "    </tr>\n",
       "    <tr>\n",
       "      <th>Rank</th>\n",
       "      <th></th>\n",
       "      <th></th>\n",
       "      <th></th>\n",
       "      <th></th>\n",
       "      <th></th>\n",
       "    </tr>\n",
       "  </thead>\n",
       "  <tbody>\n",
       "    <tr>\n",
       "      <th>1</th>\n",
       "      <td>Sidney Crosby</td>\n",
       "      <td>80</td>\n",
       "      <td>36</td>\n",
       "      <td>68</td>\n",
       "      <td>104</td>\n",
       "    </tr>\n",
       "    <tr>\n",
       "      <th>2</th>\n",
       "      <td>Ryan Getzlaf</td>\n",
       "      <td>77</td>\n",
       "      <td>31</td>\n",
       "      <td>56</td>\n",
       "      <td>87</td>\n",
       "    </tr>\n",
       "    <tr>\n",
       "      <th>3</th>\n",
       "      <td>Claude Giroux</td>\n",
       "      <td>82</td>\n",
       "      <td>28</td>\n",
       "      <td>58</td>\n",
       "      <td>86</td>\n",
       "    </tr>\n",
       "    <tr>\n",
       "      <th>4</th>\n",
       "      <td>Tyler Seguin</td>\n",
       "      <td>80</td>\n",
       "      <td>37</td>\n",
       "      <td>47</td>\n",
       "      <td>84</td>\n",
       "    </tr>\n",
       "    <tr>\n",
       "      <th>5</th>\n",
       "      <td>Corey Perry</td>\n",
       "      <td>81</td>\n",
       "      <td>43</td>\n",
       "      <td>39</td>\n",
       "      <td>82</td>\n",
       "    </tr>\n",
       "  </tbody>\n",
       "</table>\n",
       "</div>"
      ],
      "text/plain": [
       "             Player  GP   G   A    P\n",
       "Rank                                \n",
       "1     Sidney Crosby  80  36  68  104\n",
       "2      Ryan Getzlaf  77  31  56   87\n",
       "3     Claude Giroux  82  28  58   86\n",
       "4      Tyler Seguin  80  37  47   84\n",
       "5       Corey Perry  81  43  39   82"
      ]
     },
     "execution_count": 18,
     "metadata": {},
     "output_type": "execute_result"
    }
   ],
   "source": [
    "df[[\"Player\", \"GP\", \"G\", \"A\", \"P\"]]"
   ]
  },
  {
   "cell_type": "code",
   "execution_count": 19,
   "metadata": {
    "collapsed": false
   },
   "outputs": [
    {
     "name": "stdout",
     "output_type": "stream",
     "text": [
      "<class 'pandas.core.frame.DataFrame'>\n",
      "Int64Index: 5 entries, 1 to 5\n",
      "Data columns (total 20 columns):\n",
      "Player      5 non-null object\n",
      "Team        5 non-null object\n",
      "Pos         5 non-null object\n",
      "GP          5 non-null int64\n",
      "G           5 non-null int64\n",
      "A           5 non-null int64\n",
      "P           5 non-null int64\n",
      "+/-         5 non-null int64\n",
      "PIM         5 non-null int64\n",
      "PPG         5 non-null int64\n",
      "PPP         5 non-null int64\n",
      "SHG         5 non-null int64\n",
      "SHP         5 non-null int64\n",
      "GW          5 non-null int64\n",
      "OT          5 non-null int64\n",
      "S           5 non-null int64\n",
      "S%          5 non-null float64\n",
      "TOI/GP      5 non-null object\n",
      "Shift/GP    5 non-null float64\n",
      "FO%         5 non-null float64\n",
      "dtypes: float64(3), int64(13), object(4)\n",
      "memory usage: 840.0+ bytes\n"
     ]
    }
   ],
   "source": [
    "# use info() to see the dtype of each parsed column\n",
    "df.info()"
   ]
  },
  {
   "cell_type": "code",
   "execution_count": 20,
   "metadata": {
    "collapsed": true
   },
   "outputs": [],
   "source": [
    "# writing to CSV files using dataframes:\n",
    "df[[\"Player\", \"GP\", \"G\", \"A\", \"P\"]].to_csv(\"ch18-playerstats-2013-2014-subset.csv\")"
   ]
  },
  {
   "cell_type": "code",
   "execution_count": 21,
   "metadata": {
    "collapsed": false
   },
   "outputs": [
    {
     "name": "stdout",
     "output_type": "stream",
     "text": [
      "Rank,Player,GP,G,A,P\n",
      "1,Sidney Crosby,80,36,68,104\n",
      "2,Ryan Getzlaf,77,31,56,87\n",
      "3,Claude Giroux,82,28,58,86\n",
      "4,Tyler Seguin,80,37,47,84\n"
     ]
    }
   ],
   "source": [
    "!head -n 5 ch18-playerstats-2013-2014-subset.csv"
   ]
  },
  {
   "cell_type": "markdown",
   "metadata": {},
   "source": [
    "### h5py\n",
    "* used for numerical data store\n",
    "* hierarchical format - orgs datasets within files: \"groups\" and \"datasets\"\n",
    "* groups & datasets can contain \"attributes\" (metadata)\n",
    "* Python libraries: h5py & PyTables"
   ]
  },
  {
   "cell_type": "code",
   "execution_count": 22,
   "metadata": {
    "collapsed": true
   },
   "outputs": [],
   "source": [
    "import h5py"
   ]
  },
  {
   "cell_type": "markdown",
   "metadata": {},
   "source": [
    "* file modes: \"w\" (create new file; truncate if exists), \"r\" (read-only; file must exist), \"w-\" (create new file; error if exists), \"r+\" (read-write; file must exist), \"a\" (read-write; create if needed)"
   ]
  },
  {
   "cell_type": "code",
   "execution_count": 23,
   "metadata": {
    "collapsed": false
   },
   "outputs": [
    {
     "data": {
      "text/plain": [
       "'r+'"
      ]
     },
     "execution_count": 23,
     "metadata": {},
     "output_type": "execute_result"
    }
   ],
   "source": [
    "# create new read-write file\n",
    "f = h5py.File(\"ch18-data.h5\", \"w\")\n",
    "f.mode"
   ]
  },
  {
   "cell_type": "code",
   "execution_count": 24,
   "metadata": {
    "collapsed": false
   },
   "outputs": [],
   "source": [
    "f.flush()\n",
    "f.close()"
   ]
  },
  {
   "cell_type": "markdown",
   "metadata": {},
   "source": [
    "### Groups\n",
    "\n",
    "* File object creates both file handle and a \"root group\" object.\n",
    "* group name accessible via 'name'. root is '/'"
   ]
  },
  {
   "cell_type": "code",
   "execution_count": 25,
   "metadata": {
    "collapsed": false
   },
   "outputs": [
    {
     "data": {
      "text/plain": [
       "'/'"
      ]
     },
     "execution_count": 25,
     "metadata": {},
     "output_type": "execute_result"
    }
   ],
   "source": [
    "f = h5py.File(\"ch18-data.h5\", \"w\")\n",
    "f.name"
   ]
  },
  {
   "cell_type": "code",
   "execution_count": 26,
   "metadata": {
    "collapsed": false
   },
   "outputs": [
    {
     "data": {
      "text/plain": [
       "('/experiment1', '/experiment2/measurement', '/experiment2/simulation')"
      ]
     },
     "execution_count": 26,
     "metadata": {},
     "output_type": "execute_result"
    }
   ],
   "source": [
    "# create hierarchical subgroups.\n",
    "grp1      = f.create_group(\"experiment1\")\n",
    "grp2_meas = f.create_group(\"experiment2/measurement\")\n",
    "grp2_sim  = f.create_group(\"experiment2/simulation\")\n",
    "\n",
    "grp1.name, grp2_meas.name, grp2_sim.name"
   ]
  },
  {
   "cell_type": "code",
   "execution_count": 27,
   "metadata": {
    "collapsed": false
   },
   "outputs": [
    {
     "data": {
      "text/plain": [
       "<HDF5 group \"/experiment1\" (0 members)>"
      ]
     },
     "execution_count": 27,
     "metadata": {},
     "output_type": "execute_result"
    }
   ],
   "source": [
    "# group access\n",
    "f[\"/experiment1\"]"
   ]
  },
  {
   "cell_type": "code",
   "execution_count": 28,
   "metadata": {
    "collapsed": false
   },
   "outputs": [
    {
     "data": {
      "text/plain": [
       "<HDF5 group \"/experiment2/simulation\" (0 members)>"
      ]
     },
     "execution_count": 28,
     "metadata": {},
     "output_type": "execute_result"
    }
   ],
   "source": [
    "f[\"/experiment2/simulation\"]"
   ]
  },
  {
   "cell_type": "code",
   "execution_count": 29,
   "metadata": {
    "collapsed": true
   },
   "outputs": [],
   "source": [
    "grp_expr2 = f[\"/experiment2\"]"
   ]
  },
  {
   "cell_type": "code",
   "execution_count": 30,
   "metadata": {
    "collapsed": false
   },
   "outputs": [
    {
     "data": {
      "text/plain": [
       "<HDF5 group \"/experiment2/simulation\" (0 members)>"
      ]
     },
     "execution_count": 30,
     "metadata": {},
     "output_type": "execute_result"
    }
   ],
   "source": [
    "grp_expr2['simulation']"
   ]
  },
  {
   "cell_type": "code",
   "execution_count": 31,
   "metadata": {
    "collapsed": false
   },
   "outputs": [
    {
     "data": {
      "text/plain": [
       "['experiment1', 'experiment2']"
      ]
     },
     "execution_count": 31,
     "metadata": {},
     "output_type": "execute_result"
    }
   ],
   "source": [
    "# keys = names of subgroups & datasets within a group\n",
    "list(f.keys())"
   ]
  },
  {
   "cell_type": "code",
   "execution_count": 32,
   "metadata": {
    "collapsed": false
   },
   "outputs": [
    {
     "data": {
      "text/plain": [
       "[('experiment1', <HDF5 group \"/experiment1\" (0 members)>),\n",
       " ('experiment2', <HDF5 group \"/experiment2\" (2 members)>)]"
      ]
     },
     "execution_count": 32,
     "metadata": {},
     "output_type": "execute_result"
    }
   ],
   "source": [
    "# items = tuples of (name, value) for each entity in each group\n",
    "list(f.items())"
   ]
  },
  {
   "cell_type": "code",
   "execution_count": 33,
   "metadata": {
    "collapsed": false
   },
   "outputs": [
    {
     "name": "stdout",
     "output_type": "stream",
     "text": [
      "experiment1\n",
      "experiment2\n",
      "experiment2/measurement\n",
      "experiment2/simulation\n"
     ]
    }
   ],
   "source": [
    "# traverse group hierarchy\n",
    "f.visit(lambda x: print(x))"
   ]
  },
  {
   "cell_type": "code",
   "execution_count": 34,
   "metadata": {
    "collapsed": false
   },
   "outputs": [
    {
     "name": "stdout",
     "output_type": "stream",
     "text": [
      "experiment1 <HDF5 group \"/experiment1\" (0 members)>\n",
      "experiment2 <HDF5 group \"/experiment2\" (2 members)>\n",
      "experiment2/measurement <HDF5 group \"/experiment2/measurement\" (0 members)>\n",
      "experiment2/simulation <HDF5 group \"/experiment2/simulation\" (0 members)>\n"
     ]
    }
   ],
   "source": [
    "# traverse group hierarchy with item & item name accessible in arg\n",
    "f.visititems(\n",
    "    lambda name, \n",
    "    value: print(name, value))"
   ]
  },
  {
   "cell_type": "code",
   "execution_count": 35,
   "metadata": {
    "collapsed": false
   },
   "outputs": [
    {
     "data": {
      "text/plain": [
       "True"
      ]
     },
     "execution_count": 35,
     "metadata": {},
     "output_type": "execute_result"
    }
   ],
   "source": [
    "# membership testing\n",
    "\"experiment1\" in f"
   ]
  },
  {
   "cell_type": "code",
   "execution_count": 36,
   "metadata": {
    "collapsed": false
   },
   "outputs": [
    {
     "data": {
      "text/plain": [
       "True"
      ]
     },
     "execution_count": 36,
     "metadata": {},
     "output_type": "execute_result"
    }
   ],
   "source": [
    "\"simulation\" in f[\"experiment2\"]"
   ]
  },
  {
   "cell_type": "code",
   "execution_count": 37,
   "metadata": {
    "collapsed": false
   },
   "outputs": [
    {
     "data": {
      "text/plain": [
       "False"
      ]
     },
     "execution_count": 37,
     "metadata": {},
     "output_type": "execute_result"
    }
   ],
   "source": [
    "\"experiment3\" in f"
   ]
  },
  {
   "cell_type": "code",
   "execution_count": 38,
   "metadata": {
    "collapsed": true
   },
   "outputs": [],
   "source": [
    "f.flush()"
   ]
  },
  {
   "cell_type": "code",
   "execution_count": 39,
   "metadata": {
    "collapsed": false
   },
   "outputs": [],
   "source": [
    "# h5ls = command-line tool for viewing HDF5 contents\n",
    "# !h5ls ch18-data.h5"
   ]
  },
  {
   "cell_type": "markdown",
   "metadata": {},
   "source": [
    "### HDF5 datasets\n",
    "* two main methods to create a dataset in an HDF5 file:\n",
    "    - easiest: assign NumPy array to an item in an HDF5 group (dictionary index syntax)\n",
    "    - use __create_dataset__ method."
   ]
  },
  {
   "cell_type": "code",
   "execution_count": 40,
   "metadata": {
    "collapsed": true
   },
   "outputs": [],
   "source": [
    "data1 = np.arange(10)\n",
    "data2 = np.random.randn(100, 100)"
   ]
  },
  {
   "cell_type": "code",
   "execution_count": 41,
   "metadata": {
    "collapsed": false
   },
   "outputs": [],
   "source": [
    "f[\"array1\"]                         = data1\n",
    "f[\"/experiment2/measurement/meas1\"] = data2"
   ]
  },
  {
   "cell_type": "code",
   "execution_count": 42,
   "metadata": {
    "collapsed": false
   },
   "outputs": [
    {
     "name": "stdout",
     "output_type": "stream",
     "text": [
      "array1 <HDF5 dataset \"array1\": shape (10,), type \"<i8\">\n",
      "experiment1 <HDF5 group \"/experiment1\" (0 members)>\n",
      "experiment2 <HDF5 group \"/experiment2\" (2 members)>\n",
      "experiment2/measurement <HDF5 group \"/experiment2/measurement\" (1 members)>\n",
      "experiment2/measurement/meas1 <HDF5 dataset \"meas1\": shape (100, 100), type \"<f8\">\n",
      "experiment2/simulation <HDF5 group \"/experiment2/simulation\" (0 members)>\n"
     ]
    }
   ],
   "source": [
    "# verify data was save correctly using visititems\n",
    "\n",
    "f.visititems(\n",
    "    lambda name, value: print(name, value))"
   ]
  },
  {
   "cell_type": "code",
   "execution_count": 43,
   "metadata": {
    "collapsed": false
   },
   "outputs": [
    {
     "data": {
      "text/plain": [
       "<HDF5 dataset \"array1\": shape (10,), type \"<i8\">"
      ]
     },
     "execution_count": 43,
     "metadata": {},
     "output_type": "execute_result"
    }
   ],
   "source": [
    "# to retrieve array1 dataset (in root group)\n",
    "# array1 is a Dataset object, not a NumPy array\n",
    "ds = f[\"array1\"]\n",
    "ds "
   ]
  },
  {
   "cell_type": "code",
   "execution_count": 44,
   "metadata": {
    "collapsed": false
   },
   "outputs": [
    {
     "data": {
      "text/plain": [
       "('/array1', dtype('int64'), (10,), 10)"
      ]
     },
     "execution_count": 44,
     "metadata": {},
     "output_type": "execute_result"
    }
   ],
   "source": [
    "ds.name, ds.dtype, ds.shape, ds.len()"
   ]
  },
  {
   "cell_type": "code",
   "execution_count": 45,
   "metadata": {
    "collapsed": false
   },
   "outputs": [
    {
     "data": {
      "text/plain": [
       "array([0, 1, 2, 3, 4, 5, 6, 7, 8, 9])"
      ]
     },
     "execution_count": 45,
     "metadata": {},
     "output_type": "execute_result"
    }
   ],
   "source": [
    "ds.value"
   ]
  },
  {
   "cell_type": "code",
   "execution_count": 46,
   "metadata": {
    "collapsed": false
   },
   "outputs": [
    {
     "data": {
      "text/plain": [
       "<HDF5 dataset \"meas1\": shape (100, 100), type \"<f8\">"
      ]
     },
     "execution_count": 46,
     "metadata": {},
     "output_type": "execute_result"
    }
   ],
   "source": [
    "# go deeper into hierarchy\n",
    "ds = f[\"/experiment2/measurement/meas1\"]\n",
    "ds"
   ]
  },
  {
   "cell_type": "code",
   "execution_count": 47,
   "metadata": {
    "collapsed": false
   },
   "outputs": [
    {
     "data": {
      "text/plain": [
       "(dtype('float64'),\n",
       " (100, 100),\n",
       " <bound method Dataset.len of <HDF5 dataset \"meas1\": shape (100, 100), type \"<f8\">>)"
      ]
     },
     "execution_count": 47,
     "metadata": {},
     "output_type": "execute_result"
    }
   ],
   "source": [
    "ds.dtype, ds.shape, ds.len"
   ]
  },
  {
   "cell_type": "code",
   "execution_count": 48,
   "metadata": {
    "collapsed": false
   },
   "outputs": [
    {
     "data": {
      "text/plain": [
       "array([[-1.30652685,  1.65813068, -0.11816405, ...,  1.14110187,\n",
       "         1.46657872,  0.85255194],\n",
       "       [-0.59865394, -1.11589699,  0.76666318, ..., -0.51423397,\n",
       "        -1.01804188, -0.07785476],\n",
       "       [ 0.38273243, -0.03424228,  1.09634685, ..., -0.21673147,\n",
       "        -0.9301565 , -0.17858909],\n",
       "       ...,\n",
       "       [-0.20211703, -0.833231  ,  1.73360025, ...,  0.77025427,\n",
       "        -0.08612658, -0.85766795],\n",
       "       [ 0.6391736 , -0.24720034,  0.23337957, ...,  0.17974832,\n",
       "         0.26792302,  0.7701867 ],\n",
       "       [ 1.31951239, -0.42585313,  0.09323029, ..., -0.51270866,\n",
       "        -0.44602375,  1.89001412]])"
      ]
     },
     "execution_count": 48,
     "metadata": {},
     "output_type": "execute_result"
    }
   ],
   "source": [
    "# alternative syntax using [...]\n",
    "\n",
    "data_full = ds[...]; data_full"
   ]
  },
  {
   "cell_type": "code",
   "execution_count": 49,
   "metadata": {
    "collapsed": false
   },
   "outputs": [
    {
     "data": {
      "text/plain": [
       "(numpy.ndarray, (100, 100))"
      ]
     },
     "execution_count": 49,
     "metadata": {},
     "output_type": "execute_result"
    }
   ],
   "source": [
    "type(data_full), data_full.shape"
   ]
  },
  {
   "cell_type": "code",
   "execution_count": 50,
   "metadata": {
    "collapsed": false
   },
   "outputs": [
    {
     "data": {
      "text/plain": [
       "(100,)"
      ]
     },
     "execution_count": 50,
     "metadata": {},
     "output_type": "execute_result"
    }
   ],
   "source": [
    "# retrieve only first column (a 100 element array)\n",
    "data_col = ds[:, 0]\n",
    "data_col.shape"
   ]
  },
  {
   "cell_type": "code",
   "execution_count": 51,
   "metadata": {
    "collapsed": false
   },
   "outputs": [
    {
     "data": {
      "text/plain": [
       "array([[ 0.60270766, -0.34804638, -0.813596  , -1.29737966],\n",
       "       [ 0.91320192, -1.06343294,  0.22734595,  0.52759738],\n",
       "       [ 1.25774422, -0.32775492,  1.4849256 ,  0.28005786],\n",
       "       [-0.84907287, -0.30000358,  1.79691852, -0.19871506]])"
      ]
     },
     "execution_count": 51,
     "metadata": {},
     "output_type": "execute_result"
    }
   ],
   "source": [
    "# Dataset objects support strided indexing:\n",
    "ds[10:20:3, 10:20:3]"
   ]
  },
  {
   "cell_type": "code",
   "execution_count": 52,
   "metadata": {
    "collapsed": false
   },
   "outputs": [
    {
     "data": {
      "text/plain": [
       "(3, 100)"
      ]
     },
     "execution_count": 52,
     "metadata": {},
     "output_type": "execute_result"
    }
   ],
   "source": [
    "# Dataset objects support \"fancy\" indexing:\n",
    "ds[[1,2,3], :].shape"
   ]
  },
  {
   "cell_type": "code",
   "execution_count": 53,
   "metadata": {
    "collapsed": true
   },
   "outputs": [],
   "source": [
    "# Boolean masking support\n",
    "mask = ds[:, 0] > 2.0"
   ]
  },
  {
   "cell_type": "code",
   "execution_count": 54,
   "metadata": {
    "collapsed": false
   },
   "outputs": [
    {
     "data": {
      "text/plain": [
       "((100,), dtype('bool'))"
      ]
     },
     "execution_count": 54,
     "metadata": {},
     "output_type": "execute_result"
    }
   ],
   "source": [
    "mask.shape, mask.dtype"
   ]
  },
  {
   "cell_type": "code",
   "execution_count": 55,
   "metadata": {
    "collapsed": false
   },
   "outputs": [
    {
     "data": {
      "text/plain": [
       "array([[ 2.04253623, -0.91946118,  0.11467003, -0.1374237 ,  1.36552692],\n",
       "       [ 2.1041854 ,  0.22725706, -1.1291663 , -0.28133197, -0.7394167 ],\n",
       "       [ 2.05689385,  0.18041971, -0.06670925, -0.02835398,  0.48480475]])"
      ]
     },
     "execution_count": 55,
     "metadata": {},
     "output_type": "execute_result"
    }
   ],
   "source": [
    "# Single out first 5 columns (index :5 on 2nd axis) for each row\n",
    "# whose 1st column value is larger than 2.\n",
    "ds[mask, :5]"
   ]
  },
  {
   "cell_type": "markdown",
   "metadata": {},
   "source": [
    "### Creating empty data sets, assign and update datasets"
   ]
  },
  {
   "cell_type": "code",
   "execution_count": 56,
   "metadata": {
    "collapsed": false
   },
   "outputs": [
    {
     "data": {
      "text/plain": [
       "array([0, 2, 2, 4, 7, 3, 7, 2, 4, 1])"
      ]
     },
     "execution_count": 56,
     "metadata": {},
     "output_type": "execute_result"
    }
   ],
   "source": [
    "ds = f.create_dataset(\n",
    "    \"array2\", \n",
    "    data=np.random.randint(10, size=10))\n",
    "ds.value"
   ]
  },
  {
   "cell_type": "code",
   "execution_count": 57,
   "metadata": {
    "collapsed": false
   },
   "outputs": [
    {
     "data": {
      "text/plain": [
       "array([[-1., -1., -1., -1., -1.],\n",
       "       [-1., -1., -1., -1., -1.],\n",
       "       [-1., -1., -1., -1., -1.],\n",
       "       [-1., -1., -1., -1., -1.],\n",
       "       [-1., -1., -1., -1., -1.]], dtype=float32)"
      ]
     },
     "execution_count": 57,
     "metadata": {},
     "output_type": "execute_result"
    }
   ],
   "source": [
    "ds = f.create_dataset(\n",
    "    \"/experiment2/simulation/data1\", \n",
    "    shape=(5, 5), \n",
    "    fillvalue=-1)\n",
    "ds.value"
   ]
  },
  {
   "cell_type": "code",
   "execution_count": 58,
   "metadata": {
    "collapsed": false
   },
   "outputs": [
    {
     "data": {
      "text/plain": [
       "<HDF5 dataset \"data1\": shape (5000, 5000, 5000), type \"<f4\">"
      ]
     },
     "execution_count": 58,
     "metadata": {},
     "output_type": "execute_result"
    }
   ],
   "source": [
    "ds = f.create_dataset(\n",
    "    \"/experiment1/simulation/data1\", \n",
    "    shape=(5000, 5000, 5000),\n",
    "    fillvalue=0, \n",
    "    compression='gzip') # HDF5 = smart compression\n",
    "ds"
   ]
  },
  {
   "cell_type": "code",
   "execution_count": 59,
   "metadata": {
    "collapsed": false
   },
   "outputs": [],
   "source": [
    "ds[:, 0, 0]  = np.random.rand(5000)\n",
    "ds[1, :, 0] += np.random.rand(5000)"
   ]
  },
  {
   "cell_type": "code",
   "execution_count": 60,
   "metadata": {
    "collapsed": false
   },
   "outputs": [
    {
     "data": {
      "text/plain": [
       "array([[0.6939344 , 0.        , 0.        , 0.        , 0.        ],\n",
       "       [1.4819994 , 0.01639538, 0.54387355, 0.11130908, 0.9928771 ]],\n",
       "      dtype=float32)"
      ]
     },
     "execution_count": 60,
     "metadata": {},
     "output_type": "execute_result"
    }
   ],
   "source": [
    "ds[:2, :5, 0]"
   ]
  },
  {
   "cell_type": "code",
   "execution_count": 61,
   "metadata": {
    "collapsed": false
   },
   "outputs": [
    {
     "data": {
      "text/plain": [
       "0.0"
      ]
     },
     "execution_count": 61,
     "metadata": {},
     "output_type": "execute_result"
    }
   ],
   "source": [
    "# if you need a reminder of the default value of a dataset:\n",
    "ds.fillvalue"
   ]
  },
  {
   "cell_type": "code",
   "execution_count": 62,
   "metadata": {
    "collapsed": false
   },
   "outputs": [
    {
     "name": "stdout",
     "output_type": "stream",
     "text": [
      "simulation <HDF5 group \"/experiment1/simulation\" (1 members)>\n",
      "simulation/data1 <HDF5 dataset \"data1\": shape (5000, 5000, 5000), type \"<f4\">\n"
     ]
    }
   ],
   "source": [
    "f[\"experiment1\"].visititems(\n",
    "    lambda name, \n",
    "    value: print(name, value))"
   ]
  },
  {
   "cell_type": "code",
   "execution_count": 63,
   "metadata": {
    "collapsed": false
   },
   "outputs": [
    {
     "data": {
      "text/plain": [
       "'ch18-data.h5'"
      ]
     },
     "execution_count": 63,
     "metadata": {},
     "output_type": "execute_result"
    }
   ],
   "source": [
    "f.flush()\n",
    "f.filename"
   ]
  },
  {
   "cell_type": "code",
   "execution_count": 64,
   "metadata": {
    "collapsed": false
   },
   "outputs": [
    {
     "name": "stdout",
     "output_type": "stream",
     "text": [
      "-rw-rw-r-- 1 bjpcjp bjpcjp 357K May 19 17:47 ch18-data.h5\n"
     ]
    }
   ],
   "source": [
    "# HDF5 = smart about file compression. Very larget dataset --> relatively small file size\n",
    "!ls -lh ch18-data.h5"
   ]
  },
  {
   "cell_type": "code",
   "execution_count": 65,
   "metadata": {
    "collapsed": false
   },
   "outputs": [],
   "source": [
    "# Deleting items from HDF5 file:\n",
    "del f[\"/experiment1/simulation/data1\"]"
   ]
  },
  {
   "cell_type": "code",
   "execution_count": 66,
   "metadata": {
    "collapsed": false
   },
   "outputs": [
    {
     "name": "stdout",
     "output_type": "stream",
     "text": [
      "simulation <HDF5 group \"/experiment1/simulation\" (0 members)>\n"
     ]
    }
   ],
   "source": [
    "# data1 should now be gone\n",
    "f[\"experiment1\"].visititems(\n",
    "    lambda name, \n",
    "    value: print(name, value))"
   ]
  },
  {
   "cell_type": "code",
   "execution_count": 67,
   "metadata": {
    "collapsed": false
   },
   "outputs": [],
   "source": [
    "f.close()"
   ]
  },
  {
   "cell_type": "markdown",
   "metadata": {},
   "source": [
    "### HDF5 Atributes\n",
    "\n",
    "* Attributes make HDF5 great for annotating data & self-describing data (metadata)."
   ]
  },
  {
   "cell_type": "code",
   "execution_count": 68,
   "metadata": {
    "collapsed": false
   },
   "outputs": [
    {
     "data": {
      "text/plain": [
       "<Attributes of HDF5 object at 140416821333160>"
      ]
     },
     "execution_count": 68,
     "metadata": {},
     "output_type": "execute_result"
    }
   ],
   "source": [
    "f = h5py.File(\"ch18-data.h5\")\n",
    "f.attrs"
   ]
  },
  {
   "cell_type": "code",
   "execution_count": 69,
   "metadata": {
    "collapsed": true
   },
   "outputs": [],
   "source": [
    "# create an attribute\n",
    "f.attrs[\"desc\"] = \"Result sets from experiments and simulations\""
   ]
  },
  {
   "cell_type": "code",
   "execution_count": 70,
   "metadata": {
    "collapsed": true
   },
   "outputs": [],
   "source": [
    "f[\"experiment1\"].attrs[\"date\"] = \"2015-1-1\"\n",
    "f[\"experiment2\"].attrs[\"date\"] = \"2015-1-2\"\n",
    "\n",
    "f[\"experiment2/simulation/data1\"].attrs[\"k\"] = 1.5\n",
    "f[\"experiment2/simulation/data1\"].attrs[\"T\"] = 1000"
   ]
  },
  {
   "cell_type": "code",
   "execution_count": 71,
   "metadata": {
    "collapsed": false
   },
   "outputs": [
    {
     "data": {
      "text/plain": [
       "['date']"
      ]
     },
     "execution_count": 71,
     "metadata": {},
     "output_type": "execute_result"
    }
   ],
   "source": [
    "list(f[\"experiment1\"].attrs.keys())"
   ]
  },
  {
   "cell_type": "code",
   "execution_count": 72,
   "metadata": {
    "collapsed": false
   },
   "outputs": [
    {
     "data": {
      "text/plain": [
       "[('k', 1.5), ('T', 1000)]"
      ]
     },
     "execution_count": 72,
     "metadata": {},
     "output_type": "execute_result"
    }
   ],
   "source": [
    "list(f[\"experiment2/simulation/data1\"].attrs.items())"
   ]
  },
  {
   "cell_type": "code",
   "execution_count": 73,
   "metadata": {
    "collapsed": false
   },
   "outputs": [
    {
     "data": {
      "text/plain": [
       "True"
      ]
     },
     "execution_count": 73,
     "metadata": {},
     "output_type": "execute_result"
    }
   ],
   "source": [
    "# Existence testing:\n",
    "\"T\" in f[\"experiment2/simulation/data1\"].attrs"
   ]
  },
  {
   "cell_type": "code",
   "execution_count": 74,
   "metadata": {
    "collapsed": true
   },
   "outputs": [],
   "source": [
    "# Deleting existing attributes:\n",
    "del f[\"experiment2/simulation/data1\"].attrs[\"T\"]"
   ]
  },
  {
   "cell_type": "code",
   "execution_count": 75,
   "metadata": {
    "collapsed": false
   },
   "outputs": [
    {
     "data": {
      "text/plain": [
       "False"
      ]
     },
     "execution_count": 75,
     "metadata": {},
     "output_type": "execute_result"
    }
   ],
   "source": [
    "\"T\" in f[\"experiment2/simulation/data1\"].attrs"
   ]
  },
  {
   "cell_type": "code",
   "execution_count": 76,
   "metadata": {
    "collapsed": false
   },
   "outputs": [],
   "source": [
    "f[\"experiment2/simulation/data1\"].attrs[\"t\"] = np.array([1, 2, 3])"
   ]
  },
  {
   "cell_type": "code",
   "execution_count": 77,
   "metadata": {
    "collapsed": false
   },
   "outputs": [
    {
     "data": {
      "text/plain": [
       "array([1, 2, 3])"
      ]
     },
     "execution_count": 77,
     "metadata": {},
     "output_type": "execute_result"
    }
   ],
   "source": [
    "f[\"experiment2/simulation/data1\"].attrs[\"t\"]"
   ]
  },
  {
   "cell_type": "code",
   "execution_count": 78,
   "metadata": {
    "collapsed": true
   },
   "outputs": [],
   "source": [
    "f.close()"
   ]
  },
  {
   "cell_type": "markdown",
   "metadata": {},
   "source": [
    "### pytables\n",
    "* alternate HDF5 interface"
   ]
  },
  {
   "cell_type": "code",
   "execution_count": 79,
   "metadata": {
    "collapsed": false
   },
   "outputs": [],
   "source": [
    "df = pd.read_csv(\n",
    "    \"ch18-playerstats-2013-2014-top30.csv\", skiprows=1)\n",
    "\n",
    "df = df.set_index(\"Rank\")"
   ]
  },
  {
   "cell_type": "code",
   "execution_count": 80,
   "metadata": {
    "collapsed": false
   },
   "outputs": [
    {
     "data": {
      "text/html": [
       "<div>\n",
       "<style scoped>\n",
       "    .dataframe tbody tr th:only-of-type {\n",
       "        vertical-align: middle;\n",
       "    }\n",
       "\n",
       "    .dataframe tbody tr th {\n",
       "        vertical-align: top;\n",
       "    }\n",
       "\n",
       "    .dataframe thead th {\n",
       "        text-align: right;\n",
       "    }\n",
       "</style>\n",
       "<table border=\"1\" class=\"dataframe\">\n",
       "  <thead>\n",
       "    <tr style=\"text-align: right;\">\n",
       "      <th></th>\n",
       "      <th>Player</th>\n",
       "      <th>Pos</th>\n",
       "      <th>GP</th>\n",
       "      <th>P</th>\n",
       "      <th>G</th>\n",
       "      <th>A</th>\n",
       "      <th>S%</th>\n",
       "      <th>Shift/GP</th>\n",
       "    </tr>\n",
       "    <tr>\n",
       "      <th>Rank</th>\n",
       "      <th></th>\n",
       "      <th></th>\n",
       "      <th></th>\n",
       "      <th></th>\n",
       "      <th></th>\n",
       "      <th></th>\n",
       "      <th></th>\n",
       "      <th></th>\n",
       "    </tr>\n",
       "  </thead>\n",
       "  <tbody>\n",
       "    <tr>\n",
       "      <th>1</th>\n",
       "      <td>Sidney Crosby</td>\n",
       "      <td>C</td>\n",
       "      <td>80</td>\n",
       "      <td>104</td>\n",
       "      <td>36</td>\n",
       "      <td>68</td>\n",
       "      <td>13.9</td>\n",
       "      <td>24.0</td>\n",
       "    </tr>\n",
       "    <tr>\n",
       "      <th>2</th>\n",
       "      <td>Ryan Getzlaf</td>\n",
       "      <td>C</td>\n",
       "      <td>77</td>\n",
       "      <td>87</td>\n",
       "      <td>31</td>\n",
       "      <td>56</td>\n",
       "      <td>15.2</td>\n",
       "      <td>25.2</td>\n",
       "    </tr>\n",
       "    <tr>\n",
       "      <th>3</th>\n",
       "      <td>Claude Giroux</td>\n",
       "      <td>C</td>\n",
       "      <td>82</td>\n",
       "      <td>86</td>\n",
       "      <td>28</td>\n",
       "      <td>58</td>\n",
       "      <td>12.6</td>\n",
       "      <td>25.1</td>\n",
       "    </tr>\n",
       "    <tr>\n",
       "      <th>4</th>\n",
       "      <td>Tyler Seguin</td>\n",
       "      <td>C</td>\n",
       "      <td>80</td>\n",
       "      <td>84</td>\n",
       "      <td>37</td>\n",
       "      <td>47</td>\n",
       "      <td>12.6</td>\n",
       "      <td>23.4</td>\n",
       "    </tr>\n",
       "    <tr>\n",
       "      <th>5</th>\n",
       "      <td>Corey Perry</td>\n",
       "      <td>R</td>\n",
       "      <td>81</td>\n",
       "      <td>82</td>\n",
       "      <td>43</td>\n",
       "      <td>39</td>\n",
       "      <td>15.4</td>\n",
       "      <td>23.2</td>\n",
       "    </tr>\n",
       "  </tbody>\n",
       "</table>\n",
       "</div>"
      ],
      "text/plain": [
       "             Player Pos  GP    P   G   A    S%  Shift/GP\n",
       "Rank                                                    \n",
       "1     Sidney Crosby   C  80  104  36  68  13.9      24.0\n",
       "2      Ryan Getzlaf   C  77   87  31  56  15.2      25.2\n",
       "3     Claude Giroux   C  82   86  28  58  12.6      25.1\n",
       "4      Tyler Seguin   C  80   84  37  47  12.6      23.4\n",
       "5       Corey Perry   R  81   82  43  39  15.4      23.2"
      ]
     },
     "execution_count": 80,
     "metadata": {},
     "output_type": "execute_result"
    }
   ],
   "source": [
    "df[[\"Player\", \"Pos\", \"GP\", \"P\", \"G\", \"A\", \"S%\", \"Shift/GP\"]].head(5)"
   ]
  },
  {
   "cell_type": "code",
   "execution_count": 81,
   "metadata": {
    "collapsed": false
   },
   "outputs": [],
   "source": [
    "# create new PyTables HDF5 file\n",
    "f = tables.open_file(\n",
    "    \"ch18-playerstats-2013-2014.h5\", mode=\"w\")"
   ]
  },
  {
   "cell_type": "code",
   "execution_count": 82,
   "metadata": {
    "collapsed": false
   },
   "outputs": [
    {
     "data": {
      "text/plain": [
       "/season_2013_2014 (Group) 'NHL player statistics for the 2013/2014 season'\n",
       "  children := []"
      ]
     },
     "execution_count": 82,
     "metadata": {},
     "output_type": "execute_result"
    }
   ],
   "source": [
    "# create HDF5 groups\n",
    "grp = f.create_group(\n",
    "    \"/\", \n",
    "    \"season_2013_2014\", \n",
    "    title=\"NHL player statistics for the 2013/2014 season\")\n",
    "grp"
   ]
  },
  {
   "cell_type": "code",
   "execution_count": 83,
   "metadata": {
    "collapsed": false
   },
   "outputs": [
    {
     "data": {
      "text/plain": [
       "/ (RootGroup) ''\n",
       "  children := ['season_2013_2014' (Group)]"
      ]
     },
     "execution_count": 83,
     "metadata": {},
     "output_type": "execute_result"
    }
   ],
   "source": [
    "# Unlike h5py, PyTables file objects do not represent root groups in the HDF5 file.\n",
    "# Use the root attribute to access it instead.\n",
    "f.root"
   ]
  },
  {
   "cell_type": "code",
   "execution_count": 84,
   "metadata": {
    "collapsed": false
   },
   "outputs": [],
   "source": [
    "# PyTables makes it easy to create mixed column types.\n",
    "\n",
    "class PlayerStat(tables.IsDescription):\n",
    "    player                 = tables.StringCol(20, dflt=\"\")\n",
    "    position               = tables.StringCol(1, dflt=\"C\")\n",
    "    games_played           = tables.UInt8Col(dflt=0)\n",
    "    points                 = tables.UInt16Col(dflt=0)\n",
    "    goals                  = tables.UInt16Col(dflt=0)\n",
    "    assists                = tables.UInt16Col(dflt=0)\n",
    "    shooting_percentage    = tables.Float64Col(dflt=0.0)\n",
    "    shifts_per_game_played = tables.Float64Col(dflt=0.0) "
   ]
  },
  {
   "cell_type": "code",
   "execution_count": 85,
   "metadata": {
    "collapsed": false
   },
   "outputs": [],
   "source": [
    "top30_table = f.create_table(\n",
    "    grp, 'top30', PlayerStat, \"Top 30 point leaders\")"
   ]
  },
  {
   "cell_type": "code",
   "execution_count": 86,
   "metadata": {
    "collapsed": true
   },
   "outputs": [
    {
     "data": {
      "text/plain": [
       "tables.tableextension.Row"
      ]
     },
     "execution_count": 86,
     "metadata": {},
     "output_type": "execute_result"
    }
   ],
   "source": [
    "playerstat = top30_table.row\n",
    "type(playerstat)"
   ]
  },
  {
   "cell_type": "code",
   "execution_count": 87,
   "metadata": {
    "collapsed": false
   },
   "outputs": [],
   "source": [
    "# to insert data into table, use row attribute of table object\n",
    "# when row object is initialized, use append to insert data.\n",
    "\n",
    "for index, row_series in df.iterrows():\n",
    "    playerstat[\"player\"]                = row_series[\"Player\"]    \n",
    "    playerstat[\"position\"]               = row_series[\"Pos\"]    \n",
    "    playerstat[\"games_played\"]           = row_series[\"GP\"]    \n",
    "    playerstat[\"points\"]                 = row_series[\"P\"]    \n",
    "    playerstat[\"goals\"]                  = row_series[\"G\"]\n",
    "    playerstat[\"assists\"]                = row_series[\"A\"] \n",
    "    playerstat[\"shooting_percentage\"]    = row_series[\"S%\"]\n",
    "    playerstat[\"shifts_per_game_played\"] = row_series[\"Shift/GP\"]\n",
    "    playerstat.append()"
   ]
  },
  {
   "cell_type": "code",
   "execution_count": 88,
   "metadata": {
    "collapsed": false
   },
   "outputs": [],
   "source": [
    "# flush forces a file write\n",
    "top30_table.flush()"
   ]
  },
  {
   "cell_type": "code",
   "execution_count": 89,
   "metadata": {
    "collapsed": false
   },
   "outputs": [
    {
     "data": {
      "text/plain": [
       "array([b'Sidney Crosby', b'Ryan Getzlaf', b'Claude Giroux',\n",
       "       b'Tyler Seguin', b'Corey Perry'], dtype='|S20')"
      ]
     },
     "execution_count": 89,
     "metadata": {},
     "output_type": "execute_result"
    }
   ],
   "source": [
    "# access table data using cols attribute\n",
    "top30_table.cols.player[:5]"
   ]
  },
  {
   "cell_type": "code",
   "execution_count": 90,
   "metadata": {
    "collapsed": false
   },
   "outputs": [
    {
     "data": {
      "text/plain": [
       "array([104,  87,  86,  84,  82], dtype=uint16)"
      ]
     },
     "execution_count": 90,
     "metadata": {},
     "output_type": "execute_result"
    }
   ],
   "source": [
    "top30_table.cols.points[:5]"
   ]
  },
  {
   "cell_type": "code",
   "execution_count": 91,
   "metadata": {
    "collapsed": true
   },
   "outputs": [],
   "source": [
    "# Use iterrows to create an iterator for row-wise data access.\n",
    "def print_playerstat(row):\n",
    "    print(\"%20s\\t%s\\t%s\\t%s\" %\n",
    "          (row[\"player\"].decode('UTF-8'), row[\"points\"], row[\"goals\"], row[\"assists\"]))"
   ]
  },
  {
   "cell_type": "code",
   "execution_count": 92,
   "metadata": {
    "collapsed": false
   },
   "outputs": [
    {
     "name": "stdout",
     "output_type": "stream",
     "text": [
      "       Sidney Crosby\t104\t36\t68\n",
      "        Ryan Getzlaf\t87\t31\t56\n",
      "       Claude Giroux\t86\t28\t58\n",
      "        Tyler Seguin\t84\t37\t47\n",
      "         Corey Perry\t82\t43\t39\n",
      "         Phil Kessel\t80\t37\t43\n",
      "         Taylor Hall\t80\t27\t53\n",
      "       Alex Ovechkin\t79\t51\t28\n",
      "        Joe Pavelski\t79\t41\t38\n",
      "          Jamie Benn\t79\t34\t45\n",
      "   Nicklas Backstrom\t79\t18\t61\n",
      "       Patrick Sharp\t78\t34\t44\n",
      "        Joe Thornton\t76\t11\t65\n",
      "       Erik Karlsson\t74\t20\t54\n",
      "       Evgeni Malkin\t72\t23\t49\n",
      "     Patrick Marleau\t70\t33\t37\n",
      "        Anze Kopitar\t70\t29\t41\n",
      "        Matt Duchene\t70\t23\t47\n",
      "    Martin St. Louis\t69\t30\t39\n",
      "        Patrick Kane\t69\t29\t40\n",
      "       Blake Wheeler\t69\t28\t41\n",
      "         Kyle Okposo\t69\t27\t42\n",
      "        David Krejci\t69\t19\t50\n",
      "        Chris Kunitz\t68\t35\t33\n",
      "      Jonathan Toews\t68\t28\t40\n",
      "        Thomas Vanek\t68\t27\t41\n",
      "        Jaromir Jagr\t67\t24\t43\n",
      "        John Tavares\t66\t24\t42\n",
      "        Jason Spezza\t66\t23\t43\n",
      "       Jordan Eberle\t65\t28\t37\n"
     ]
    }
   ],
   "source": [
    "for row in top30_table.iterrows():\n",
    "    print_playerstat(row)"
   ]
  },
  {
   "cell_type": "code",
   "execution_count": 93,
   "metadata": {
    "collapsed": false
   },
   "outputs": [
    {
     "name": "stdout",
     "output_type": "stream",
     "text": [
      "         Phil Kessel\t80\t37\t43\n",
      "         Taylor Hall\t80\t27\t53\n",
      "       Alex Ovechkin\t79\t51\t28\n",
      "        Joe Pavelski\t79\t41\t38\n",
      "          Jamie Benn\t79\t34\t45\n",
      "   Nicklas Backstrom\t79\t18\t61\n",
      "       Patrick Sharp\t78\t34\t44\n",
      "        Joe Thornton\t76\t11\t65\n"
     ]
    }
   ],
   "source": [
    "# PyTables support SQL-like queries.\n",
    "for row in top30_table.where(\"(points > 75) & (points <= 80)\"):\n",
    "    print_playerstat(row)"
   ]
  },
  {
   "cell_type": "code",
   "execution_count": 94,
   "metadata": {
    "collapsed": false
   },
   "outputs": [
    {
     "name": "stdout",
     "output_type": "stream",
     "text": [
      "       Alex Ovechkin\t79\t51\t28\n",
      "        Joe Pavelski\t79\t41\t38\n"
     ]
    }
   ],
   "source": [
    "# PyTables queries using multiple column conditions:\n",
    "for row in top30_table.where(\"(goals > 40) & (points < 80)\"):\n",
    "    print_playerstat(row)"
   ]
  },
  {
   "cell_type": "code",
   "execution_count": 95,
   "metadata": {
    "collapsed": false
   },
   "outputs": [
    {
     "data": {
      "text/plain": [
       "File(filename=ch18-playerstats-2013-2014.h5, title='', mode='w', root_uep='/', filters=Filters(complevel=0, shuffle=False, bitshuffle=False, fletcher32=False, least_significant_digit=None))\n",
       "/ (RootGroup) ''\n",
       "/season_2013_2014 (Group) 'NHL player statistics for the 2013/2014 season'\n",
       "/season_2013_2014/top30 (Table(30,)) 'Top 30 point leaders'\n",
       "  description := {\n",
       "  \"assists\": UInt16Col(shape=(), dflt=0, pos=0),\n",
       "  \"games_played\": UInt8Col(shape=(), dflt=0, pos=1),\n",
       "  \"goals\": UInt16Col(shape=(), dflt=0, pos=2),\n",
       "  \"player\": StringCol(itemsize=20, shape=(), dflt=b'', pos=3),\n",
       "  \"points\": UInt16Col(shape=(), dflt=0, pos=4),\n",
       "  \"position\": StringCol(itemsize=1, shape=(), dflt=b'C', pos=5),\n",
       "  \"shifts_per_game_played\": Float64Col(shape=(), dflt=0.0, pos=6),\n",
       "  \"shooting_percentage\": Float64Col(shape=(), dflt=0.0, pos=7)}\n",
       "  byteorder := 'little'\n",
       "  chunkshape := (1489,)"
      ]
     },
     "execution_count": 95,
     "metadata": {},
     "output_type": "execute_result"
    }
   ],
   "source": [
    "# inspect HDF5 file structure\n",
    "f"
   ]
  },
  {
   "cell_type": "code",
   "execution_count": 96,
   "metadata": {
    "collapsed": true
   },
   "outputs": [],
   "source": [
    "# done? let's flush the buffers, force a write & close the file.\n",
    "f.flush()\n",
    "f.close()"
   ]
  },
  {
   "cell_type": "markdown",
   "metadata": {},
   "source": [
    "### Pandas hdfstore\n",
    "* 3rd method to use HDF5 files - using HDFStore object in Pandas\n",
    "* HDFStore object can be used as a dictionary for Pandas dataframes."
   ]
  },
  {
   "cell_type": "code",
   "execution_count": 97,
   "metadata": {
    "collapsed": true
   },
   "outputs": [],
   "source": [
    "import pandas as pd"
   ]
  },
  {
   "cell_type": "code",
   "execution_count": 98,
   "metadata": {
    "collapsed": true
   },
   "outputs": [],
   "source": [
    "store = pd.HDFStore('store.h5')"
   ]
  },
  {
   "cell_type": "code",
   "execution_count": 99,
   "metadata": {
    "collapsed": true
   },
   "outputs": [],
   "source": [
    "df = pd.DataFrame(np.random.rand(5,5))\n",
    "store[\"df1\"] = df"
   ]
  },
  {
   "cell_type": "code",
   "execution_count": 101,
   "metadata": {
    "collapsed": false
   },
   "outputs": [],
   "source": [
    "df = pd.read_csv(\"ch18-playerstats-2013-2014-top30.csv\", skiprows=1)\n",
    "store[\"df2\"] = df"
   ]
  },
  {
   "cell_type": "code",
   "execution_count": 102,
   "metadata": {
    "collapsed": false
   },
   "outputs": [
    {
     "data": {
      "text/plain": [
       "['/df1', '/df2']"
      ]
     },
     "execution_count": 102,
     "metadata": {},
     "output_type": "execute_result"
    }
   ],
   "source": [
    "# What's in the HDFstore object?\n",
    "store.keys()"
   ]
  },
  {
   "cell_type": "code",
   "execution_count": 103,
   "metadata": {
    "collapsed": false
   },
   "outputs": [
    {
     "data": {
      "text/plain": [
       "True"
      ]
     },
     "execution_count": 103,
     "metadata": {},
     "output_type": "execute_result"
    }
   ],
   "source": [
    "# test for existence\n",
    "'df2' in store"
   ]
  },
  {
   "cell_type": "code",
   "execution_count": 104,
   "metadata": {
    "collapsed": false
   },
   "outputs": [],
   "source": [
    "# retrieve an object\n",
    "df = store[\"df1\"]"
   ]
  },
  {
   "cell_type": "code",
   "execution_count": 105,
   "metadata": {
    "collapsed": false
   },
   "outputs": [
    {
     "data": {
      "text/plain": [
       "/ (RootGroup) ''\n",
       "  children := ['df1' (Group), 'df2' (Group)]"
      ]
     },
     "execution_count": 105,
     "metadata": {},
     "output_type": "execute_result"
    }
   ],
   "source": [
    "# access underlying HDF5 handle\n",
    "store.root"
   ]
  },
  {
   "cell_type": "code",
   "execution_count": 106,
   "metadata": {
    "collapsed": true
   },
   "outputs": [],
   "source": [
    "store.close()"
   ]
  },
  {
   "cell_type": "code",
   "execution_count": 107,
   "metadata": {
    "collapsed": true
   },
   "outputs": [],
   "source": [
    "# HDF5 is a std file format. We can open a file & see how data is arranged.\n",
    "f = h5py.File(\"store.h5\")"
   ]
  },
  {
   "cell_type": "code",
   "execution_count": 108,
   "metadata": {
    "collapsed": false
   },
   "outputs": [
    {
     "name": "stdout",
     "output_type": "stream",
     "text": [
      "df1 \t\t\t <HDF5 group \"/df1\" (4 members)>\n",
      "df1/axis0 \t\t <HDF5 dataset \"axis0\": shape (5,), type \"<i8\">\n",
      "df1/axis1 \t\t <HDF5 dataset \"axis1\": shape (5,), type \"<i8\">\n",
      "df1/block0_items \t <HDF5 dataset \"block0_items\": shape (5,), type \"<i8\">\n",
      "df1/block0_values \t <HDF5 dataset \"block0_values\": shape (5, 5), type \"<f8\">\n",
      "df2 \t\t\t <HDF5 group \"/df2\" (8 members)>\n",
      "df2/axis0 \t\t <HDF5 dataset \"axis0\": shape (21,), type \"|S8\">\n",
      "df2/axis1 \t\t <HDF5 dataset \"axis1\": shape (30,), type \"<i8\">\n",
      "df2/block0_items \t <HDF5 dataset \"block0_items\": shape (3,), type \"|S8\">\n",
      "df2/block0_values \t <HDF5 dataset \"block0_values\": shape (30, 3), type \"<f8\">\n",
      "df2/block1_items \t <HDF5 dataset \"block1_items\": shape (14,), type \"|S4\">\n",
      "df2/block1_values \t <HDF5 dataset \"block1_values\": shape (30, 14), type \"<i8\">\n",
      "df2/block2_items \t <HDF5 dataset \"block2_items\": shape (4,), type \"|S6\">\n",
      "df2/block2_values \t <HDF5 dataset \"block2_values\": shape (1,), type \"|O\">\n"
     ]
    }
   ],
   "source": [
    "f.visititems(\n",
    "    lambda x, y: \n",
    "    print(x, \"\\t\" * int(3 - len(str(x))//8), y))"
   ]
  },
  {
   "cell_type": "code",
   "execution_count": 109,
   "metadata": {
    "collapsed": false
   },
   "outputs": [
    {
     "data": {
      "text/plain": [
       "array([b'S%', b'Shift/GP', b'FO%'], dtype='|S8')"
      ]
     },
     "execution_count": 109,
     "metadata": {},
     "output_type": "execute_result"
    }
   ],
   "source": [
    "# HDF5Store objects store dataframes in distinct groups.\n",
    "# Each dataframe is split into heterogeneous \"blocks\" with columns grouped by data type\n",
    "# Column names & values are stored in separate HDF5 datasets.\n",
    "\n",
    "f[\"/df2/block0_items\"].value          "
   ]
  },
  {
   "cell_type": "code",
   "execution_count": 110,
   "metadata": {
    "collapsed": false
   },
   "outputs": [
    {
     "data": {
      "text/plain": [
       "array([[13.9, 24. , 52.5],\n",
       "       [15.2, 25.2, 49. ],\n",
       "       [12.6, 25.1, 52.9]])"
      ]
     },
     "execution_count": 110,
     "metadata": {},
     "output_type": "execute_result"
    }
   ],
   "source": [
    "f[\"/df2/block0_values\"][:3]"
   ]
  },
  {
   "cell_type": "code",
   "execution_count": 111,
   "metadata": {
    "collapsed": false
   },
   "outputs": [
    {
     "data": {
      "text/plain": [
       "array([b'Rank', b'GP', b'G', b'A', b'P', b'+/-', b'PIM', b'PPG', b'PPP',\n",
       "       b'SHG', b'SHP', b'GW', b'OT', b'S'], dtype='|S4')"
      ]
     },
     "execution_count": 111,
     "metadata": {},
     "output_type": "execute_result"
    }
   ],
   "source": [
    "f[\"/df2/block1_items\"].value  "
   ]
  },
  {
   "cell_type": "code",
   "execution_count": 112,
   "metadata": {
    "collapsed": false
   },
   "outputs": [
    {
     "data": {
      "text/plain": [
       "array([[  1,  80,  36,  68, 104],\n",
       "       [  2,  77,  31,  56,  87],\n",
       "       [  3,  82,  28,  58,  86]])"
      ]
     },
     "execution_count": 112,
     "metadata": {},
     "output_type": "execute_result"
    }
   ],
   "source": [
    "f[\"/df2/block1_values\"][:3, :5]"
   ]
  },
  {
   "cell_type": "markdown",
   "metadata": {},
   "source": [
    "### JSON\n",
    "* Human-readable, lightweight plain-text format\n",
    "* Ideal for storing lists & dictionaries - no tabular data restrictions"
   ]
  },
  {
   "cell_type": "code",
   "execution_count": 113,
   "metadata": {
    "collapsed": true
   },
   "outputs": [
    {
     "data": {
      "text/plain": [
       "'[\"string\", 1.0, 2, null]'"
      ]
     },
     "execution_count": 113,
     "metadata": {},
     "output_type": "execute_result"
    }
   ],
   "source": [
    "# storing Python lists as JSON strings\n",
    "data      = [\"string\", 1.0, 2, None]\n",
    "data_json = json.dumps(data)\n",
    "data_json"
   ]
  },
  {
   "cell_type": "code",
   "execution_count": 114,
   "metadata": {
    "collapsed": true
   },
   "outputs": [
    {
     "data": {
      "text/plain": [
       "['string', 1.0, 2, None]"
      ]
     },
     "execution_count": 114,
     "metadata": {},
     "output_type": "execute_result"
    }
   ],
   "source": [
    "# parsing JSON string to a Python object\n",
    "data2 = json.loads(data_json)\n",
    "data2"
   ]
  },
  {
   "cell_type": "code",
   "execution_count": 115,
   "metadata": {
    "collapsed": true
   },
   "outputs": [
    {
     "name": "stdout",
     "output_type": "stream",
     "text": [
      "{\"one\": 1, \"two\": 2.0, \"three\": \"three\"}\n"
     ]
    }
   ],
   "source": [
    "# Storing Python dictionaries as JSON strings\n",
    "data = {\"one\": 1, \"two\": 2.0, \"three\": \"three\"}\n",
    "data_json = json.dumps(data)\n",
    "print(data_json)"
   ]
  },
  {
   "cell_type": "code",
   "execution_count": 116,
   "metadata": {
    "collapsed": true
   },
   "outputs": [
    {
     "data": {
      "text/plain": [
       "(2.0, 'three')"
      ]
     },
     "execution_count": 116,
     "metadata": {},
     "output_type": "execute_result"
    }
   ],
   "source": [
    "# Parsing JSON string back to Python object\n",
    "data = json.loads(data_json)\n",
    "data[\"two\"], data[\"three\"]"
   ]
  },
  {
   "cell_type": "code",
   "execution_count": 117,
   "metadata": {
    "collapsed": true
   },
   "outputs": [],
   "source": [
    "# JSON can handle variable-size elements\n",
    "data = {\"one\": [1], \n",
    "        \"two\": [1, 2], \n",
    "        \"three\": [1, 2, 3]}"
   ]
  },
  {
   "cell_type": "code",
   "execution_count": 118,
   "metadata": {
    "collapsed": true
   },
   "outputs": [
    {
     "name": "stdout",
     "output_type": "stream",
     "text": [
      "{\n",
      " \"one\": [\n",
      "  1\n",
      " ],\n",
      " \"two\": [\n",
      "  1,\n",
      "  2\n",
      " ],\n",
      " \"three\": [\n",
      "  1,\n",
      "  2,\n",
      "  3\n",
      " ]\n",
      "}\n"
     ]
    }
   ],
   "source": [
    "# indent=True obtains indented JSON code = easier to read.\n",
    "data_json = json.dumps(data, indent=True)\n",
    "print(data_json)"
   ]
  },
  {
   "cell_type": "code",
   "execution_count": 119,
   "metadata": {
    "collapsed": true
   },
   "outputs": [],
   "source": [
    "# another complex data structure, saved to a JSON file\n",
    "data = {\"one\": [1], \n",
    "        \"two\": {\"one\": 1, \"two\": 2}, \n",
    "        \"three\": [(1,), (1, 2), (1, 2, 3)],\n",
    "        \"four\": \"a text string\"}"
   ]
  },
  {
   "cell_type": "code",
   "execution_count": 120,
   "metadata": {
    "collapsed": true
   },
   "outputs": [],
   "source": [
    "with open(\"data.json\", \"w\") as f:\n",
    "    json.dump(data, f)"
   ]
  },
  {
   "cell_type": "code",
   "execution_count": 121,
   "metadata": {
    "collapsed": false
   },
   "outputs": [
    {
     "name": "stdout",
     "output_type": "stream",
     "text": [
      "{\"one\": [1], \"two\": {\"one\": 1, \"two\": 2}, \"three\": [[1], [1, 2], [1, 2, 3]], \"four\": \"a text string\"}"
     ]
    }
   ],
   "source": [
    "!cat data.json"
   ]
  },
  {
   "cell_type": "code",
   "execution_count": 122,
   "metadata": {
    "collapsed": false
   },
   "outputs": [],
   "source": [
    "# read back into a Python object\n",
    "with open(\"data.json\", \"r\") as f:\n",
    "    data_from_file = json.load(f)"
   ]
  },
  {
   "cell_type": "code",
   "execution_count": 123,
   "metadata": {
    "collapsed": false
   },
   "outputs": [
    {
     "data": {
      "text/plain": [
       "{'one': 1, 'two': 2}"
      ]
     },
     "execution_count": 123,
     "metadata": {},
     "output_type": "execute_result"
    }
   ],
   "source": [
    "data_from_file[\"two\"]"
   ]
  },
  {
   "cell_type": "code",
   "execution_count": 124,
   "metadata": {
    "collapsed": false
   },
   "outputs": [
    {
     "data": {
      "text/plain": [
       "[[1], [1, 2], [1, 2, 3]]"
      ]
     },
     "execution_count": 124,
     "metadata": {},
     "output_type": "execute_result"
    }
   ],
   "source": [
    "data_from_file[\"three\"]"
   ]
  },
  {
   "cell_type": "code",
   "execution_count": 125,
   "metadata": {
    "collapsed": false
   },
   "outputs": [
    {
     "name": "stdout",
     "output_type": "stream",
     "text": [
      "{\n",
      "    \"C\": {\n",
      "        \"color\": \"#149848\", \n",
      "        \"transfers\": [\n",
      "            [\n",
      "                \"C3\", \n",
      "                \"F15\"\n",
      "            ], \n",
      "            [\n",
      "                \"C4\", \n",
      "                \"Z2\"\n",
      "            ], \n",
      "            [\n",
      "                \"C4\", \n",
      "                \"G2\"\n",
      "            ], \n",
      "            [\n",
      "                \"C7\", \n",
      "                \"M14\"\n",
      "            ], \n"
     ]
    }
   ],
   "source": [
    "# revisit Tokyo metro dataset (JSON format):\n",
    "!head -n 20 tokyo-metro.json"
   ]
  },
  {
   "cell_type": "code",
   "execution_count": 128,
   "metadata": {
    "collapsed": true
   },
   "outputs": [],
   "source": [
    "with open(\"tokyo-metro.json\", \"r\") as f:\n",
    "    data = json.load(f)"
   ]
  },
  {
   "cell_type": "code",
   "execution_count": 129,
   "metadata": {
    "collapsed": false
   },
   "outputs": [
    {
     "data": {
      "text/plain": [
       "dict_keys(['C', 'G', 'F', 'H', 'M', 'N', 'T', 'Y', 'Z'])"
      ]
     },
     "execution_count": 129,
     "metadata": {},
     "output_type": "execute_result"
    }
   ],
   "source": [
    "# dictionary with a key for each metro line\n",
    "data.keys()"
   ]
  },
  {
   "cell_type": "code",
   "execution_count": 130,
   "metadata": {
    "collapsed": false
   },
   "outputs": [
    {
     "data": {
      "text/plain": [
       "dict_keys(['color', 'transfers', 'travel_times'])"
      ]
     },
     "execution_count": 130,
     "metadata": {},
     "output_type": "execute_result"
    }
   ],
   "source": [
    "data[\"C\"].keys()"
   ]
  },
  {
   "cell_type": "code",
   "execution_count": 131,
   "metadata": {
    "collapsed": false
   },
   "outputs": [
    {
     "data": {
      "text/plain": [
       "'#149848'"
      ]
     },
     "execution_count": 131,
     "metadata": {},
     "output_type": "execute_result"
    }
   ],
   "source": [
    "data[\"C\"][\"color\"]"
   ]
  },
  {
   "cell_type": "code",
   "execution_count": 132,
   "metadata": {
    "collapsed": false
   },
   "outputs": [
    {
     "data": {
      "text/plain": [
       "[['C3', 'F15'],\n",
       " ['C4', 'Z2'],\n",
       " ['C4', 'G2'],\n",
       " ['C7', 'M14'],\n",
       " ['C7', 'N6'],\n",
       " ['C7', 'G6'],\n",
       " ['C8', 'M15'],\n",
       " ['C8', 'H6'],\n",
       " ['C9', 'H7'],\n",
       " ['C9', 'Y18'],\n",
       " ['C11', 'T9'],\n",
       " ['C11', 'M18'],\n",
       " ['C11', 'Z8'],\n",
       " ['C12', 'M19'],\n",
       " ['C18', 'H21']]"
      ]
     },
     "execution_count": 132,
     "metadata": {},
     "output_type": "execute_result"
    }
   ],
   "source": [
    "data[\"C\"][\"transfers\"]"
   ]
  },
  {
   "cell_type": "code",
   "execution_count": 133,
   "metadata": {
    "collapsed": false
   },
   "outputs": [
    {
     "data": {
      "text/plain": [
       "[('C3', 'C4', 1), ('C7', 'C8', 1), ('C9', 'C10', 1)]"
      ]
     },
     "execution_count": 133,
     "metadata": {},
     "output_type": "execute_result"
    }
   ],
   "source": [
    "# now we can iterate & filter items with Python list syntax\n",
    "# below: select connected nodes in graph, on C line, with travel time = 1 minute.\n",
    "\n",
    "[(s, e, tt) for s, e, tt in data[\"C\"][\"travel_times\"] if tt == 1]"
   ]
  },
  {
   "cell_type": "markdown",
   "metadata": {},
   "source": [
    "### Serialization\n",
    "\n",
    "* JSON files aren't space efficient, and can represent only limited set of datatypes.\n",
    "* Two alternatives: __msgpack__ library, and Python's __pickle__ module."
   ]
  },
  {
   "cell_type": "code",
   "execution_count": 135,
   "metadata": {
    "collapsed": false
   },
   "outputs": [
    {
     "name": "stdout",
     "output_type": "stream",
     "text": [
      "-rw-rw-r-- 1 bjpcjp bjpcjp 27K May 19 16:47 tokyo-metro.json\n"
     ]
    }
   ],
   "source": [
    "!ls -lh tokyo-metro.json"
   ]
  },
  {
   "cell_type": "code",
   "execution_count": 138,
   "metadata": {
    "collapsed": false
   },
   "outputs": [
    {
     "data": {
      "text/plain": [
       "(bytes, 3021)"
      ]
     },
     "execution_count": 138,
     "metadata": {},
     "output_type": "execute_result"
    }
   ],
   "source": [
    "# packing the JSON \"data\" file (above) --> considerably smaller file\n",
    "data_pack = msgpack.packb(data)\n",
    "type(data_pack), len(data_pack)"
   ]
  },
  {
   "cell_type": "code",
   "execution_count": 139,
   "metadata": {
    "collapsed": false
   },
   "outputs": [],
   "source": [
    "with open(\"tokyo-metro.msgpack\", \"wb\") as f:\n",
    "    f.write(data_pack)"
   ]
  },
  {
   "cell_type": "code",
   "execution_count": 140,
   "metadata": {
    "collapsed": false
   },
   "outputs": [
    {
     "name": "stdout",
     "output_type": "stream",
     "text": [
      "-rw-rw-r-- 1 bjpcjp bjpcjp 3.0K May 19 18:46 tokyo-metro.msgpack\n"
     ]
    }
   ],
   "source": [
    "!ls -lh tokyo-metro.msgpack"
   ]
  },
  {
   "cell_type": "code",
   "execution_count": 141,
   "metadata": {
    "collapsed": false
   },
   "outputs": [],
   "source": [
    "# unpack the msgpack file, back into JSON:\n",
    "with open(\"tokyo-metro.msgpack\", \"rb\") as f:\n",
    "    data_msgpack = f.read()\n",
    "    data = msgpack.unpackb(data_msgpack)"
   ]
  },
  {
   "cell_type": "code",
   "execution_count": 142,
   "metadata": {
    "collapsed": false
   },
   "outputs": [
    {
     "data": {
      "text/plain": [
       "[b'C', b'G', b'F', b'H', b'M', b'N', b'T', b'Y', b'Z']"
      ]
     },
     "execution_count": 142,
     "metadata": {},
     "output_type": "execute_result"
    }
   ],
   "source": [
    "list(data.keys())"
   ]
  },
  {
   "cell_type": "markdown",
   "metadata": {},
   "source": [
    "### Serialization - pickle\n",
    "* Advantage: almost any type of Python object can be serialized.\n",
    "* Disadvantage: Pickles can't be read by any non-Python code. Also, not recommended for long-term storage due to version thrashing."
   ]
  },
  {
   "cell_type": "code",
   "execution_count": 143,
   "metadata": {
    "collapsed": false
   },
   "outputs": [],
   "source": [
    "with open(\"tokyo-metro.pickle\", \"wb\") as f:\n",
    "    cPickle.dump(data, f)"
   ]
  },
  {
   "cell_type": "code",
   "execution_count": 144,
   "metadata": {
    "collapsed": false
   },
   "outputs": [
    {
     "name": "stdout",
     "output_type": "stream",
     "text": [
      "-rw-rw-r-- 1 bjpcjp bjpcjp 8.6K May 19 18:53 tokyo-metro.pickle\n"
     ]
    }
   ],
   "source": [
    "!ls -lh tokyo-metro.pickle"
   ]
  },
  {
   "cell_type": "code",
   "execution_count": 145,
   "metadata": {
    "collapsed": false
   },
   "outputs": [],
   "source": [
    "with open(\"tokyo-metro.pickle\", \"rb\") as f:\n",
    "    data = pickle.load(f)"
   ]
  },
  {
   "cell_type": "code",
   "execution_count": 146,
   "metadata": {
    "collapsed": false
   },
   "outputs": [
    {
     "data": {
      "text/plain": [
       "dict_keys([b'C', b'G', b'F', b'H', b'M', b'N', b'T', b'Y', b'Z'])"
      ]
     },
     "execution_count": 146,
     "metadata": {},
     "output_type": "execute_result"
    }
   ],
   "source": [
    "data.keys()"
   ]
  }
 ],
 "metadata": {
  "kernelspec": {
   "display_name": "Python 3",
   "language": "python",
   "name": "python3"
  },
  "language_info": {
   "codemirror_mode": {
    "name": "ipython",
    "version": 3
   },
   "file_extension": ".py",
   "mimetype": "text/x-python",
   "name": "python",
   "nbconvert_exporter": "python",
   "pygments_lexer": "ipython3",
   "version": "3.6.5"
  }
 },
 "nbformat": 4,
 "nbformat_minor": 2
}
