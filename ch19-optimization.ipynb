{
 "cells": [
  {
   "cell_type": "markdown",
   "metadata": {},
   "source": [
    "# Code Optimization\n",
    "- __Numba__\n",
    "- __Cython__"
   ]
  },
  {
   "cell_type": "code",
   "execution_count": 13,
   "metadata": {},
   "outputs": [],
   "source": [
    "import numba\n",
    "\n",
    "# don't have to explicitly import Cython.\n",
    "# can use pyximport library (provided by Cython) & register an import hook.\n",
    "# enables us to import Cython files (.pyx) directly.\n",
    "\n",
    "import pyximport\n",
    "\n",
    "# still useful to explicitly import Cython:\n",
    "\n",
    "import cython\n",
    "\n",
    "import numpy as np\n",
    "import matplotlib.pyplot as plt"
   ]
  },
  {
   "cell_type": "markdown",
   "metadata": {},
   "source": [
    "### Numba\n",
    "* Don't have to alter Python code to see speedup.\n",
    "* Converts pure Python to LLVM\n",
    "* use @numba.jit decorator function - enables JIT compilation into optimized code\n",
    "* very useful when Python code dominated by loops that can't be vectorized."
   ]
  },
  {
   "cell_type": "code",
   "execution_count": 2,
   "metadata": {},
   "outputs": [],
   "source": [
    "# loops in Python = notoriously slow due to dynamic typing & overhead\n",
    "# let's benchmark simple algorithm.\n",
    "\n",
    "def py_sum(data):\n",
    "    s=0\n",
    "    for d in data:\n",
    "        s += d\n",
    "    return s"
   ]
  },
  {
   "cell_type": "code",
   "execution_count": 3,
   "metadata": {},
   "outputs": [
    {
     "name": "stdout",
     "output_type": "stream",
     "text": [
      "4.36 ms ± 36.1 µs per loop (mean ± std. dev. of 7 runs, 100 loops each)\n"
     ]
    }
   ],
   "source": [
    "data = np.random.randn(50000)\n",
    "%timeit py_sum(data)"
   ]
  },
  {
   "cell_type": "code",
   "execution_count": 4,
   "metadata": {},
   "outputs": [],
   "source": [
    "# verify py_sum returns same result as NumPy sum function:\n",
    "# if no error, we're good.\n",
    "assert abs(py_sum(data) - np.sum(data)) < 1e-10"
   ]
  },
  {
   "cell_type": "code",
   "execution_count": 5,
   "metadata": {},
   "outputs": [
    {
     "name": "stdout",
     "output_type": "stream",
     "text": [
      "22.2 µs ± 120 ns per loop (mean ± std. dev. of 7 runs, 10000 loops each)\n"
     ]
    }
   ],
   "source": [
    "# benchmark NumPy sum function the same way\n",
    "%timeit np.sum(data)"
   ]
  },
  {
   "cell_type": "code",
   "execution_count": 6,
   "metadata": {},
   "outputs": [
    {
     "name": "stdout",
     "output_type": "stream",
     "text": [
      "10 ms ± 142 µs per loop (mean ± std. dev. of 7 runs, 100 loops each)\n"
     ]
    }
   ],
   "source": [
    "# another example - accumulative sums:\n",
    "\n",
    "def py_cumsum(data):\n",
    "    out = np.zeros_like(data)\n",
    "    s=0\n",
    "    for n in range(len(data)):\n",
    "        s += data[n]\n",
    "        out[n] = s\n",
    "    return out\n",
    "\n",
    "%timeit py_cumsum(data)"
   ]
  },
  {
   "cell_type": "code",
   "execution_count": 7,
   "metadata": {},
   "outputs": [
    {
     "name": "stdout",
     "output_type": "stream",
     "text": [
      "139 µs ± 349 ns per loop (mean ± std. dev. of 7 runs, 10000 loops each)\n"
     ]
    }
   ],
   "source": [
    "%timeit np.cumsum(data)"
   ]
  },
  {
   "cell_type": "code",
   "execution_count": 8,
   "metadata": {},
   "outputs": [
    {
     "name": "stdout",
     "output_type": "stream",
     "text": [
      "45.8 µs ± 111 ns per loop (mean ± std. dev. of 7 runs, 10000 loops each)\n"
     ]
    }
   ],
   "source": [
    "# activate JIT compilation:\n",
    "# 1) verify same results\n",
    "# 2) run benchmark\n",
    "\n",
    "@numba.jit\n",
    "def jit_sum(data):\n",
    "    s=0\n",
    "    for d in data:\n",
    "        s += d\n",
    "    return s\n",
    "\n",
    "# jit_sum should be ~300X faster than NumPy equivalent.\n",
    "\n",
    "assert abs(jit_sum(data) - np.sum(data)) < 1e-10\n",
    "%timeit jit_sum(data)"
   ]
  },
  {
   "cell_type": "code",
   "execution_count": 9,
   "metadata": {},
   "outputs": [
    {
     "name": "stdout",
     "output_type": "stream",
     "text": [
      "59.1 µs ± 163 ns per loop (mean ± std. dev. of 7 runs, 10000 loops each)\n"
     ]
    }
   ],
   "source": [
    "# can also apply JIT decorator after the fact:\n",
    "\n",
    "jit_cumsum = numba.jit()(py_cumsum)\n",
    "\n",
    "assert np.allclose(np.cumsum(data), jit_cumsum(data))\n",
    "%timeit jit_cumsum(data)"
   ]
  },
  {
   "cell_type": "code",
   "execution_count": 10,
   "metadata": {},
   "outputs": [],
   "source": [
    "# example: Julia fractal\n",
    "# three nested loops - in Python, VERY slow.\n",
    "\n",
    "def py_julia_fractal(z_re, z_im, j):\n",
    "    for m in range(len(z_re)):\n",
    "        for n in range(len(z_im)):\n",
    "            z = z_re[m] + 1j * z_im[n]\n",
    "            for t in range(256):\n",
    "                z = z ** 2 - 0.05 + 0.68j\n",
    "                if np.abs(z) > 2.0:\n",
    "                    j[m,n] = t\n",
    "                    break\n",
    "                    \n",
    "# JIT optimization options:\n",
    "# default: graceful fallback to python if not possible to optimize\n",
    "# nopython=true: JIT compilation fails if Numba can't optimize.\n",
    "# can use 'locals' keyword to define variable types in the function body.\n",
    "\n",
    "jit_julia_fractal = numba.jit(nopython=True)(py_julia_fractal)"
   ]
  },
  {
   "cell_type": "code",
   "execution_count": 11,
   "metadata": {},
   "outputs": [],
   "source": [
    "# note how NumPy arrays are defined outside the function.\n",
    "# this helps NumPy know the datatypes involved - aids code efficiency for JIT compilation.\n",
    "\n",
    "N = 1024\n",
    "j = np.zeros((N,N), np.int64)\n",
    "z_real = np.linspace(-1.5, 1.5, N)\n",
    "z_imag = np.linspace(-1.5, 1.5, N)\n",
    "\n",
    "jit_julia_fractal(z_real, z_imag, j) # result stored in j"
   ]
  },
  {
   "cell_type": "code",
   "execution_count": 14,
   "metadata": {},
   "outputs": [
    {
     "data": {
      "text/plain": [
       "Text(0, 0.5, '$\\\\mathrm{Im}(z)$')"
      ]
     },
     "execution_count": 14,
     "metadata": {},
     "output_type": "execute_result"
    },
    {
     "data": {
      "image/png": "[encoded data removed]",
      "text/plain": [
       "<Figure size 576x576 with 1 Axes>"
      ]
     },
     "metadata": {},
     "output_type": "display_data"
    }
   ],
   "source": [
    "fig, ax = plt.subplots(figsize=(8,8))\n",
    "ax.imshow(j, cmap=plt.cm.RdBu_r, extent=[-1.5,1.5,-1.5,1.5])\n",
    "ax.set_xlabel(\"$\\mathrm{Re}(z)$\", fontsize=18)\n",
    "ax.set_ylabel(\"$\\mathrm{Im}(z)$\", fontsize=18)"
   ]
  },
  {
   "cell_type": "code",
   "execution_count": 17,
   "metadata": {},
   "outputs": [],
   "source": [
    "# %timeit py_julia_fractal(z_real, z_imag, j)\n",
    "# interrrupted via keyboard due to execution length"
   ]
  },
  {
   "cell_type": "code",
   "execution_count": 16,
   "metadata": {},
   "outputs": [
    {
     "name": "stdout",
     "output_type": "stream",
     "text": [
      "245 ms ± 2.08 ms per loop (mean ± std. dev. of 7 runs, 1 loop each)\n"
     ]
    }
   ],
   "source": [
    "%timeit jit_julia_fractal(z_real, z_imag, j)"
   ]
  },
  {
   "cell_type": "markdown",
   "metadata": {},
   "source": [
    "### Numba.vectorize\n",
    "* Generates a vectorized function from a kernel written for scalar inputs/outputs.\n",
    "* Example: Heavyside step function"
   ]
  },
  {
   "cell_type": "code",
   "execution_count": 14,
   "metadata": {},
   "outputs": [
    {
     "name": "stdout",
     "output_type": "stream",
     "text": [
      "13 ms ± 89.3 µs per loop (mean ± std. dev. of 7 runs, 100 loops each)\n"
     ]
    }
   ],
   "source": [
    "def py_Heavyside(x):\n",
    "    if x == 0.0:\n",
    "        return 0.5\n",
    "    if x < 0.0:\n",
    "        return 0.0\n",
    "    else:\n",
    "        return 1.0\n",
    "    \n",
    "# only works with scalars. need to iterate to work with arrays:\n",
    "\n",
    "x = np.linspace(-2,2,50001)\n",
    "%timeit [py_Heavyside(xx) for xx in x]"
   ]
  },
  {
   "cell_type": "code",
   "execution_count": 15,
   "metadata": {},
   "outputs": [
    {
     "data": {
      "text/plain": [
       "array([0., 0., 0., ..., 1., 1., 1.])"
      ]
     },
     "execution_count": 15,
     "metadata": {},
     "output_type": "execute_result"
    }
   ],
   "source": [
    "# not great. let's use vectorize.\n",
    "\n",
    "np_vec_Heavyside = np.vectorize(py_Heavyside)\n",
    "np_vec_Heavyside(x)"
   ]
  },
  {
   "cell_type": "code",
   "execution_count": 16,
   "metadata": {},
   "outputs": [
    {
     "name": "stdout",
     "output_type": "stream",
     "text": [
      "7.47 ms ± 22.2 µs per loop (mean ± std. dev. of 7 runs, 100 loops each)\n"
     ]
    }
   ],
   "source": [
    "%timeit np_vec_Heavyside(x)"
   ]
  },
  {
   "cell_type": "code",
   "execution_count": 17,
   "metadata": {},
   "outputs": [
    {
     "name": "stdout",
     "output_type": "stream",
     "text": [
      "186 µs ± 572 ns per loop (mean ± std. dev. of 7 runs, 10000 loops each)\n"
     ]
    }
   ],
   "source": [
    "# helps, but not much. next: Numpy array expression.\n",
    "\n",
    "def np_Heavyside(x):\n",
    "    return (x>0.0) + (x==0.0)/2.0\n",
    "\n",
    "%timeit np_Heavyside(x)"
   ]
  },
  {
   "cell_type": "code",
   "execution_count": 19,
   "metadata": {},
   "outputs": [
    {
     "name": "stdout",
     "output_type": "stream",
     "text": [
      "27.8 µs ± 41.4 ns per loop (mean ± std. dev. of 7 runs, 10000 loops each)\n"
     ]
    }
   ],
   "source": [
    "# best: Numba, vectorize decorator for two signatures.\n",
    "\n",
    "@numba.vectorize(\n",
    "    [numba.float32(numba.float32),\n",
    "     numba.float64(numba.float64)])\n",
    "def jit_Heavyside(x):\n",
    "    if x == 0.0:\n",
    "        return 0.5\n",
    "    if x < 0:\n",
    "        return 0.0\n",
    "    else:\n",
    "        return 1.0\n",
    "    \n",
    "%timeit jit_Heavyside(x)"
   ]
  },
  {
   "cell_type": "markdown",
   "metadata": {},
   "source": [
    "### Cython\n",
    "\n",
    "* Cython methodology completely different from Numba.\n",
    "* Extends Python - provides explicit & static data type declarations.\n",
    "* Enables efficient converstion to C/C++ code for compilation into Python extension mods.\n",
    "* Use cases: code speedup, and building library wrappers.\n",
    "* Uses ahead-of-time (not JIT) compilation\n",
    "* Requires Cython-specific compilation pipeline (__cython__ cmnd line tool)"
   ]
  },
  {
   "cell_type": "code",
   "execution_count": 21,
   "metadata": {},
   "outputs": [
    {
     "name": "stdout",
     "output_type": "stream",
     "text": [
      "# cy_sum.pyx\n",
      "\n",
      "def cy_sum(data):\n",
      "    s = 0.0\n",
      "    for d in data:\n",
      "        s += d\n",
      "    return s"
     ]
    }
   ],
   "source": [
    "!head cy_sum.pyx"
   ]
  },
  {
   "cell_type": "code",
   "execution_count": 22,
   "metadata": {},
   "outputs": [
    {
     "name": "stdout",
     "output_type": "stream",
     "text": [
      "# usage: $python setup.py build_ext --inplace \n",
      "# instructs distutils to build extension module in same directory as source.\n",
      "\n",
      "from distutils.core import setup\n",
      "from Cython.Build import cythonize\n",
      "import numpy as np\n",
      "\n",
      "setup(ext_modules=cythonize('cy_sum.pyx'),\n",
      "    include_dirs=[np.get_include()],\n",
      "    requires=['Cython','numpy'])"
     ]
    }
   ],
   "source": [
    "!head setup.py"
   ]
  },
  {
   "cell_type": "code",
   "execution_count": 23,
   "metadata": {},
   "outputs": [
    {
     "name": "stdout",
     "output_type": "stream",
     "text": [
      "Compiling cy_sum.pyx because it changed.\n",
      "[1/1] Cythonizing cy_sum.pyx\n",
      "running build_ext\n",
      "building 'cy_sum' extension\n",
      "creating build\n",
      "creating build/temp.linux-x86_64-3.6\n",
      "gcc -pthread -B /home/bjpcjp/anaconda3/compiler_compat -Wl,--sysroot=/ -Wsign-compare -DNDEBUG -g -fwrapv -O3 -Wall -Wstrict-prototypes -fPIC -I/home/bjpcjp/anaconda3/lib/python3.6/site-packages/numpy/core/include -I/home/bjpcjp/anaconda3/include/python3.6m -c cy_sum.c -o build/temp.linux-x86_64-3.6/cy_sum.o\n",
      "gcc -pthread -shared -B /home/bjpcjp/anaconda3/compiler_compat -L/home/bjpcjp/anaconda3/lib -Wl,-rpath=/home/bjpcjp/anaconda3/lib -Wl,--no-as-needed -Wl,--sysroot=/ build/temp.linux-x86_64-3.6/cy_sum.o -o /home/bjpcjp/projects/code/python-numerical-backup/Numeric-Python/cy_sum.cpython-36m-x86_64-linux-gnu.so\n"
     ]
    }
   ],
   "source": [
    "!python setup.py build_ext --inplace"
   ]
  },
  {
   "cell_type": "code",
   "execution_count": 24,
   "metadata": {},
   "outputs": [
    {
     "name": "stdout",
     "output_type": "stream",
     "text": [
      "cy_sum.c  cy_sum.cpython-36m-x86_64-linux-gnu.so  cy_sum.pyx\n"
     ]
    }
   ],
   "source": [
    "!ls cy_sum*"
   ]
  },
  {
   "cell_type": "code",
   "execution_count": 25,
   "metadata": {},
   "outputs": [],
   "source": [
    "from cy_sum import cy_sum"
   ]
  },
  {
   "cell_type": "code",
   "execution_count": 26,
   "metadata": {},
   "outputs": [
    {
     "data": {
      "text/plain": [
       "21.748331210974925"
      ]
     },
     "execution_count": 26,
     "metadata": {},
     "output_type": "execute_result"
    }
   ],
   "source": [
    "cy_sum(data)"
   ]
  },
  {
   "cell_type": "code",
   "execution_count": 27,
   "metadata": {},
   "outputs": [
    {
     "name": "stdout",
     "output_type": "stream",
     "text": [
      "3.73 ms ± 18.3 µs per loop (mean ± std. dev. of 7 runs, 100 loops each)\n"
     ]
    }
   ],
   "source": [
    "%timeit cy_sum(data)"
   ]
  },
  {
   "cell_type": "code",
   "execution_count": 28,
   "metadata": {},
   "outputs": [
    {
     "name": "stdout",
     "output_type": "stream",
     "text": [
      "4.29 ms ± 12.9 µs per loop (mean ± std. dev. of 7 runs, 100 loops each)\n"
     ]
    }
   ],
   "source": [
    "%timeit py_sum(data)"
   ]
  },
  {
   "cell_type": "markdown",
   "metadata": {},
   "source": [
    "* Speedup ~25%. Nice, but worth the trouble?\n",
    "* Let's try another approach."
   ]
  },
  {
   "cell_type": "code",
   "execution_count": 30,
   "metadata": {},
   "outputs": [
    {
     "name": "stdout",
     "output_type": "stream",
     "text": [
      "# cy_cumsum.pyx\n",
      "cimport numpy\n",
      "import numpy\n",
      "\n",
      "def cy_cumsum(data):\n",
      "    out = numpy.zeros_like(data)\n",
      "    s = 0\n",
      "    for n in range(len(data)):\n",
      "        s += data[n]\n",
      "        out[n] =s\n"
     ]
    }
   ],
   "source": [
    "!head cy_cumsum.pyx"
   ]
  },
  {
   "cell_type": "markdown",
   "metadata": {},
   "source": [
    "* Explicit compilation (Cython to Python, above) is useful for distributing prebuilt Cython modules (no need for Cython installation to use extension module).\n",
    "* Alternative: invoke Cython compilation during import (via __pyximport__ library)."
   ]
  },
  {
   "cell_type": "code",
   "execution_count": 32,
   "metadata": {},
   "outputs": [
    {
     "data": {
      "text/plain": [
       "(None, None)"
      ]
     },
     "execution_count": 32,
     "metadata": {},
     "output_type": "execute_result"
    }
   ],
   "source": [
    "# modifies Python import statement - adds Cython pyx file support\n",
    "pyximport.install(setup_args=dict(include_dirs=np.get_include()))"
   ]
  },
  {
   "cell_type": "code",
   "execution_count": 33,
   "metadata": {},
   "outputs": [],
   "source": [
    "from cy_cumsum import cy_cumsum"
   ]
  },
  {
   "cell_type": "code",
   "execution_count": 34,
   "metadata": {},
   "outputs": [
    {
     "name": "stdout",
     "output_type": "stream",
     "text": [
      "4.14 ms ± 11.9 µs per loop (mean ± std. dev. of 7 runs, 100 loops each)\n"
     ]
    }
   ],
   "source": [
    "%timeit cy_cumsum(data)"
   ]
  },
  {
   "cell_type": "code",
   "execution_count": 35,
   "metadata": {},
   "outputs": [
    {
     "name": "stdout",
     "output_type": "stream",
     "text": [
      "9.92 ms ± 310 µs per loop (mean ± std. dev. of 7 runs, 100 loops each)\n"
     ]
    }
   ],
   "source": [
    "%timeit py_cumsum(data)"
   ]
  },
  {
   "cell_type": "markdown",
   "metadata": {},
   "source": [
    "* Speedup ~2X. Nice, but worth the trouble?\n",
    "* One more alternative."
   ]
  },
  {
   "cell_type": "code",
   "execution_count": 38,
   "metadata": {},
   "outputs": [],
   "source": [
    "# Load cython extension to Jupyter Notebook:\n",
    "%load_ext cython"
   ]
  },
  {
   "cell_type": "code",
   "execution_count": 41,
   "metadata": {},
   "outputs": [],
   "source": [
    "%%cython\n",
    "def cy_sum(data):\n",
    "    s = 0.0\n",
    "    for d in data:\n",
    "        s += d\n",
    "    return s"
   ]
  },
  {
   "cell_type": "code",
   "execution_count": 42,
   "metadata": {},
   "outputs": [
    {
     "name": "stdout",
     "output_type": "stream",
     "text": [
      "3.71 ms ± 8.88 µs per loop (mean ± std. dev. of 7 runs, 100 loops each)\n"
     ]
    }
   ],
   "source": [
    "%timeit cy_sum(data)"
   ]
  },
  {
   "cell_type": "code",
   "execution_count": 43,
   "metadata": {},
   "outputs": [
    {
     "name": "stdout",
     "output_type": "stream",
     "text": [
      "4.3 ms ± 18.1 µs per loop (mean ± std. dev. of 7 runs, 100 loops each)\n"
     ]
    }
   ],
   "source": [
    "%timeit py_sum(data)"
   ]
  },
  {
   "cell_type": "markdown",
   "metadata": {},
   "source": [
    "### Cython - computational tricks & tips, #1\n",
    "\n",
    "- @cython.boundscheck(False), @cython.wraparound(False) disables boundary checks on NumPy array boundary checking. (Increased bug risk.)\n",
    "- Add type declarations wherever possible, via Cython's __cdef__ keyword."
   ]
  },
  {
   "cell_type": "code",
   "execution_count": 44,
   "metadata": {},
   "outputs": [],
   "source": [
    "%%cython\n",
    "cimport numpy\n",
    "cimport cython\n",
    "\n",
    "@cython.boundscheck(False)\n",
    "@cython.wraparound(False)\n",
    "\n",
    "def cy_sum(numpy.ndarray[numpy.float64_t, ndim=1] data):\n",
    "    cdef numpy.float64_t s = 0.0\n",
    "    cdef int n, N = len(data)\n",
    "    for n in range(N):\n",
    "        s += data[n]\n",
    "    return s\n",
    "\n"
   ]
  },
  {
   "cell_type": "code",
   "execution_count": 45,
   "metadata": {},
   "outputs": [
    {
     "name": "stdout",
     "output_type": "stream",
     "text": [
      "45.8 µs ± 216 ns per loop (mean ± std. dev. of 7 runs, 10000 loops each)\n"
     ]
    }
   ],
   "source": [
    "%timeit cy_sum(data)"
   ]
  },
  {
   "cell_type": "code",
   "execution_count": 46,
   "metadata": {},
   "outputs": [
    {
     "name": "stdout",
     "output_type": "stream",
     "text": [
      "8.83 ms ± 107 µs per loop (mean ± std. dev. of 7 runs, 100 loops each)\n"
     ]
    }
   ],
   "source": [
    "%timeit py_sum(data)"
   ]
  },
  {
   "cell_type": "code",
   "execution_count": 49,
   "metadata": {},
   "outputs": [],
   "source": [
    "%%cython\n",
    "cimport numpy\n",
    "import numpy\n",
    "cimport cython\n",
    "\n",
    "ctypedef numpy.float64_t FTYPE_t\n",
    "\n",
    "@cython.boundscheck(False)\n",
    "@cython.wraparound(False)\n",
    "\n",
    "def cy_cumsum(numpy.ndarray[FTYPE_t, ndim=1] data):\n",
    "    cdef int n, N = data.size\n",
    "    cdef numpy.ndarray[FTYPE_t, ndim=1] out = numpy.zeros(N, dtype=data.dtype)\n",
    "    cdef numpy.float64_t s = 0.0\n",
    "    \n",
    "    for n in range(N):\n",
    "        s += data[n]\n",
    "        out[n] = s\n",
    "    return out"
   ]
  },
  {
   "cell_type": "code",
   "execution_count": 50,
   "metadata": {},
   "outputs": [
    {
     "name": "stdout",
     "output_type": "stream",
     "text": [
      "84.7 µs ± 102 ns per loop (mean ± std. dev. of 7 runs, 10000 loops each)\n"
     ]
    }
   ],
   "source": [
    "%timeit cy_cumsum(data)"
   ]
  },
  {
   "cell_type": "code",
   "execution_count": 51,
   "metadata": {},
   "outputs": [
    {
     "name": "stdout",
     "output_type": "stream",
     "text": [
      "18.9 ms ± 38.7 µs per loop (mean ± std. dev. of 7 runs, 100 loops each)\n"
     ]
    }
   ],
   "source": [
    "%timeit py_cumsum(data)"
   ]
  },
  {
   "cell_type": "markdown",
   "metadata": {},
   "source": [
    "* Now we've got significant speedup over previous cumsum(data) iteration.\n",
    "* Also signficantly faster than NumPy's builtin cumsum() function.\n",
    "* Adding explicit data type declarations adds performance, but loses flexibility. The pure Python implementation accepts lists & arrays, integers & floating-point.\n",
    "* Cython has a workaround via its __ctypedef fused__ keyword."
   ]
  },
  {
   "cell_type": "code",
   "execution_count": 52,
   "metadata": {},
   "outputs": [],
   "source": [
    "%%cython\n",
    "cimport numpy\n",
    "cimport cython\n",
    "\n",
    "#ctypedef numpy.float64_t FTYPE_t\n",
    "ctypedef fused I_OR_F_t:\n",
    "    numpy.int64_t\n",
    "    numpy.float64_t\n",
    "\n",
    "@cython.boundscheck(False)\n",
    "@cython.wraparound(False)\n",
    "\n",
    "def cy_fused_sum(numpy.ndarray[I_OR_F_t, ndim=1] data):\n",
    "    cdef I_OR_F_t s = 0\n",
    "    cdef int n, N = len(data)\n",
    "    for n in range(N):\n",
    "        s += data[n]\n",
    "    return s"
   ]
  },
  {
   "cell_type": "code",
   "execution_count": 53,
   "metadata": {},
   "outputs": [
    {
     "data": {
      "text/plain": [
       "15.0"
      ]
     },
     "execution_count": 53,
     "metadata": {},
     "output_type": "execute_result"
    }
   ],
   "source": [
    "# now we should have code that runs on both floating-point & integer data:\n",
    "cy_fused_sum(np.array([1.0, 2.0, 3.0, 4.0, 5.0]))"
   ]
  },
  {
   "cell_type": "code",
   "execution_count": 54,
   "metadata": {},
   "outputs": [
    {
     "data": {
      "text/plain": [
       "15"
      ]
     },
     "execution_count": 54,
     "metadata": {},
     "output_type": "execute_result"
    }
   ],
   "source": [
    "cy_fused_sum(np.array([1, 2, 3, 4, 5]))"
   ]
  },
  {
   "cell_type": "markdown",
   "metadata": {},
   "source": [
    "* Final example, using Julia fractal algorithm\n",
    "* Again using data type declarations & array range disabling decorators\n",
    "* Now using Cython __inline__ keyword to define a function.\n",
    "* __cdef__ keyword\n",
    "* __cpdef__: "
   ]
  },
  {
   "cell_type": "code",
   "execution_count": 57,
   "metadata": {},
   "outputs": [],
   "source": [
    "%%cython\n",
    "cimport numpy\n",
    "cimport cython\n",
    "\n",
    "cdef inline double abs2(double complex z):\n",
    "    return z.real * z.real + z.imag * z.imag\n",
    "\n",
    "@cython.boundscheck(False)\n",
    "@cython.wraparound(False)\n",
    "\n",
    "def cy_julia_fractal(numpy.ndarray[numpy.float64_t, ndim=1] z_re,\n",
    "                     numpy.ndarray[numpy.float64_t, ndim=1] z_im,\n",
    "                     numpy.ndarray[numpy.int64_t, ndim=2] j):\n",
    "    cdef int m, n, t, M = z_re.size, N = z_im.size\n",
    "    cdef double complex z\n",
    "    for m in range(M):\n",
    "        for n in range(N):\n",
    "                z = z_re[m] + 1.0j * z_im[n]\n",
    "                for t in range(256):\n",
    "                    z = z**2 - 0.05 + 0.68j\n",
    "                    if abs2(z) > 4.0:\n",
    "                        j[m,n] = t\n",
    "                        break"
   ]
  },
  {
   "cell_type": "code",
   "execution_count": 58,
   "metadata": {},
   "outputs": [
    {
     "name": "stdout",
     "output_type": "stream",
     "text": [
      "119 ms ± 36.9 µs per loop (mean ± std. dev. of 7 runs, 10 loops each)\n"
     ]
    }
   ],
   "source": [
    "N      = 1024\n",
    "j      = np.zeros((N,N), dtype=np.int64)\n",
    "z_real = np.linspace(-1.5,1.5,N)\n",
    "z_imag = np.linspace(-1.5,1.5,N)\n",
    "\n",
    "%timeit(cy_julia_fractal(z_real, z_imag, j))"
   ]
  },
  {
   "cell_type": "code",
   "execution_count": 59,
   "metadata": {},
   "outputs": [
    {
     "name": "stdout",
     "output_type": "stream",
     "text": [
      "331 ms ± 12.6 ms per loop (mean ± std. dev. of 7 runs, 1 loop each)\n"
     ]
    }
   ],
   "source": [
    "%timeit(jit_julia_fractal(z_real, z_imag, j))"
   ]
  },
  {
   "cell_type": "markdown",
   "metadata": {},
   "source": [
    "### Using Cython to wrap compiled C/C++ libraries\n",
    "* Below: calling acos function from std C library (math.h)\n",
    "* Use __cdef extern__ keyword to get function declarations."
   ]
  },
  {
   "cell_type": "code",
   "execution_count": 60,
   "metadata": {},
   "outputs": [],
   "source": [
    "%%cython\n",
    "cdef extern from \"math.h\":\n",
    "    double acos(double)\n",
    "    \n",
    "def cy_acos1(double x):\n",
    "    return acos(x)"
   ]
  },
  {
   "cell_type": "code",
   "execution_count": 61,
   "metadata": {},
   "outputs": [
    {
     "name": "stdout",
     "output_type": "stream",
     "text": [
      "81.4 ns ± 0.279 ns per loop (mean ± std. dev. of 7 runs, 10000000 loops each)\n"
     ]
    }
   ],
   "source": [
    "%timeit cy_acos1(0.5)"
   ]
  },
  {
   "cell_type": "markdown",
   "metadata": {},
   "source": [
    "* Cython already provides the __libc__ module to aid this use case:"
   ]
  },
  {
   "cell_type": "code",
   "execution_count": 62,
   "metadata": {},
   "outputs": [],
   "source": [
    "%%cython\n",
    "from libc.math cimport acos\n",
    "\n",
    "def cy_acos2(double x):\n",
    "    return acos(x)"
   ]
  },
  {
   "cell_type": "code",
   "execution_count": 63,
   "metadata": {},
   "outputs": [
    {
     "name": "stdout",
     "output_type": "stream",
     "text": [
      "90.5 ns ± 0.916 ns per loop (mean ± std. dev. of 7 runs, 10000000 loops each)\n"
     ]
    }
   ],
   "source": [
    "%timeit cy_acos2(0.5)"
   ]
  },
  {
   "cell_type": "markdown",
   "metadata": {},
   "source": [
    "* for comparison to NumPy:"
   ]
  },
  {
   "cell_type": "code",
   "execution_count": 64,
   "metadata": {},
   "outputs": [
    {
     "name": "stdout",
     "output_type": "stream",
     "text": [
      "1.07 µs ± 2.42 ns per loop (mean ± std. dev. of 7 runs, 1000000 loops each)\n"
     ]
    }
   ],
   "source": [
    "from numpy import arccos\n",
    "%timeit arccos(0.5)"
   ]
  },
  {
   "cell_type": "code",
   "execution_count": 65,
   "metadata": {},
   "outputs": [
    {
     "name": "stdout",
     "output_type": "stream",
     "text": [
      "88.8 ns ± 0.263 ns per loop (mean ± std. dev. of 7 runs, 10000000 loops each)\n"
     ]
    }
   ],
   "source": [
    "from math import acos\n",
    "%timeit acos(0.5)"
   ]
  },
  {
   "cell_type": "code",
   "execution_count": null,
   "metadata": {},
   "outputs": [],
   "source": []
  }
 ],
 "metadata": {
  "kernelspec": {
   "display_name": "Python 3",
   "language": "python",
   "name": "python3"
  },
  "language_info": {
   "codemirror_mode": {
    "name": "ipython",
    "version": 3
   },
   "file_extension": ".py",
   "mimetype": "text/x-python",
   "name": "python",
   "nbconvert_exporter": "python",
   "pygments_lexer": "ipython3",
   "version": "3.6.5"
  }
 },
 "nbformat": 4,
 "nbformat_minor": 2
}
